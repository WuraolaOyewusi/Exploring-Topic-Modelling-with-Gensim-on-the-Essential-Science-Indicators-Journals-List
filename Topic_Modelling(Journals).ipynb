{
  "nbformat": 4,
  "nbformat_minor": 0,
  "metadata": {
    "colab": {
      "name": "Topic Modelling(Journals).ipynb",
      "version": "0.3.2",
      "provenance": [],
      "include_colab_link": true
    },
    "kernelspec": {
      "name": "python3",
      "display_name": "Python 3"
    },
    "accelerator": "GPU"
  },
  "cells": [
    {
      "cell_type": "markdown",
      "metadata": {
        "id": "view-in-github",
        "colab_type": "text"
      },
      "source": [
        "<a href=\"https://colab.research.google.com/github/WuraolaOyewusi/Exploring-Topic-Modelling-with-Gensim-on-the-Essential-Science-Indicators-Journals-List/blob/master/Topic_Modelling(Journals).ipynb\" target=\"_parent\"><img src=\"https://colab.research.google.com/assets/colab-badge.svg\" alt=\"Open In Colab\"/></a>"
      ]
    },
    {
      "metadata": {
        "id": "e2YkNflzwwci",
        "colab_type": "code",
        "colab": {}
      },
      "cell_type": "code",
      "source": [
        "import pandas as pd"
      ],
      "execution_count": 0,
      "outputs": []
    },
    {
      "metadata": {
        "id": "DdaY9tXRWI8D",
        "colab_type": "code",
        "colab": {}
      },
      "cell_type": "code",
      "source": [
        "journals_full= pd.read_excel('http://ipscience-help.thomsonreuters.com/incitesLiveESI/10678-TRS/version/default/part/AttachmentData/data/ESIMasterJournalList-122018.xlsx')"
      ],
      "execution_count": 0,
      "outputs": []
    },
    {
      "metadata": {
        "id": "PPgwctTNWPtV",
        "colab_type": "code",
        "colab": {
          "base_uri": "https://localhost:8080/",
          "height": 195
        },
        "outputId": "b55e2fcd-e4be-468b-c59b-98ad0eab8409"
      },
      "cell_type": "code",
      "source": [
        "journals_full.head()"
      ],
      "execution_count": 18,
      "outputs": [
        {
          "output_type": "execute_result",
          "data": {
            "text/html": [
              "<div>\n",
              "<style scoped>\n",
              "    .dataframe tbody tr th:only-of-type {\n",
              "        vertical-align: middle;\n",
              "    }\n",
              "\n",
              "    .dataframe tbody tr th {\n",
              "        vertical-align: top;\n",
              "    }\n",
              "\n",
              "    .dataframe thead th {\n",
              "        text-align: right;\n",
              "    }\n",
              "</style>\n",
              "<table border=\"1\" class=\"dataframe\">\n",
              "  <thead>\n",
              "    <tr style=\"text-align: right;\">\n",
              "      <th></th>\n",
              "      <th>Full title</th>\n",
              "      <th>Title29</th>\n",
              "      <th>Title20</th>\n",
              "      <th>ISSN</th>\n",
              "      <th>EISSN</th>\n",
              "      <th>Category name</th>\n",
              "    </tr>\n",
              "  </thead>\n",
              "  <tbody>\n",
              "    <tr>\n",
              "      <th>0</th>\n",
              "      <td>2D Materials</td>\n",
              "      <td>2D MATER</td>\n",
              "      <td>2D MATER</td>\n",
              "      <td>2053-1583</td>\n",
              "      <td>2053-1583</td>\n",
              "      <td>MATERIALS SCIENCE</td>\n",
              "    </tr>\n",
              "    <tr>\n",
              "      <th>1</th>\n",
              "      <td>3 Biotech</td>\n",
              "      <td>3 BIOTECH</td>\n",
              "      <td>3 BIOTECH</td>\n",
              "      <td>2190-572X</td>\n",
              "      <td>2190-5738</td>\n",
              "      <td>BIOLOGY &amp; BIOCHEMISTRY</td>\n",
              "    </tr>\n",
              "    <tr>\n",
              "      <th>2</th>\n",
              "      <td>3D Printing and Additive Manufacturing</td>\n",
              "      <td>3D PRINT ADDIT MANUF</td>\n",
              "      <td>3D PRINT ADDIT MANUF</td>\n",
              "      <td>2329-7662</td>\n",
              "      <td>2329-7670</td>\n",
              "      <td>ENGINEERING</td>\n",
              "    </tr>\n",
              "    <tr>\n",
              "      <th>3</th>\n",
              "      <td>4OR-A Quarterly Journal of Operations Research</td>\n",
              "      <td>4OR Q J OPER RES</td>\n",
              "      <td>4OR-Q J OPER RES</td>\n",
              "      <td>1619-4500</td>\n",
              "      <td>1614-2411</td>\n",
              "      <td>ENGINEERING</td>\n",
              "    </tr>\n",
              "    <tr>\n",
              "      <th>4</th>\n",
              "      <td>AAPG BULLETIN</td>\n",
              "      <td>AAPG BULL</td>\n",
              "      <td>AAPG BULL</td>\n",
              "      <td>0149-1423</td>\n",
              "      <td>1558-9153</td>\n",
              "      <td>GEOSCIENCES</td>\n",
              "    </tr>\n",
              "  </tbody>\n",
              "</table>\n",
              "</div>"
            ],
            "text/plain": [
              "                                       Full title               Title29  \\\n",
              "0                                    2D Materials              2D MATER   \n",
              "1                                       3 Biotech             3 BIOTECH   \n",
              "2          3D Printing and Additive Manufacturing  3D PRINT ADDIT MANUF   \n",
              "3  4OR-A Quarterly Journal of Operations Research      4OR Q J OPER RES   \n",
              "4                                   AAPG BULLETIN             AAPG BULL   \n",
              "\n",
              "                Title20       ISSN      EISSN           Category name  \n",
              "0              2D MATER  2053-1583  2053-1583       MATERIALS SCIENCE  \n",
              "1             3 BIOTECH  2190-572X  2190-5738  BIOLOGY & BIOCHEMISTRY  \n",
              "2  3D PRINT ADDIT MANUF  2329-7662  2329-7670             ENGINEERING  \n",
              "3      4OR-Q J OPER RES  1619-4500  1614-2411             ENGINEERING  \n",
              "4             AAPG BULL  0149-1423  1558-9153             GEOSCIENCES  "
            ]
          },
          "metadata": {
            "tags": []
          },
          "execution_count": 18
        }
      ]
    },
    {
      "metadata": {
        "id": "UqFXLV6sISOh",
        "colab_type": "code",
        "colab": {}
      },
      "cell_type": "code",
      "source": [
        "journals = journals_full[['Full title']].copy()                   #Copy the column of interest 'Full title' into a different dataframe"
      ],
      "execution_count": 0,
      "outputs": []
    },
    {
      "metadata": {
        "id": "-B90sz65KyQg",
        "colab_type": "code",
        "colab": {}
      },
      "cell_type": "code",
      "source": [
        "journals.columns = ['Full title']\n"
      ],
      "execution_count": 0,
      "outputs": []
    },
    {
      "metadata": {
        "id": "Flr5esGMLumJ",
        "colab_type": "code",
        "colab": {
          "base_uri": "https://localhost:8080/",
          "height": 195
        },
        "outputId": "5bafc55b-1ac3-42c8-c735-f714f51a441a"
      },
      "cell_type": "code",
      "source": [
        "journals.head()"
      ],
      "execution_count": 28,
      "outputs": [
        {
          "output_type": "execute_result",
          "data": {
            "text/html": [
              "<div>\n",
              "<style scoped>\n",
              "    .dataframe tbody tr th:only-of-type {\n",
              "        vertical-align: middle;\n",
              "    }\n",
              "\n",
              "    .dataframe tbody tr th {\n",
              "        vertical-align: top;\n",
              "    }\n",
              "\n",
              "    .dataframe thead th {\n",
              "        text-align: right;\n",
              "    }\n",
              "</style>\n",
              "<table border=\"1\" class=\"dataframe\">\n",
              "  <thead>\n",
              "    <tr style=\"text-align: right;\">\n",
              "      <th></th>\n",
              "      <th>Full title</th>\n",
              "    </tr>\n",
              "  </thead>\n",
              "  <tbody>\n",
              "    <tr>\n",
              "      <th>0</th>\n",
              "      <td>2D Materials</td>\n",
              "    </tr>\n",
              "    <tr>\n",
              "      <th>1</th>\n",
              "      <td>3 Biotech</td>\n",
              "    </tr>\n",
              "    <tr>\n",
              "      <th>2</th>\n",
              "      <td>3D Printing and Additive Manufacturing</td>\n",
              "    </tr>\n",
              "    <tr>\n",
              "      <th>3</th>\n",
              "      <td>4OR-A Quarterly Journal of Operations Research</td>\n",
              "    </tr>\n",
              "    <tr>\n",
              "      <th>4</th>\n",
              "      <td>AAPG BULLETIN</td>\n",
              "    </tr>\n",
              "  </tbody>\n",
              "</table>\n",
              "</div>"
            ],
            "text/plain": [
              "                                       Full title\n",
              "0                                    2D Materials\n",
              "1                                       3 Biotech\n",
              "2          3D Printing and Additive Manufacturing\n",
              "3  4OR-A Quarterly Journal of Operations Research\n",
              "4                                   AAPG BULLETIN"
            ]
          },
          "metadata": {
            "tags": []
          },
          "execution_count": 28
        }
      ]
    },
    {
      "metadata": {
        "id": "oqxLzlD3N0vg",
        "colab_type": "code",
        "colab": {}
      },
      "cell_type": "code",
      "source": [
        "from gensim.utils import tokenize"
      ],
      "execution_count": 0,
      "outputs": []
    },
    {
      "metadata": {
        "id": "3riXUqdHIwcS",
        "colab_type": "code",
        "colab": {}
      },
      "cell_type": "code",
      "source": [
        "unwanted =[\"Journal\" ,\"journal\"]\n",
        "def remove_unwanted(text):                                          #DEfine a simple function to filter out the word 'Journal' since it is contained in almost every title\n",
        "  return [word for word in tokenize(text) if word not in unwanted]\n",
        "  "
      ],
      "execution_count": 0,
      "outputs": []
    },
    {
      "metadata": {
        "id": "1XI1iuYyKd3S",
        "colab_type": "code",
        "colab": {
          "base_uri": "https://localhost:8080/",
          "height": 34
        },
        "outputId": "8e92da6c-5d57-4638-ee84-71d59952b9c2"
      },
      "cell_type": "code",
      "source": [
        "test = 'abike is a journal Journal'                                #Testing defined function,it works!!!!!\n",
        "remove_unwanted(test)"
      ],
      "execution_count": 31,
      "outputs": [
        {
          "output_type": "execute_result",
          "data": {
            "text/plain": [
              "['abike', 'is', 'a']"
            ]
          },
          "metadata": {
            "tags": []
          },
          "execution_count": 31
        }
      ]
    },
    {
      "metadata": {
        "id": "8nMmdlgPIiKb",
        "colab_type": "code",
        "colab": {}
      },
      "cell_type": "code",
      "source": [
        "journals['Full title'] = journals['Full title'].apply(lambda x: remove_unwanted(x.lower()))         #apply lambda function to remove unwanted words"
      ],
      "execution_count": 0,
      "outputs": []
    },
    {
      "metadata": {
        "id": "or93uN1-OnU2",
        "colab_type": "code",
        "colab": {
          "base_uri": "https://localhost:8080/",
          "height": 195
        },
        "outputId": "e207173d-dd46-4fca-c76e-3e4d6ae57519"
      },
      "cell_type": "code",
      "source": [
        "journals.tail()"
      ],
      "execution_count": 33,
      "outputs": [
        {
          "output_type": "execute_result",
          "data": {
            "text/html": [
              "<div>\n",
              "<style scoped>\n",
              "    .dataframe tbody tr th:only-of-type {\n",
              "        vertical-align: middle;\n",
              "    }\n",
              "\n",
              "    .dataframe tbody tr th {\n",
              "        vertical-align: top;\n",
              "    }\n",
              "\n",
              "    .dataframe thead th {\n",
              "        text-align: right;\n",
              "    }\n",
              "</style>\n",
              "<table border=\"1\" class=\"dataframe\">\n",
              "  <thead>\n",
              "    <tr style=\"text-align: right;\">\n",
              "      <th></th>\n",
              "      <th>Full title</th>\n",
              "    </tr>\n",
              "  </thead>\n",
              "  <tbody>\n",
              "    <tr>\n",
              "      <th>11722</th>\n",
              "      <td>[zoosystema]</td>\n",
              "    </tr>\n",
              "    <tr>\n",
              "      <th>11723</th>\n",
              "      <td>[zootaxa]</td>\n",
              "    </tr>\n",
              "    <tr>\n",
              "      <th>11724</th>\n",
              "      <td>[zuchtungskunde]</td>\n",
              "    </tr>\n",
              "    <tr>\n",
              "      <th>11725</th>\n",
              "      <td>[zygon]</td>\n",
              "    </tr>\n",
              "    <tr>\n",
              "      <th>11726</th>\n",
              "      <td>[zygote]</td>\n",
              "    </tr>\n",
              "  </tbody>\n",
              "</table>\n",
              "</div>"
            ],
            "text/plain": [
              "             Full title\n",
              "11722      [zoosystema]\n",
              "11723         [zootaxa]\n",
              "11724  [zuchtungskunde]\n",
              "11725           [zygon]\n",
              "11726          [zygote]"
            ]
          },
          "metadata": {
            "tags": []
          },
          "execution_count": 33
        }
      ]
    },
    {
      "metadata": {
        "id": "HWls3-vjOu8S",
        "colab_type": "code",
        "colab": {}
      },
      "cell_type": "code",
      "source": [
        "journals['Full title'] = journals['Full title'].apply(lambda x: (', '.join(x)))                    #convert list back into string"
      ],
      "execution_count": 0,
      "outputs": []
    },
    {
      "metadata": {
        "id": "_Hpf7JFKRdLN",
        "colab_type": "code",
        "colab": {
          "base_uri": "https://localhost:8080/",
          "height": 195
        },
        "outputId": "6d2657db-c51e-4aaa-f5b4-8a9e6c9803a8"
      },
      "cell_type": "code",
      "source": [
        "journals.head()"
      ],
      "execution_count": 35,
      "outputs": [
        {
          "output_type": "execute_result",
          "data": {
            "text/html": [
              "<div>\n",
              "<style scoped>\n",
              "    .dataframe tbody tr th:only-of-type {\n",
              "        vertical-align: middle;\n",
              "    }\n",
              "\n",
              "    .dataframe tbody tr th {\n",
              "        vertical-align: top;\n",
              "    }\n",
              "\n",
              "    .dataframe thead th {\n",
              "        text-align: right;\n",
              "    }\n",
              "</style>\n",
              "<table border=\"1\" class=\"dataframe\">\n",
              "  <thead>\n",
              "    <tr style=\"text-align: right;\">\n",
              "      <th></th>\n",
              "      <th>Full title</th>\n",
              "    </tr>\n",
              "  </thead>\n",
              "  <tbody>\n",
              "    <tr>\n",
              "      <th>0</th>\n",
              "      <td>d, materials</td>\n",
              "    </tr>\n",
              "    <tr>\n",
              "      <th>1</th>\n",
              "      <td>biotech</td>\n",
              "    </tr>\n",
              "    <tr>\n",
              "      <th>2</th>\n",
              "      <td>d, printing, and, additive, manufacturing</td>\n",
              "    </tr>\n",
              "    <tr>\n",
              "      <th>3</th>\n",
              "      <td>or, a, quarterly, of, operations, research</td>\n",
              "    </tr>\n",
              "    <tr>\n",
              "      <th>4</th>\n",
              "      <td>aapg, bulletin</td>\n",
              "    </tr>\n",
              "  </tbody>\n",
              "</table>\n",
              "</div>"
            ],
            "text/plain": [
              "                                   Full title\n",
              "0                                d, materials\n",
              "1                                     biotech\n",
              "2   d, printing, and, additive, manufacturing\n",
              "3  or, a, quarterly, of, operations, research\n",
              "4                              aapg, bulletin"
            ]
          },
          "metadata": {
            "tags": []
          },
          "execution_count": 35
        }
      ]
    },
    {
      "metadata": {
        "id": "IqxzOGboRGW8",
        "colab_type": "code",
        "colab": {}
      },
      "cell_type": "code",
      "source": [
        "from gensim.parsing.preprocessing import preprocess_string,strip_tags,strip_punctuation,strip_numeric,remove_stopwords"
      ],
      "execution_count": 0,
      "outputs": []
    },
    {
      "metadata": {
        "id": "anUHIPeFJBWp",
        "colab_type": "text"
      },
      "cell_type": "markdown",
      "source": [
        "Gensim has a module to preprocess string but I will filter out functions I do not want from the module and apply"
      ]
    },
    {
      "metadata": {
        "id": "ui8VFCjT6Ro4",
        "colab_type": "code",
        "colab": {}
      },
      "cell_type": "code",
      "source": [
        "filters=[lambda x: x.lower(),strip_tags,strip_punctuation,strip_numeric,remove_stopwords]"
      ],
      "execution_count": 0,
      "outputs": []
    },
    {
      "metadata": {
        "id": "ls-5UtxjRH3g",
        "colab_type": "code",
        "colab": {}
      },
      "cell_type": "code",
      "source": [
        "journals['Full title'] = journals['Full title'].apply(lambda x: preprocess_string(x,filters))"
      ],
      "execution_count": 0,
      "outputs": []
    },
    {
      "metadata": {
        "id": "06AdQgiVQuYT",
        "colab_type": "code",
        "colab": {
          "base_uri": "https://localhost:8080/",
          "height": 195
        },
        "outputId": "673fc952-e150-4905-eee6-984c2cc8177b"
      },
      "cell_type": "code",
      "source": [
        "journals.head()                                                                                   #check if the preprocessing works, it works"
      ],
      "execution_count": 39,
      "outputs": [
        {
          "output_type": "execute_result",
          "data": {
            "text/html": [
              "<div>\n",
              "<style scoped>\n",
              "    .dataframe tbody tr th:only-of-type {\n",
              "        vertical-align: middle;\n",
              "    }\n",
              "\n",
              "    .dataframe tbody tr th {\n",
              "        vertical-align: top;\n",
              "    }\n",
              "\n",
              "    .dataframe thead th {\n",
              "        text-align: right;\n",
              "    }\n",
              "</style>\n",
              "<table border=\"1\" class=\"dataframe\">\n",
              "  <thead>\n",
              "    <tr style=\"text-align: right;\">\n",
              "      <th></th>\n",
              "      <th>Full title</th>\n",
              "    </tr>\n",
              "  </thead>\n",
              "  <tbody>\n",
              "    <tr>\n",
              "      <th>0</th>\n",
              "      <td>[d, materials]</td>\n",
              "    </tr>\n",
              "    <tr>\n",
              "      <th>1</th>\n",
              "      <td>[biotech]</td>\n",
              "    </tr>\n",
              "    <tr>\n",
              "      <th>2</th>\n",
              "      <td>[d, printing, additive, manufacturing]</td>\n",
              "    </tr>\n",
              "    <tr>\n",
              "      <th>3</th>\n",
              "      <td>[quarterly, operations, research]</td>\n",
              "    </tr>\n",
              "    <tr>\n",
              "      <th>4</th>\n",
              "      <td>[aapg, bulletin]</td>\n",
              "    </tr>\n",
              "  </tbody>\n",
              "</table>\n",
              "</div>"
            ],
            "text/plain": [
              "                               Full title\n",
              "0                          [d, materials]\n",
              "1                               [biotech]\n",
              "2  [d, printing, additive, manufacturing]\n",
              "3       [quarterly, operations, research]\n",
              "4                        [aapg, bulletin]"
            ]
          },
          "metadata": {
            "tags": []
          },
          "execution_count": 39
        }
      ]
    },
    {
      "metadata": {
        "id": "fHdwOMcp997O",
        "colab_type": "code",
        "colab": {}
      },
      "cell_type": "code",
      "source": [
        "from gensim.corpora.dictionary import Dictionary"
      ],
      "execution_count": 0,
      "outputs": []
    },
    {
      "metadata": {
        "id": "U4eX_Qxe-Gf9",
        "colab_type": "code",
        "colab": {}
      },
      "cell_type": "code",
      "source": [
        "journals_dictionary = Dictionary(journals['Full title'])"
      ],
      "execution_count": 0,
      "outputs": []
    },
    {
      "metadata": {
        "id": "7BEqSVoPUYJN",
        "colab_type": "code",
        "colab": {
          "base_uri": "https://localhost:8080/",
          "height": 54
        },
        "outputId": "2a713af3-2f1d-489e-95bb-95f98080cf7e"
      },
      "cell_type": "code",
      "source": [
        "print(journals_dictionary.token2id)"
      ],
      "execution_count": 42,
      "outputs": [
        {
          "output_type": "stream",
          "text": [
            "{'d': 0, 'materials': 1, 'biotech': 2, 'additive': 3, 'manufacturing': 4, 'printing': 5, 'operations': 6, 'quarterly': 7, 'research': 8, 'aapg': 9, 'bulletin': 10, 'aaps': 11, 'pharmscitech': 12, 'aatcc': 13, 'review': 14, 'abacus': 15, 'accounting': 16, 'business': 17, 'finance': 18, 'studies': 19, 'abdominal': 20, 'radiology': 21, 'abhandlungen': 22, 'aus': 23, 'dem': 24, 'der': 25, 'hamburg': 26, 'mathematischen': 27, 'seminar': 28, 'universitat': 29, 'abstracts': 30, 'american': 31, 'chemical': 32, 'papers': 33, 'society': 34, 'academia': 35, 'administracion': 36, 'latinoamericana': 37, 'revista': 38, 'academic': 39, 'emergency': 40, 'medicine': 41, 'pediatrics': 42, 'psychiatry': 43, 'academy': 44, 'annals': 45, 'management': 46, 'education': 47, 'learning': 48, 'perspectives': 49, 'acarologia': 50, 'accident': 51, 'analysis': 52, 'prevention': 53, 'accountability': 54, 'assurance': 55, 'policies': 56, 'quality': 57, 'auditing': 58, 'forum': 59, 'horizons': 60, 'organizations': 61, 'accounts': 62, 'accreditation': 63, 'aci': 64, 'structural': 65, 'acm': 66, 'computing': 67, 'surveys': 68, 'cultural': 69, 'heritage': 70, 'emerging': 71, 'systems': 72, 'technologies': 73, 'communication': 74, 'sigcomm': 75, 'algorithms': 76, 'transactions': 77, 'applied': 78, 'perception': 79, 'architecture': 80, 'code': 81, 'optimization': 82, 'asian': 83, 'information': 84, 'language': 85, 'low': 86, 'processing': 87, 'resource': 88, 'adaptive': 89, 'autonomous': 90, 'computational': 91, 'logic': 92, 'human': 93, 'interaction': 94, 'database': 95, 'automation': 96, 'design': 97, 'electronic': 98, 'embedded': 99, 'graphics': 100, 'intelligent': 101, 'technology': 102, 'internet': 103, 'data': 104, 'discovery': 105, 'knowledge': 106, 'mathematical': 107, 'software': 108, 'modeling': 109, 'simulation': 110, 'applications': 111, 'communications': 112, 'multimedia': 113, 'privacy': 114, 'security': 115, 'languages': 116, 'programming': 117, 'reconfigurable': 118, 'networks': 119, 'sensor': 120, 'engineering': 121, 'methodology': 122, 'storage': 123, 'web': 124, 'acoustical': 125, 'physics': 126, 'acoustics': 127, 'australia': 128, 'cultures': 129, 'acs': 130, 'interfaces': 131, 'biomaterials': 132, 'science': 133, 'catalysis': 134, 'central': 135, 'biology': 136, 'neuroscience': 137, 'combinatorial': 138, 'chemistry': 139, 'earth': 140, 'space': 141, 'energy': 142, 'letters': 143, 'diseases': 144, 'infectious': 145, 'macro': 146, 'medicinal': 147, 'acsms': 148, 'fitness': 149, 'health': 150, 'nano': 151, 'omega': 152, 'photonics': 153, 'sensors': 154, 'sustainable': 155, 'synthetic': 156, 'acta': 157, 'acustica': 158, 'united': 159, 'adriatica': 160, 'agriculturae': 161, 'animal': 162, 'scandinavica': 163, 'section': 164, 'b': 165, 'plant': 166, 'soil': 167, 'alimentaria': 168, 'amazonica': 169, 'anaesthesiologica': 170, 'applicandae': 171, 'mathematicae': 172, 'arithmetica': 173, 'astronautica': 174, 'astronomica': 175, 'biochimica': 176, 'biophysica': 177, 'et': 178, 'sinica': 179, 'polonica': 180, 'bioethica': 181, 'biologica': 182, 'colombiana': 183, 'botanica': 184, 'cracoviensia': 185, 'series': 186, 'hungarica': 187, 'biomaterialia': 188, 'bioquimica': 189, 'clinica': 190, 'biotheoretica': 191, 'brasilica': 192, 'croatica': 193, 'mexicana': 194, 'cardiologica': 195, 'carsologica': 196, 'chimica': 197, 'slovenica': 198, 'chiropterologica': 199, 'cechoslovaca': 200, 'chirurgiae': 201, 'orthopaedicae': 202, 'traumatologiae': 203, 'belgica': 204, 'chirurgica': 205, 'chromatographica': 206, 'brasileira': 207, 'cirurgica': 208, 'advances': 209, 'crystallographica': 210, 'foundation': 211, 'crystal': 212, 'c': 213, 'f': 214, 'dermato': 215, 'venereologica': 216, 'dermatovenerologica': 217, 'diabetologica': 218, 'bucharest': 219, 'endocrinologica': 220, 'entomologica': 221, 'musei': 222, 'nationalis': 223, 'pragae': 224, 'ethologica': 225, 'enterologica': 226, 'gastro': 227, 'geodaetica': 228, 'geophysica': 229, 'geodynamica': 230, 'geomaterialia': 231, 'geografski': 232, 'geographica': 233, 'zbornik': 234, 'geologica': 235, 'edition': 236, 'english': 237, 'geotechnica': 238, 'haematologica': 239, 'herpetologica': 240, 'histochemica': 241, 'cytochemica': 242, 'histriae': 243, 'ichthyologica': 244, 'piscatoria': 245, 'informatica': 246, 'linguistica': 247, 'materialia': 248, 'mathematica': 249, 'applicatae': 250, 'scientia': 251, 'mechanica': 252, 'solida': 253, 'medica': 254, 'mediterranea': 255, 'okayama': 256, 'portuguesa': 257, 'metallurgica': 258, 'immunologica': 259, 'microbiologica': 260, 'microscopica': 261, 'montanistica': 262, 'slovaca': 263, 'naturae': 264, 'experimentalis': 265, 'neurobiologiae': 266, 'neurochirurgica': 267, 'neurologica': 268, 'neuropathologica': 269, 'neuropsychiatrica': 270, 'numerica': 271, 'gynecologica': 272, 'obstetricia': 273, 'oceanologica': 274, 'odontologica': 275, 'ecology': 276, 'international': 277, 'oecologica': 278, 'oeconomica': 279, 'bioengineering': 280, 'biomechanics': 281, 'oncologica': 282, 'ophthalmologica': 283, 'ornithologica': 284, 'orthopaedica': 285, 'traumatologica': 286, 'turcica': 287, 'ortopedica': 288, 'laryngologica': 289, 'oto': 290, 'italica': 291, 'otorhinolaryngologica': 292, 'paediatrica': 293, 'palaeontologica': 294, 'parasitologica': 295, 'enfermagem': 296, 'paulista': 297, 'petrologica': 298, 'pharmaceutica': 299, 'pharmacologica': 300, 'physica': 301, 'physico': 302, 'physiologiae': 303, 'plantarum': 304, 'physiologica': 305, 'geobotanica': 306, 'phytotaxonomica': 307, 'politica': 308, 'poloniae': 309, 'polymerica': 310, 'polytechnica': 311, 'protozoologica': 312, 'psychiatrica': 313, 'psychologica': 314, 'radiologica': 315, 'reumatologica': 316, 'scientiae': 317, 'veterinariae': 318, 'agronomy': 319, 'scientiarum': 320, 'cultus': 321, 'hortorum': 322, 'polonorum': 323, 'actas': 324, 'espanolas': 325, 'psiquiatria': 326, 'botanicorum': 327, 'societatis': 328, 'sociologica': 329, 'urologicas': 330, 'tropica': 331, 'beograd': 332, 'veterinaria': 333, 'brno': 334, 'virologica': 335, 'academiae': 336, 'hungaricae': 337, 'zoologica': 338, 'bulgarica': 339, 'actes': 340, 'en': 341, 'la': 342, 'recherche': 343, 'sciences': 344, 'sociales': 345, 'action': 346, 'active': 347, 'higher': 348, 'acupuncture': 349, 'electro': 350, 'therapeutics': 351, 'adansonia': 352, 'activity': 353, 'adapted': 354, 'physical': 355, 'behavior': 356, 'addiction': 357, 'theory': 358, 'addictive': 359, 'behaviors': 360, 'ad': 361, 'hoc': 362, 'wireless': 363, 'adicciones': 364, 'adipocyte': 365, 'administration': 366, 'mental': 367, 'policy': 368, 'services': 369, 'administrative': 370, 'law': 371, 'adsorption': 372, 'adult': 373, 'advanced': 374, 'composite': 375, 'composites': 376, 'delivery': 377, 'drug': 378, 'reviews': 379, 'informatics': 380, 'functional': 381, 'healthcare': 382, 'processes': 383, 'nonlinear': 384, 'optical': 385, 'powder': 386, 'robotics': 387, 'construction': 388, 'steel': 389, 'synthesis': 390, 'anatomic': 391, 'pathology': 392, 'anatomy': 393, 'cell': 394, 'embryology': 395, 'ceramics': 396, 'algebras': 397, 'clifford': 398, 'mathematics': 399, 'mechanics': 400, 'microbiology': 401, 'probability': 402, 'astronomy': 403, 'atmospheric': 404, 'atomic': 405, 'molecular': 406, 'biochemical': 407, 'biotechnology': 408, 'botanical': 409, 'calculus': 410, 'variations': 411, 'cancer': 412, 'biochemistry': 413, 'carbohydrate': 414, 'cardiology': 415, 'cement': 416, 'child': 417, 'development': 418, 'chromatography': 419, 'chronic': 420, 'disease': 421, 'kidney': 422, 'civil': 423, 'clinical': 424, 'experimental': 425, 'cognitive': 426, 'psychology': 427, 'colloid': 428, 'interface': 429, 'complex': 430, 'computers': 431, 'concrete': 432, 'condensed': 433, 'matter': 434, 'classification': 435, 'difference': 436, 'equations': 437, 'differential': 438, 'ecological': 439, 'electrical': 440, 'social': 441, 'genetics': 442, 'geometry': 443, 'geophysics': 444, 'heterocyclic': 445, 'high': 446, 'immunology': 447, 'inorganic': 448, 'insect': 449, 'physiology': 450, 'course': 451, 'life': 452, 'marine': 453, 'mechanical': 454, 'medical': 455, 'meteorology': 456, 'microbial': 457, 'care': 458, 'neonatal': 459, 'nursing': 460, 'nutrition': 461, 'optics': 462, 'organometallic': 463, 'parasitology': 464, 'organic': 465, 'x': 466, 'polymer': 467, 'production': 468, 'protein': 469, 'psychosomatic': 470, 'quantum': 471, 'skin': 472, 'wound': 473, 'annual': 474, 'strategic': 475, 'theoretical': 476, 'therapy': 477, 'study': 478, 'virus': 479, 'resources': 480, 'water': 481, 'aeolian': 482, 'aequationes': 483, 'aerobiologia': 484, 'aeronautical': 485, 'aerosol': 486, 'air': 487, 'aerospace': 488, 'america': 489, 'performance': 490, 'aesthetic': 491, 'plastic': 492, 'surgery': 493, 'aeu': 494, 'electronics': 495, 'affilia': 496, 'women': 497, 'work': 498, 'afinidad': 499, 'africa': 500, 'affairs': 501, 'african': 502, 'africana': 503, 'africaine': 504, 'developpement': 505, 'revue': 506, 'entomology': 507, 'invertebrates': 508, 'journalism': 509, 'aquatic': 510, 'herpetology': 511, 'archives': 512, 'library': 513, 'forage': 514, 'range': 515, 'reproductive': 516, 'wildlife': 517, 'history': 518, 'natural': 519, 'zoology': 520, 'spectrum': 521, 'age': 522, 'ageing': 523, 'aggression': 524, 'violent': 525, 'aggressive': 526, 'aging': 527, 'male': 528, 'cognition': 529, 'neuropsychology': 530, 'agrarforschung': 531, 'schweiz': 532, 'agrekon': 533, 'agribusiness': 534, 'agricultural': 535, 'food': 536, 'forest': 537, 'economics': 538, 'ekonomika': 539, 'zemedelska': 540, 'agriculture': 541, 'values': 542, 'ecosystems': 543, 'environment': 544, 'agrochimica': 545, 'agrociencia': 546, 'agroecology': 547, 'agroforestry': 548, 'basel': 549, 'aiaa': 550, 'aibr': 551, 'antropologia': 552, 'iberoamericana': 553, 'aiche': 554, 'ai': 555, 'aids': 556, 'aspects': 557, 'hiv': 558, 'psychological': 559, 'socio': 560, 'patient': 561, 'stds': 562, 'retroviruses': 563, 'artificial': 564, 'edam': 565, 'intelligence': 566, 'magazine': 567, 'ain': 568, 'shams': 569, 'aip': 570, 'aircraft': 571, 'atmosphere': 572, 'ajar': 573, 'ajidd': 574, 'developmental': 575, 'disabilities': 576, 'intellectual': 577, 'aktuelle': 578, 'rheumatologie': 579, 'urologie': 580, 'alcheringa': 581, 'alcohol': 582, 'alcoholism': 583, 'current': 584, 'aldrichimica': 585, 'alea': 586, 'latin': 587, 'statistics': 588, 'alexandria': 589, 'algae': 590, 'algal': 591, 'biofuels': 592, 'biomass': 593, 'bioproducts': 594, 'algebra': 595, 'colloquium': 596, 'algebraic': 597, 'geometric': 598, 'topology': 599, 'number': 600, 'representation': 601, 'universalis': 602, 'algorithmica': 603, 'alimentary': 604, 'pharmacology': 605, 'allelopathy': 606, 'allergologia': 607, 'immunopathologia': 608, 'allergologie': 609, 'allergology': 610, 'allergy': 611, 'asthma': 612, 'proceedings': 613, 'allgemeine': 614, 'forst': 615, 'jagdzeitung': 616, 'und': 617, 'alpine': 618, 'botany': 619, 'alternatives': 620, 'alternative': 621, 'therapies': 622, 'altex': 623, 'experimentation': 624, 'alzheimer': 625, 'associated': 626, 'disorders': 627, 'alzheimers': 628, 'dementia': 629, 'ama': 630, 'asia': 631, 'mechanization': 632, 'amb': 633, 'express': 634, 'ambio': 635, 'ambix': 636, 'ameghiniana': 637, 'deaf': 638, 'anthropologist': 639, 'antiquity': 640, 'bankruptcy': 641, 'behavioral': 642, 'scientist': 643, 'teacher': 644, 'ceramic': 645, 'criminal': 646, 'economic': 647, 'macroeconomics': 648, 'microeconomics': 649, 'educational': 650, 'ethnologist': 651, 'family': 652, 'physician': 653, 'fern': 654, 'heart': 655, 'historical': 656, 'alaska': 657, 'indian': 658, 'native': 659, 'dementias': 660, 'audiology': 661, 'bioethics': 662, 'cardiovascular': 663, 'drugs': 664, 'chinese': 665, 'dermatology': 666, 'hypnosis': 667, 'oncology': 668, 'trials': 669, 'community': 670, 'comparative': 671, 'justice': 672, 'critical': 673, 'dentistry': 674, 'dermatopathology': 675, 'abuse': 676, 'sociology': 677, 'enology': 678, 'viticulture': 679, 'epidemiology': 680, 'evaluation': 681, 'forensic': 682, 'gastroenterology': 683, 'geriatric': 684, 'promotion': 685, 'pharmacy': 686, 'hematology': 687, 'hospice': 688, 'palliative': 689, 'hypertension': 690, 'industrial': 691, 'control': 692, 'infection': 693, 'managed': 694, 'neuropsychiatric': 695, 'seminars': 696, 'mens': 697, 'nephrology': 698, 'neuroradiology': 699, 'gynecology': 700, 'obstetrics': 701, 'occupational': 702, 'ophthalmology': 703, 'dentofacial': 704, 'orthodontics': 705, 'orthopedics': 706, 'orthopsychiatry': 707, 'otolaryngology': 708, 'perinatology': 709, 'pharmaceutical': 710, 'anthropology': 711, 'rehabilitation': 712, 'endocrinology': 713, 'metabolism': 714, 'gastrointestinal': 715, 'liver': 716, 'circulatory': 717, 'cellular': 718, 'lung': 719, 'integrative': 720, 'regulatory': 721, 'renal': 722, 'political': 723, 'potato': 724, 'preventive': 725, 'primatology': 726, 'public': 727, 'respiratory': 728, 'rhinology': 729, 'roentgenology': 730, 'speech': 731, 'sports': 732, 'surgical': 733, 'translational': 734, 'transplantation': 735, 'hygiene': 736, 'tropical': 737, 'veterinary': 738, 'addictions': 739, 'laboratory': 740, 'malacological': 741, 'monthly': 742, 'midland': 743, 'naturalist': 744, 'mineralogist': 745, 'museum': 746, 'novitates': 747, 'politics': 748, 'psychologist': 749, 'sociological': 750, 'statistician': 751, 'surgeon': 752, 'americas': 753, 'amfiteatru': 754, 'acids': 755, 'amino': 756, 'amme': 757, 'dergisi': 758, 'idaresi': 759, 'amphibian': 760, 'conservation': 761, 'reptile': 762, 'amphibia': 763, 'reptilia': 764, 'amyloid': 765, 'folding': 766, 'amyotrophic': 767, 'degeneration': 768, 'frontotemporal': 769, 'lateral': 770, 'sclerosis': 771, 'anadolu': 772, 'anatolian': 773, 'psikiyatri': 774, 'anaerobe': 775, 'anaesthesia': 776, 'intensive': 777, 'pain': 778, 'anaesthesist': 779, 'anais': 780, 'brasileiros': 781, 'dermatologia': 782, 'ciencias': 783, 'da': 784, 'ale': 785, 'analele': 786, 'constanta': 787, 'matematica': 788, 'ovidius': 789, 'seria': 790, 'stiintifice': 791, 'universitatii': 792, 'anales': 793, 'botanico': 794, 'del': 795, 'jardin': 796, 'madrid': 797, 'navarra': 798, 'sanitario': 799, 'sistema': 800, 'pediatria': 801, 'psicologia': 802, 'analog': 803, 'circuits': 804, 'integrated': 805, 'signal': 806, 'analyses': 807, 'issues': 808, 'metric': 809, 'spaces': 810, 'pde': 811, 'analyst': 812, 'analytica': 813, 'analytical': 814, 'bioanalytical': 815, 'cytopathology': 816, 'histopathology': 817, 'quantitative': 818, 'methods': 819, 'analytic': 820, 'anasthesiologie': 821, 'intensivmedizin': 822, 'notfallmedizin': 823, 'schmerztherapie': 824, 'anatomia': 825, 'embryologia': 826, 'histologia': 827, 'anatomical': 828, 'evolutionary': 829, 'record': 830, 'andamios': 831, 'andean': 832, 'geology': 833, 'andrologia': 834, 'andrology': 835, 'analgesia': 836, 'anesthesia': 837, 'anesthesiology': 838, 'angewandte': 839, 'chemie': 840, 'angiogenesis': 841, 'angiology': 842, 'angle': 843, 'orthodontist': 844, 'behaviour': 845, 'biodiversity': 846, 'cells': 847, 'feed': 848, 'reproduction': 849, 'animals': 850, 'reports': 851, 'welfare': 852, 'ankara': 853, 'fakultesi': 854, 'universitesi': 855, 'veteriner': 856, 'annalen': 857, 'physik': 858, 'annales': 859, 'fennicae': 860, 'botanici': 861, 'fennici': 862, 'biologie': 863, 'clinique': 864, 'chirurgie': 865, 'esthetique': 866, 'plastique': 867, 'dermatologie': 868, 'venereologie': 869, 'entomologique': 870, 'france': 871, 'societe': 872, 'limnologie': 873, 'limnology': 874, 'fourier': 875, 'institut': 876, 'l': 877, 'analyse': 878, 'henri': 879, 'lineaire': 880, 'non': 881, 'poincare': 882, 'probabilites': 883, 'statistiques': 884, 'endocrinologie': 885, 'paleontologie': 886, 'pathologie': 887, 'geophysicae': 888, 'medico': 889, 'psychologiques': 890, 'mathematici': 891, 'polonici': 892, 'ecole': 893, 'normale': 894, 'scientifiques': 895, 'superieure': 896, 'geologorum': 897, 'zoologici': 898, 'annali': 899, 'classe': 900, 'della': 901, 'di': 902, 'pisa': 903, 'scienze': 904, 'scuola': 905, 'superiore': 906, 'dell': 907, 'istituto': 908, 'sanita': 909, 'applicata': 910, 'ed': 911, 'pura': 912, 'chirurgia': 913, 'italiani': 914, 'singapore': 915, 'environmental': 916, 'anatomischer': 917, 'anzeiger': 918, 'biomedical': 919, 'cardiothoracic': 920, 'carnegie': 921, 'neurology': 922, 'antimicrobials': 923, 'combinatorics': 924, 'diagnostic': 925, 'dyslexia': 926, 'general': 927, 'glaciology': 928, 'global': 929, 'hepatology': 930, 'internal': 931, 'electrocardiology': 932, 'noninvasive': 933, 'nuclear': 934, 'laryngology': 935, 'otology': 936, 'pharmacotherapy': 937, 'pure': 938, 'regional': 939, 'saudi': 940, 'treatment': 941, 'telecommunications': 942, 'association': 943, 'geographers': 944, 'thoracic': 945, 'entomological': 946, 'institute': 947, 'statistical': 948, 'garden': 949, 'missouri': 950, 'new': 951, 'york': 952, 'rheumatic': 953, 'college': 954, 'england': 955, 'royal': 956, 'surgeons': 957, 'tourism': 958, 'vascular': 959, 'exposures': 960, 'annee': 961, 'psychologique': 962, 'nmr': 963, 'spectroscopy': 964, 'biosciences': 965, 'linguistics': 966, 'astrophysics': 967, 'biophysics': 968, 'biomolecular': 969, 'criminology': 970, 'planetary': 971, 'evolution': 972, 'systematics': 973, 'fluid': 974, 'genomics': 975, 'particle': 976, 'organizational': 977, 'mechanisms': 978, 'toxicology': 979, 'phytopathology': 980, 'application': 981, 'virology': 982, 'vision': 983, 'antarctic': 984, 'anthropocene': 985, 'anthropological': 986, 'notebooks': 987, 'anthropologie': 988, 'anthropologischer': 989, 'southern': 990, 'anthropos': 991, 'anthropozoologica': 992, 'anthrozoos': 993, 'agents': 994, 'anti': 995, 'anticancer': 996, 'corrosion': 997, 'antimicrobial': 998, 'chemotherapy': 999, 'resistance': 1000, 'antioxidants': 1001, 'redox': 1002, 'signaling': 1003, 'antipode': 1004, 'antitrust': 1005, 'antiviral': 1006, 'antonie': 1007, 'leeuwenhoek': 1008, 'van': 1009, 'anxiety': 1010, 'coping': 1011, 'stress': 1012, 'anziam': 1013, 'anz': 1014, 'aob': 1015, 'plants': 1016, 'aorn': 1017, 'aphasiology': 1018, 'apidologie': 1019, 'apl': 1020, 'apmis': 1021, 'apoptosis': 1022, 'appetite': 1023, 'appita': 1024, 'applicable': 1025, 'discrete': 1026, 'harmonic': 1027, 'biological': 1028, 'bionics': 1029, 'categorical': 1030, 'structures': 1031, 'clay': 1032, 'electromagnetics': 1033, 'ergonomics': 1034, 'geochemistry': 1035, 'geography': 1036, 'immunohistochemistry': 1037, 'morphology': 1038, 'magnetic': 1039, 'resonance': 1040, 'today': 1041, 'modelling': 1042, 'universities': 1043, 'computation': 1044, 'measurement': 1045, 'nanoscience': 1046, 'numerical': 1047, 'ocean': 1048, 'ontology': 1049, 'lasers': 1050, 'psycholinguistics': 1051, 'appliquee': 1052, 'internationale': 1053, 'psychologie': 1054, 'biofeedback': 1055, 'psychophysiology': 1056, 'isotopes': 1057, 'radiation': 1058, 'rheology': 1059, 'soft': 1060, 'spatial': 1061, 'industry': 1062, 'models': 1063, 'stochastic': 1064, 'surface': 1065, 'thermal': 1066, 'vegetation': 1067, 'aquacultural': 1068, 'aquaculture': 1069, 'interactions': 1070, 'freshwater': 1071, 'ecosystem': 1072, 'insects': 1073, 'invasions': 1074, 'living': 1075, 'mammals': 1076, 'arabian': 1077, 'geosciences': 1078, 'arab': 1079, 'archaea': 1080, 'microbiological': 1081, 'archaeological': 1082, 'prospection': 1083, 'archaeology': 1084, 'oceania': 1085, 'archaeometry': 1086, 'archeometrie': 1087, 'archeosciences': 1088, 'archiv': 1089, 'mathematik': 1090, 'pharmazie': 1091, 'archive': 1092, 'exact': 1093, 'rational': 1094, 'fur': 1095, 'religion': 1096, 'religionspsychologie': 1097, 'breeding': 1098, 'pediatrie': 1099, 'des': 1100, 'environnement': 1101, 'maladies': 1102, 'professionnelles': 1103, 'europeennes': 1104, 'sociologie': 1105, 'italiennes': 1106, 'budo': 1107, 'dermatological': 1108, 'childhood': 1109, 'practice': 1110, 'fetal': 1111, 'contamination': 1112, 'protection': 1113, 'geriatrics': 1114, 'gerontology': 1115, 'iranian': 1116, 'metallurgy': 1117, 'mining': 1118, 'oral': 1119, 'orthopaedic': 1120, 'trauma': 1121, 'osteoporosis': 1122, 'pharmacal': 1123, 'psychiatric': 1124, 'rheumatology': 1125, 'sexual': 1126, 'suicide': 1127, 'womens': 1128, 'molluskenkunde': 1129, 'archivos': 1130, 'argentinos': 1131, 'bronconeumologia': 1132, 'espanoles': 1133, 'urologia': 1134, 'latinoamericanos': 1135, 'nutricion': 1136, 'archivum': 1137, 'immunologiae': 1138, 'therapiae': 1139, 'arctic': 1140, 'ardea': 1141, 'ardeola': 1142, 'ornithology': 1143, 'area': 1144, 'argumenta': 1145, 'argumentation': 1146, 'arhiv': 1147, 'higijenu': 1148, 'rada': 1149, 'toksikologiju': 1150, 'za': 1151, 'arid': 1152, 'land': 1153, 'arkiv': 1154, 'matematik': 1155, 'arkivoc': 1156, 'armed': 1157, 'forces': 1158, 'arquivo': 1159, 'brasileiro': 1160, 'e': 1161, 'medicina': 1162, 'zootecnia': 1163, 'arquivos': 1164, 'cardiologia': 1165, 'oftalmologia': 1166, 'neuro': 1167, 'ars': 1168, 'combinatoria': 1169, 'contemporanea': 1170, 'arteriosclerosis': 1171, 'thrombosis': 1172, 'artery': 1173, 'arthritis': 1174, 'arthropoda': 1175, 'selecta': 1176, 'arthropod': 1177, 'structure': 1178, 'phylogeny': 1179, 'arthroscopic': 1180, 'arthroscopy': 1181, 'related': 1182, 'nanomedicine': 1183, 'organs': 1184, 'arts': 1185, 'psychotherapy': 1186, 'asaio': 1187, 'ashrae': 1188, 'europe': 1189, 'migration': 1190, 'pacific': 1191, 'australasian': 1192, 'biomedicine': 1193, 'herpetological': 1194, 'innovation': 1195, 'wto': 1196, 'myrmecology': 1197, 'literature': 1198, 'perspective': 1199, 'population': 1200, 'survey': 1201, 'researcher': 1202, 'financial': 1203, 'logistics': 1204, 'marketing': 1205, 'operational': 1206, 'viewpoint': 1207, 'aslib': 1208, 'asn': 1209, 'assay': 1210, 'assembly': 1211, 'assessing': 1212, 'writing': 1213, 'assessment': 1214, 'principles': 1215, 'assistenza': 1216, 'infermieristica': 1217, 'ricerca': 1218, 'assistive': 1219, 'asta': 1220, 'asterisque': 1221, 'astin': 1222, 'astrobiology': 1223, 'astronomical': 1224, 'astronomische': 1225, 'nachrichten': 1226, 'astroparticle': 1227, 'astrophysical': 1228, 'supplement': 1229, 'asymptotic': 1230, 'automatisierungstechnik': 1231, 'atencion': 1232, 'primaria': 1233, 'atherosclerosis': 1234, 'supplements': 1235, 'atla': 1236, 'atlantic': 1237, 'anglo': 1238, 'atlantis': 1239, 'spanish': 1240, 'atmosfera': 1241, 'techniques': 1242, 'pollution': 1243, 'tables': 1244, 'atomization': 1245, 'sprays': 1246, 'attachment': 1247, 'attention': 1248, 'psychophysics': 1249, 'atw': 1250, 'power': 1251, 'augmentative': 1252, 'auk': 1253, 'auris': 1254, 'larynx': 1255, 'nasus': 1256, 'early': 1257, 'austral': 1258, 'aboriginal': 1259, 'australian': 1260, 'zealand': 1261, 'dental': 1262, 'endodontic': 1263, 'feminist': 1264, 'forestry': 1265, 'geographer': 1266, 'grape': 1267, 'wine': 1268, 'primary': 1269, 'rural': 1270, 'mammalogy': 1271, 'gynaecology': 1272, 'orthodontic': 1273, 'systematic': 1274, 'austrian': 1275, 'yearbook': 1276, 'autex': 1277, 'autism': 1278, 'autoimmunity': 1279, 'automated': 1280, 'automatica': 1281, 'automatika': 1282, 'remote': 1283, 'autonomic': 1284, 'basic': 1285, 'agent': 1286, 'multi': 1287, 'robots': 1288, 'autophagy': 1289, 'avian': 1290, 'ayer': 1291, 'babel': 1292, 'traduction': 1293, 'translation': 1294, 'balkan': 1295, 'baltica': 1296, 'baltic': 1297, 'bridge': 1298, 'road': 1299, 'banach': 1300, 'bangladesh': 1301, 'taxonomy': 1302, 'bariatric': 1303, 'basin': 1304, 'bauingenieur': 1305, 'bauphysik': 1306, 'bautechnik': 1307, 'bayesian': 1308, 'brain': 1309, 'functions': 1310, 'sociobiology': 1311, 'interventions': 1312, 'conductual': 1313, 'sleep': 1314, 'modification': 1315, 'behavioural': 1316, 'change': 1317, 'beilstein': 1318, 'nanotechnology': 1319, 'belgian': 1320, 'bell': 1321, 'labs': 1322, 'technical': 1323, 'beneficial': 1324, 'microbes': 1325, 'ent': 1326, 'berichte': 1327, 'landwirtschaft': 1328, 'uber': 1329, 'wissenschaftsgeschichte': 1330, 'zur': 1331, 'berliner': 1332, 'soziologie': 1333, 'munchener': 1334, 'tierarztliche': 1335, 'wochenschrift': 1336, 'bernoulli': 1337, 'best': 1338, 'haematology': 1339, 'beton': 1340, 'stahlbetonbau': 1341, 'betriebswirtschaftliche': 1342, 'forschung': 1343, 'praxis': 1344, 'big': 1345, 'bijdragen': 1346, 'taal': 1347, 'tot': 1348, 'volkenkunde': 1349, 'bilig': 1350, 'bilingualism': 1351, 'bioacoustics': 1352, 'recording': 1353, 'sound': 1354, 'bioagro': 1355, 'bioanalysis': 1356, 'biocatalysis': 1357, 'biotransformation': 1358, 'biocell': 1359, 'biochemia': 1360, 'biophysical': 1361, 'symposia': 1362, 'moscow': 1363, 'bioenergetics': 1364, 'biomembranes': 1365, 'subjects': 1366, 'gene': 1367, 'lipids': 1368, 'basis': 1369, 'proteins': 1370, 'proteomics': 1371, 'biochimie': 1372, 'biochip': 1373, 'bioconjugate': 1374, 'biocontrol': 1375, 'biocybernetics': 1376, 'biodata': 1377, 'biodegradation': 1378, 'biodemography': 1379, 'biodrugs': 1380, 'bioelectrochemistry': 1381, 'bioelectromagnetics': 1382, 'bioenergy': 1383, 'bioengineered': 1384, 'bioessays': 1385, 'biofabrication': 1386, 'biofactors': 1387, 'biofouling': 1388, 'biofpr': 1389, 'biorefining': 1390, 'uk': 1391, 'biogeochemistry': 1392, 'biogeosciences': 1393, 'biogerontology': 1394, 'bioinformatics': 1395, 'bioinorganic': 1396, 'bioinspiration': 1397, 'biomimetics': 1398, 'bioinspired': 1399, 'biomimetic': 1400, 'nanobiomaterials': 1401, 'biointerphases': 1402, 'bioinvasions': 1403, 'records': 1404, 'biologia': 1405, 'horticulture': 1406, 'cybernetics': 1407, 'linnean': 1408, 'architectures': 1409, 'biologically': 1410, 'inspired': 1411, 'online': 1412, 'procedures': 1413, 'rhythm': 1414, 'biologicals': 1415, 'element': 1416, 'trace': 1417, 'biologicheskie': 1418, 'membrany': 1419, 'irish': 1420, 'fertility': 1421, 'soils': 1422, 'direct': 1423, 'blood': 1424, 'marrow': 1425, 'differences': 1426, 'sex': 1427, 'sport': 1428, 'open': 1429, 'philosophy': 1430, 'biomacromolecules': 1431, 'biomarkers': 1432, 'biorefinery': 1433, 'conversion': 1434, 'mechanobiology': 1435, 'biomedica': 1436, 'biomedizinische': 1437, 'technik': 1438, 'bio': 1439, 'microdevices': 1440, 'olomouc': 1441, 'tokyo': 1442, 'biomed': 1443, 'biometals': 1444, 'biometrical': 1445, 'biometrics': 1446, 'biometrika': 1447, 'biomicrofluidics': 1448, 'assignments': 1449, 'biomolecules': 1450, 'bioorganic': 1451, 'biopharmaceutics': 1452, 'disposition': 1453, 'biopharm': 1454, 'biopolymers': 1455, 'biobanking': 1456, 'biopreservation': 1457, 'bioprocess': 1458, 'biosystems': 1459, 'biopsychosocial': 1460, 'bioremediation': 1461, 'bioresources': 1462, 'bioresource': 1463, 'biorheology': 1464, 'bioscience': 1465, 'microbiota': 1466, 'trends': 1467, 'biosemiotics': 1468, 'bioelectronics': 1469, 'biosensors': 1470, 'biosocieties': 1471, 'biostatistics': 1472, 'biota': 1473, 'neotropica': 1474, 'biotechnic': 1475, 'histochemistry': 1476, 'biotechniques': 1477, 'agronomie': 1478, 'biotechnologie': 1479, 'biotechnological': 1480, 'equipment': 1481, 'genetic': 1482, 'report': 1483, 'progress': 1484, 'biotropica': 1485, 'bipolar': 1486, 'bird': 1487, 'birth': 1488, 'defects': 1489, 'perinatal': 1490, 'bit': 1491, 'bjog': 1492, 'bju': 1493, 'molecules': 1494, 'coagulation': 1495, 'fibrinolysis': 1496, 'pressure': 1497, 'monitoring': 1498, 'purification': 1499, 'transfusion': 1500, 'blumea': 1501, 'bmb': 1502, 'bmc': 1503, 'complementary': 1504, 'endocrine': 1505, 'rights': 1506, 'ethics': 1507, 'imaging': 1508, 'decision': 1509, 'making': 1510, 'musculoskeletal': 1511, 'childbirth': 1512, 'pregnancy': 1513, 'pulmonary': 1514, 'urology': 1515, 'bmgn': 1516, 'countries': 1517, 'bmj': 1518, 'british': 1519, 'safety': 1520, 'supportive': 1521, 'body': 1522, 'image': 1523, 'bois': 1524, 'forets': 1525, 'tropiques': 1526, 'boletim': 1527, 'instituto': 1528, 'pesca': 1529, 'asociacion': 1530, 'boletin': 1531, 'geografos': 1532, 'argentina': 1533, 'sociedad': 1534, 'ceramica': 1535, 'espanola': 1536, 'vidrio': 1537, 'y': 1538, 'ambiental': 1539, 'malariologia': 1540, 'salud': 1541, 'aromaticas': 1542, 'caribe': 1543, 'latinoamericano': 1544, 'medicinales': 1545, 'plantas': 1546, 'bollettino': 1547, 'italiana': 1548, 'paleontologica': 1549, 'societa': 1550, 'geofisica': 1551, 'teorica': 1552, 'delle': 1553, 'matematiche': 1554, 'storia': 1555, 'bone': 1556, 'joint': 1557, 'boreal': 1558, 'boreas': 1559, 'bosnian': 1560, 'bosque': 1561, 'boston': 1562, 'university': 1563, 'marina': 1564, 'serbica': 1565, 'bothalia': 1566, 'boundary': 1567, 'culture': 1568, 'layer': 1569, 'problems': 1570, 'value': 1571, 'brachytherapy': 1572, 'bradleya': 1573, 'bragantia': 1574, 'immunity': 1575, 'impairment': 1576, 'injury': 1577, 'stimulation': 1578, 'function': 1579, 'topography': 1580, 'tumor': 1581, 'bratislava': 1582, 'bratislavske': 1583, 'lekarske': 1584, 'listy': 1585, 'brazilian': 1586, 'oceanography': 1587, 'otorhinolaryngology': 1588, 'poultry': 1589, 'breast': 1590, 'breastfeeding': 1591, 'briefings': 1592, 'britain': 1593, 'world': 1594, 'counselling': 1595, 'guidance': 1596, 'hospital': 1597, 'relations': 1598, 'eastern': 1599, 'middle': 1600, 'music': 1601, 'neurosurgery': 1602, 'maxillofacial': 1603, 'religious': 1604, 'brittonia': 1605, 'brodogradnja': 1606, 'brookings': 1607, 'brq': 1608, 'bryologist': 1609, 'buffalo': 1610, 'building': 1611, 'academie': 1612, 'medecine': 1613, 'nationale': 1614, 'geologique': 1615, 'linneenne': 1616, 'lyon': 1617, 'mathematique': 1618, 'mathematiques': 1619, 'du': 1620, 'roumanie': 1621, 'earthquake': 1622, 'indonesian': 1623, 'insectology': 1624, 'symbolic': 1625, 'meteorological': 1626, 'scientists': 1627, 'simon': 1628, 'stevin': 1629, 'ethiopia': 1630, 'japan': 1631, 'european': 1632, 'fish': 1633, 'pathologists': 1634, 'denmark': 1635, 'geological': 1636, 'finland': 1637, 'korean': 1638, 'lebedev': 1639, 'london': 1640, 'malaysian': 1641, 'clinic': 1642, 'menninger': 1643, 'peabody': 1644, 'polish': 1645, 'seismological': 1646, 'organization': 1647, 'volcanology': 1648, 'bundesgesundheitsblatt': 1649, 'gesundheitsforschung': 1650, 'gesundheitsschutz': 1651, 'bunseki': 1652, 'kagaku': 1653, 'burns': 1654, 'process': 1655, 'strategy': 1656, 'ca': 1657, 'clinicians': 1658, 'cadernos': 1659, 'publica': 1660, 'saude': 1661, 'cadmo': 1662, 'agricultures': 1663, 'cahiers': 1664, 'calcified': 1665, 'tissue': 1666, 'calcolo': 1667, 'partial': 1668, 'caldasia': 1669, 'california': 1670, 'cooperative': 1671, 'fisheries': 1672, 'investigations': 1673, 'oceanic': 1674, 'game': 1675, 'calphad': 1676, 'coupling': 1677, 'diagrams': 1678, 'phase': 1679, 'thermochemistry': 1680, 'cambridge': 1681, 'economy': 1682, 'regions': 1683, 'canadian': 1684, 'canadienne': 1685, 'radiologistes': 1686, 'radiologists': 1687, 'entomologist': 1688, 'canadien': 1689, 'geographe': 1690, 'geotechnical': 1691, 'agroeconomie': 1692, 'anesthesie': 1693, 'comportement': 1694, 'etudes': 1695, 'diabetes': 1696, 'dietetic': 1697, 'economique': 1698, 'electrique': 1699, 'genie': 1700, 'informatique': 1701, 'experimentale': 1702, 'bibliotheconomie': 1703, 'neurological': 1704, 'ergotherapie': 1705, 'ophtalmologie': 1706, 'politique': 1707, 'psychiatrie': 1708, 'publique': 1709, 'sante': 1710, 'sensing': 1711, 'school': 1712, 'canadiens': 1713, 'statistique': 1714, 'veterinaire': 1715, 'vieillissement': 1716, 'metallurgical': 1717, 'langues': 1718, 'modern': 1719, 'vivantes': 1720, 'canada': 1721, 'politiques': 1722, 'metastasis': 1723, 'biotherapy': 1724, 'radiopharmaceuticals': 1725, 'causes': 1726, 'immunotherapy': 1727, 'investigation': 1728, 'radiotherapie': 1729, 'cancers': 1730, 'candollea': 1731, 'polymers': 1732, 'carbonates': 1733, 'evaporites': 1734, 'carbon': 1735, 'carcinogenesis': 1736, 'clinics': 1737, 'young': 1738, 'cardiorenal': 1739, 'interventional': 1740, 'diabetology': 1741, 'ultrasound': 1742, 'career': 1743, 'caribbean': 1744, 'caries': 1745, 'carnets': 1746, 'geologie': 1747, 'carpathian': 1748, 'cartilage': 1749, 'cartographic': 1750, 'cartography': 1751, 'geographic': 1752, 'caryologia': 1753, 'castanea': 1754, 'catalysts': 1755, 'catena': 1756, 'catheterization': 1757, 'catholic': 1758, 'cattle': 1759, 'cbe': 1760, 'ccamlr': 1761, 'celestial': 1762, 'dynamical': 1763, 'adhesion': 1764, 'banking': 1765, 'calcium': 1766, 'cycle': 1767, 'death': 1768, 'differentiation': 1769, 'division': 1770, 'host': 1771, 'microbe': 1772, 'proliferation': 1773, 'stem': 1774, 'tissues': 1775, 'chaperones': 1776, 'neurobiology': 1777, 'reprogramming': 1778, 'signalling': 1779, 'cellulose': 1780, 'wapno': 1781, 'centaurus': 1782, 'energetic': 1783, 'cepal': 1784, 'cephalalgia': 1785, 'silikaty': 1786, 'cereal': 1787, 'foods': 1788, 'cerebellum': 1789, 'cerebral': 1790, 'cortex': 1791, 'cerebrovascular': 1792, 'cerne': 1793, 'cesifo': 1794, 'ceska': 1795, 'neurochirurgie': 1796, 'neurologie': 1797, 'slovenska': 1798, 'ceskoslovenska': 1799, 'chalcogenide': 1800, 'channels': 1801, 'chaos': 1802, 'fractals': 1803, 'solitons': 1804, 'chelonian': 1805, 'chembiochem': 1806, 'chemcatchem': 1807, 'chem': 1808, 'chemelectrochem': 1809, 'chemiczna': 1810, 'inzynieria': 1811, 'procesowa': 1812, 'news': 1813, 'senses': 1814, 'bioavailability': 1815, 'speciation': 1816, 'chemicke': 1817, 'chemico': 1818, 'erde': 1819, 'ingenieur': 1820, 'unserer': 1821, 'zeit': 1822, 'chemija': 1823, 'fuels': 1824, 'oils': 1825, 'compounds': 1826, 'chemistryopen': 1827, 'chemistryselect': 1828, 'chemmedchem': 1829, 'chemnanomat': 1830, 'chemoecology': 1831, 'chemometrics': 1832, 'chemosensory': 1833, 'chemosphere': 1834, 'chemphyschem': 1835, 'chempluschem': 1836, 'chemsuschem': 1837, 'chest': 1838, 'chiang': 1839, 'mai': 1840, 'neglect': 1841, 'adolescent': 1842, 'north': 1843, 'obesity': 1844, 'indicators': 1845, 'teaching': 1846, 'maltreatment': 1847, 'children': 1848, 'youth': 1849, 'childrens': 1850, 'geographies': 1851, 'childs': 1852, 'nervous': 1853, 'chilean': 1854, 'chimia': 1855, 'oggi': 1856, 'china': 1857, 'foundry': 1858, 'petrochemical': 1859, 'petroleum': 1860, 'greater': 1861, 'interdisciplinary': 1862, 'geographical': 1863, 'aeronautics': 1864, 'medicines': 1865, 'chirality': 1866, 'chirurg': 1867, 'chromatographia': 1868, 'chromosoma': 1869, 'chromosome': 1870, 'chronobiology': 1871, 'chilena': 1872, 'chungara': 1873, 'agrotecnologia': 1874, 'ciencia': 1875, 'agraria': 1876, 'investigacion': 1877, 'tecnica': 1878, 'vitivinicola': 1879, 'florestal': 1880, 'coletiva': 1881, 'marinas': 1882, 'cin': 1883, 'circuit': 1884, 'arrhythmia': 1885, 'circulation': 1886, 'electrophysiology': 1887, 'outcomes': 1888, 'failure': 1889, 'aplicada': 1890, 'circulo': 1891, 'comunicacion': 1892, 'cirp': 1893, 'cirugia': 1894, 'cirujanos': 1895, 'cities': 1896, 'citizenship': 1897, 'city': 1898, 'szemle': 1899, 'cladistics': 1900, 'classical': 1901, 'gravity': 1902, 'minerals': 1903, 'clays': 1904, 'clean': 1905, 'cleft': 1906, 'craniofacial': 1907, 'palate': 1908, 'cleveland': 1909, 'climacteric': 1910, 'climate': 1911, 'dynamics': 1912, 'past': 1913, 'climatic': 1914, 'hemostasis': 1915, 'optometry': 1916, 'investigative': 1917, 'vaccine': 1918, 'case': 1919, 'colorectal': 1920, 'dysmorphology': 1921, 'eeg': 1922, 'epigenetics': 1923, 'genitourinary': 1924, 'gerontologist': 1925, 'hemorheology': 1926, 'microcirculation': 1927, 'implant': 1928, 'phonetics': 1929, 'leukemia': 1930, 'lymphoma': 1931, 'myeloma': 1932, 'neuropathology': 1933, 'neuropharmacology': 1934, 'neurophysiology': 1935, 'neuropsychologist': 1936, 'nurse': 1937, 'specialist': 1938, 'implants': 1939, 'orthopaedics': 1940, 'pharmacokinetics': 1941, 'psychopharmacology': 1942, 'spine': 1943, 'colon': 1944, 'rectal': 1945, 'podiatric': 1946, 'cliometrica': 1947, 'clothing': 1948, 'textiles': 1949, 'cluster': 1950, 'tools': 1951, 'cmc': 1952, 'continua': 1953, 'cmes': 1954, 'cns': 1955, 'targets': 1956, 'spectrums': 1957, 'coastal': 1958, 'coatings': 1959, 'cochrane': 1960, 'instruction': 1961, 'emotion': 1962, 'affective': 1963, 'neurodynamics': 1964, 'neuropsychiatry': 1965, 'cold': 1966, 'harbor': 1967, 'spring': 1968, 'war': 1969, 'coleopterists': 1970, 'collectanea': 1971, 'libraries': 1972, 'collegian': 1973, 'colloids': 1974, 'physicochemical': 1975, 'surfaces': 1976, 'biointerfaces': 1977, 'mathematicum': 1978, 'colombia': 1979, 'coloration': 1980, 'color': 1981, 'columbia': 1982, 'transnational': 1983, 'screening': 1984, 'throughput': 1985, 'combinatorica': 1986, 'combustion': 1987, 'flame': 1988, 'explosion': 1989, 'shock': 1990, 'waves': 1991, 'commentarii': 1992, 'helvetici': 1993, 'comments': 1994, 'common': 1995, 'market': 1996, 'critique': 1997, 'monographs': 1998, 'contemporary': 1999, 'communist': 2000, 'post': 2001, 'cytogenetics': 2002, 'compare': 2003, 'compel': 2004, 'competition': 2005, 'operator': 2006, 'complexity': 2007, 'elliptic': 2008, 'variables': 2009, 'compositio': 2010, 'compost': 2011, 'utilization': 2012, 'comprehensive': 2013, 'audit': 2014, 'comptabilite': 2015, 'controle': 2016, 'biologies': 2017, 'comptes': 2018, 'rendus': 2019, 'chimie': 2020, 'bulgare': 2021, 'geoscience': 2022, 'mecanique': 2023, 'palevol': 2024, 'physique': 2025, 'aided': 2026, 'infrastructure': 2027, 'animation': 2028, 'virtual': 2029, 'worlds': 2030, 'assisted': 2031, 'computerized': 2032, 'programs': 2033, 'geotechnics': 2034, 'urban': 2035, 'fluids': 2036, 'standards': 2037, 'collaborative': 2038, 'supported': 2039, 'understanding': 2040, 'comunicar': 2041, 'concepts': 2042, 'concurrency': 2043, 'experience': 2044, 'concurrent': 2045, 'condor': 2046, 'conflict': 2047, 'peace': 2048, 'anomalies': 2049, 'congenital': 2050, 'connection': 2051, 'connective': 2052, 'consciousness': 2053, 'constraints': 2054, 'approximation': 2055, 'constructive': 2056, 'consumption': 2057, 'markets': 2058, 'contact': 2059, 'dermatitis': 2060, 'anterior': 2061, 'eye': 2062, 'lens': 2063, 'psychoanalysis': 2064, 'southeast': 2065, 'continental': 2066, 'shelf': 2067, 'continuity': 2068, 'continuum': 2069, 'media': 2070, 'thermodynamics': 2071, 'contraception': 2072, 'contrast': 2073, 'contributions': 2074, 'observatory': 2075, 'pleso': 2076, 'skalnate': 2077, 'mineralogy': 2078, 'petrology': 2079, 'plasma': 2080, 'convergence': 2081, 'convergencia': 2082, 'cooperation': 2083, 'coordination': 2084, 'copd': 2085, 'obstructive': 2086, 'copeia': 2087, 'coral': 2088, 'reefs': 2089, 'cornea': 2090, 'cornell': 2091, 'hospitality': 2092, 'coronary': 2093, 'corporate': 2094, 'governance': 2095, 'responsibility': 2096, 'corpus': 2097, 'linguistic': 2098, 'correspondances': 2099, 'hormones': 2100, 'metabolismes': 2101, 'cosmic': 2102, 'allocation': 2103, 'cost': 2104, 'effectiveness': 2105, 'counseling': 2106, 'cranio': 2107, 'craniomandibular': 2108, 'creativity': 2109, 'cretaceous': 2110, 'crime': 2111, 'delinquency': 2112, 'crisis': 2113, 'intervention': 2114, 'south': 2115, 'resuscitation': 2116, 'discourse': 2117, 'inquiry': 2118, 'eukaryotic': 2119, 'expression': 2120, 'solid': 2121, 'state': 2122, 'carrier': 2123, 'therapeutic': 2124, 'casopis': 2125, 'croatian': 2126, 'hrvatski': 2127, 'obrazovanje': 2128, 'odgoj': 2129, 'chemica': 2130, 'crop': 2131, 'pasture': 2132, 'cross': 2133, 'crustaceana': 2134, 'cryobiology': 2135, 'cryogenics': 2136, 'cryoletters': 2137, 'cryosphere': 2138, 'algologie': 2139, 'cryptogamie': 2140, 'bryologie': 2141, 'mycologie': 2142, 'boolean': 2143, 'cryptography': 2144, 'sequences': 2145, 'cryptologia': 2146, 'growth': 2147, 'crystallography': 2148, 'crystals': 2149, 'crystengcomm': 2150, 'ct': 2151, 'futuro': 2152, 'tecnologia': 2153, 'cts': 2154, 'cuadernos': 2155, 'desarrollo': 2156, 'cuaj': 2157, 'urological': 2158, 'diversity': 2159, 'ethnic': 2160, 'minority': 2161, 'cultura': 2162, 'educacion': 2163, 'sexuality': 2164, 'directions': 2165, 'hematologic': 2166, 'malignancy': 2167, 'legal': 2168, 'opinion': 2169, 'neurovascular': 2170, 'metabolic': 2171, 'sustainability': 2172, 'lipidology': 2173, 'organ': 2174, 'head': 2175, 'neck': 2176, 'headache': 2177, 'pediatric': 2178, 'peptide': 2179, 'topics': 2180, 'membranes': 2181, 'nutraceutical': 2182, 'options': 2183, 'curriculum': 2184, 'matters': 2185, 'agronegocio': 2186, 'custos': 2187, 'line': 2188, 'cutaneous': 2189, 'ocular': 2190, 'cutis': 2191, 'cyberpsychology': 2192, 'networking': 2193, 'cyberspace': 2194, 'psychosocial': 2195, 'cybium': 2196, 'cyta': 2197, 'cytogenetic': 2198, 'genome': 2199, 'cytojournal': 2200, 'cytokine': 2201, 'factor': 2202, 'cytologia': 2203, 'cytology': 2204, 'cytometry': 2205, 'cytoskeleton': 2206, 'cytotechnology': 2207, 'cytotherapy': 2208, 'czech': 2209, 'czechoslovak': 2210, 'dados': 2211, 'sociais': 2212, 'daedalus': 2213, 'dairy': 2214, 'dalton': 2215, 'danish': 2216, 'daru': 2217, 'base': 2218, 'curation': 2219, 'databases': 2220, 'support': 2221, 'deep': 2222, 'ii': 2223, 'sea': 2224, 'topical': 2225, 'oceanographic': 2226, 'defence': 2227, 'democratization': 2228, 'demographic': 2229, 'demography': 2230, 'dendrobiology': 2231, 'dendrochronologia': 2232, 'traumatology': 2233, 'dentomaxillofacial': 2234, 'denver': 2235, 'depression': 2236, 'dermatologica': 2237, 'dermatologic': 2238, 'desalination': 2239, 'designed': 2240, 'monomers': 2241, 'codes': 2242, 'designs': 2243, 'deutsche': 2244, 'entomologische': 2245, 'zeitschrift': 2246, 'lebensmittel': 2247, 'rundschau': 2248, 'medizinische': 2249, 'arzteblatt': 2250, 'deutsches': 2251, 'developing': 2252, 'economies': 2253, 'neurorehabilitation': 2254, 'psychobiology': 2255, 'psychopathology': 2256, 'genes': 2257, 'deviance': 2258, 'deviant': 2259, 'educator': 2260, 'syndrome': 2261, 'herz': 2262, 'stoffwechsel': 2263, 'diabetic': 2264, 'diabetologe': 2265, 'diabetologia': 2266, 'diabetologie': 2267, 'diachronica': 2268, 'diagnostica': 2269, 'dialectologia': 2270, 'geolinguistica': 2271, 'dialogues': 2272, 'diamond': 2273, 'diatom': 2274, 'integral': 2275, 'digestion': 2276, 'digestive': 2277, 'endoscopy': 2278, 'biostructures': 2279, 'digest': 2280, 'nanomaterials': 2281, 'digital': 2282, 'humanities': 2283, 'scholarship': 2284, 'diplomatic': 2285, 'disability': 2286, 'disaster': 2287, 'preparedness': 2288, 'disasters': 2289, 'context': 2290, 'continuous': 2291, 's': 2292, 'nature': 2293, 'dynamic': 2294, 'event': 2295, 'discussiones': 2296, 'graph': 2297, 'markers': 2298, 'organisms': 2299, 'rectum': 2300, 'esophagus': 2301, 'disp': 2302, 'displays': 2303, 'dissent': 2304, 'dissertationes': 2305, 'dissolution': 2306, 'distance': 2307, 'distributed': 2308, 'parallel': 2309, 'distributions': 2310, 'diving': 2311, 'hyperbaric': 2312, 'dm': 2313, 'month': 2314, 'dna': 2315, 'repair': 2316, 'documenta': 2317, 'doklady': 2318, 'domestic': 2319, 'dose': 2320, 'response': 2321, 'dreaming': 2322, 'drewno': 2323, 'dependence': 2324, 'updates': 2325, 'future': 2326, 'testing': 2327, 'drustvena': 2328, 'istrazivanja': 2329, 'drvna': 2330, 'industrija': 2331, 'drying': 2332, 'race': 2333, 'duke': 2334, 'crossing': 2335, 'dutch': 2336, 'dyes': 2337, 'pigments': 2338, 'dyna': 2339, 'games': 2340, 'atmospheres': 2341, 'oceans': 2342, 'dynamis': 2343, 'dysphagia': 2344, 'ear': 2345, 'hearing': 2346, 'edinburgh': 2347, 'moon': 2348, 'planets': 2349, 'vibration': 2350, 'earthquakes': 2351, 'spectra': 2352, 'earths': 2353, 'landforms': 2354, 'east': 2355, 'countryside': 2356, 'mediterranean': 2357, 'societies': 2358, 'anorexia': 2359, 'bulimia': 2360, 'eating': 2361, 'weight': 2362, 'ebiomedicine': 2363, 'allied': 2364, 'echocardiography': 2365, 'ecography': 2366, 'ecohealth': 2367, 'ecohydrology': 2368, 'hydrobiology': 2369, 'chemia': 2370, 'ekologiczna': 2371, 'restoration': 2372, 'areas': 2373, 'eco': 2374, 'mont': 2375, 'mountain': 2376, 'protected': 2377, 'econ': 2378, 'watch': 2379, 'econometrica': 2380, 'econometric': 2381, 'econometrics': 2382, 'economia': 2383, 'economica': 2384, 'democracy': 2385, 'labour': 2386, 'ekonomska': 2387, 'transition': 2388, 'transportation': 2389, 'access': 2390, 'economist': 2391, 'netherlands': 2392, 'econtent': 2393, 'ecoscience': 2394, 'ecosphere': 2395, 'ecotoxicology': 2396, 'ecotropica': 2397, 'ecs': 2398, 'xx': 2399, 'leadership': 2400, 'training': 2401, 'bilim': 2402, 'egitim': 2403, 've': 2404, 'egyptian': 2405, 'pest': 2406, 'ejnmmi': 2407, 'ejso': 2408, 'cerrahisi': 2409, 'eklem': 2410, 'hastaliklari': 2411, 'ekoloji': 2412, 'ekonomicky': 2413, 'eksploatacja': 2414, 'maintenance': 2415, 'niezawodnosc': 2416, 'reliability': 2417, 'electoral': 2418, 'components': 2419, 'electric': 2420, 'electroanalysis': 2421, 'electrocatalysis': 2422, 'electrochemistry': 2423, 'electrochimica': 2424, 'electromagnetic': 2425, 'commerce': 2426, 'linear': 2427, 'qualitative': 2428, 'announcements': 2429, 'electrophoresis': 2430, 'elektronika': 2431, 'elektrotechnika': 2432, 'ir': 2433, 'elementary': 2434, 'elementa': 2435, 'elements': 2436, 'elife': 2437, 'elt': 2438, 'embo': 2439, 'ekonomie': 2440, 'm': 2441, 'emergencias': 2442, 'australasia': 2443, 'trade': 2444, 'infections': 2445, 'emirates': 2446, 'empirica': 2447, 'empirical': 2448, 'employee': 2449, 'emu': 2450, 'biologique': 2451, 'encephale': 2452, 'therapeutique': 2453, 'endangered': 2454, 'species': 2455, 'endeavour': 2456, 'connections': 2457, 'immune': 2458, 'endocrinologia': 2459, 'endokrynologia': 2460, 'polska': 2461, 'endoscopic': 2462, 'energies': 2463, 'buildings': 2464, 'efficiency': 2465, 'exploitation': 2466, 'exploration': 2467, 'effects': 2468, 'recovery': 2469, 'sources': 2470, 'planning': 2471, 'enfermedades': 2472, 'infecciosas': 2473, 'microbiologia': 2474, 'agricola': 2475, 'engenharia': 2476, 'sanitaria': 2477, 'computations': 2478, 'architectural': 2479, 'fracture': 2480, 'purposes': 2481, 'specific': 2482, 'wide': 2483, 'ensenanza': 2484, 'las': 2485, 'nose': 2486, 'throat': 2487, 'enterprise': 2488, 'entomologia': 2489, 'generalis': 2490, 'americana': 2491, 'fennica': 2492, 'entrepreneurship': 2493, 'entropy': 2494, 'mutagenesis': 2495, 'fishes': 2496, 'forensics': 2497, 'dimensions': 2498, 'hazards': 2499, 'impact': 2500, 'societal': 2501, 'transitions': 2502, 'impacts': 2503, 'analytics': 2504, 'urbanization': 2505, 'environmetrics': 2506, 'enzyme': 2507, 'epe': 2508, 'epidemics': 2509, 'epidemiologia': 2510, 'prevenzione': 2511, 'epidemiologic': 2512, 'epidemiologie': 2513, 'imunologie': 2514, 'mikrobiologie': 2515, 'chromatin': 2516, 'epigenomics': 2517, 'epilepsia': 2518, 'epilepsy': 2519, 'currents': 2520, 'epileptic': 2521, 'episodes': 2522, 'epj': 2523, 'epl': 2524, 'epma': 2525, 'equine': 2526, 'erdkunde': 2527, 'ergodic': 2528, 'ernahrungs': 2529, 'umschau': 2530, 'erwerbs': 2531, 'obstbau': 2532, 'agency': 2533, 'esa': 2534, 'esaim': 2535, 'optimisation': 2536, 'modelisation': 2537, 'numerique': 2538, 'essays': 2539, 'estonian': 2540, 'coasts': 2541, 'estuaries': 2542, 'estuarine': 2543, 'atacamenos': 2544, 'estudios': 2545, 'filologicos': 2546, 'geologicos': 2547, 'ethical': 2548, 'ethik': 2549, 'medizin': 2550, 'ethiopian': 2551, 'racial': 2552, 'ethnicities': 2553, 'ethnicity': 2554, 'ethnography': 2555, 'ethnohistory': 2556, 'ethnos': 2557, 'ethology': 2558, 'ethos': 2559, 'etikk': 2560, 'praksis': 2561, 'etr': 2562, 'etri': 2563, 'euphytica': 2564, 'eurasian': 2565, 'eurasip': 2566, 'audio': 2567, 'video': 2568, 'eure': 2569, 'regionales': 2570, 'urbano': 2571, 'eurointervention': 2572, 'europace': 2573, 'rhino': 2574, 'constitutional': 2575, 'network': 2576, 'anaesthesiology': 2577, 'cardio': 2578, 'futures': 2579, 'gynaecological': 2580, 'horticultural': 2581, 'inflammation': 2582, 'lipid': 2583, 'mass': 2584, 'spectrometry': 2585, 'solids': 2586, 'implantology': 2587, 'paediatric': 2588, 'personality': 2589, 'pharmaceutics': 2590, 'phycology': 2591, 'protistology': 2592, 'psychotraumatology': 2593, 'needs': 2594, 'special': 2595, 'thought': 2596, 'transport': 2597, 'endovascular': 2598, 'products': 2599, 'wood': 2600, 'neuropsychopharmacology': 2601, 'h': 2602, 'plus': 2603, 'pharmacological': 2604, 'europeenne': 2605, 'austriaca': 2606, 'thyroid': 2607, 'union': 2608, 'zoological': 2609, 'eurosurveillance': 2610, 'program': 2611, 'professions': 2612, 'based': 2613, 'evidence': 2614, 'evodevo': 2615, 'psychiatrique': 2616, 'exceptional': 2617, 'exceptionality': 2618, 'excli': 2619, 'exercise': 2620, 'acarology': 2621, 'heat': 2622, 'transfer': 2623, 'experiments': 2624, 'expert': 2625, 'investigational': 2626, 'orphan': 2627, 'patents': 2628, 'infective': 2629, 'devices': 2630, 'diagnostics': 2631, 'neurotherapeutics': 2632, 'pharmacoeconomics': 2633, 'vaccines': 2634, 'explorations': 2635, 'explore': 2636, 'healing': 2637, 'expositiones': 2638, 'exposure': 2639, 'extractive': 2640, 'industries': 2641, 'extremes': 2642, 'extremophiles': 2643, 'facial': 2644, 'facies': 2645, 'familial': 2646, 'families': 2647, 'relationships': 2648, 'discussions': 2649, 'faraday': 2650, 'farmacia': 2651, 'faseb': 2652, 'fatigue': 2653, 'febs': 2654, 'bank': 2655, 'federal': 2656, 'louis': 2657, 'reserve': 2658, 'st': 2659, 'female': 2660, 'pelvic': 2661, 'reconstructive': 2662, 'feminism': 2663, 'feministische': 2664, 'studien': 2665, 'fems': 2666, 'yeast': 2667, 'ferroelectrics': 2668, 'sterility': 2669, 'diagnosis': 2670, 'fiber': 2671, 'fibers': 2672, 'fibre': 2673, 'fibres': 2674, 'crops': 2675, 'field': 2676, 'filomat': 2677, 'filosofija': 2678, 'sociologija': 2679, 'filtration': 2680, 'separation': 2681, 'stochastics': 2682, 'uver': 2683, 'analysts': 2684, 'finanzarchiv': 2685, 'finite': 2686, 'fields': 2687, 'fiscal': 2688, 'fishery': 2689, 'shellfish': 2690, 'fitoterapia': 2691, 'fixed': 2692, 'point': 2693, 'flavour': 2694, 'fragrance': 2695, 'fleischwirtschaft': 2696, 'flexible': 2697, 'flora': 2698, 'florida': 2699, 'flow': 2700, 'instrumentation': 2701, 'turbulence': 2702, 'fluctuation': 2703, 'noise': 2704, 'equilibria': 2705, 'barriers': 2706, 'fluoride': 2707, 'fly': 2708, 'focus': 2709, 'folia': 2710, 'krakow': 2711, 'cytobiologica': 2712, 'horticulturae': 2713, 'historica': 2714, 'morphologica': 2715, 'logopaedica': 2716, 'phoniatrica': 2717, 'primatologica': 2718, 'additives': 2719, 'contaminants': 2720, 'risk': 2721, 'surveillance': 2722, 'foodborne': 2723, 'pathogens': 2724, 'hydrocolloids': 2725, 'packaging': 2726, 'preference': 2727, 'ankle': 2728, 'foot': 2729, 'forbes': 2730, 'fordham': 2731, 'foreign': 2732, 'chronicle': 2733, 'forests': 2734, 'forktail': 2735, 'formal': 2736, 'im': 2737, 'ingenieurwesen': 2738, 'fortschritte': 2739, 'psychoanalyse': 2740, 'pi': 2741, 'sigma': 2742, 'fossil': 2743, 'fottea': 2744, 'foundations': 2745, 'retrieval': 2746, 'fourrages': 2747, 'patterns': 2748, 'scaling': 2749, 'fractional': 2750, 'free': 2751, 'radical': 2752, 'french': 2753, 'frequenz': 2754, 'fresenius': 2755, 'friction': 2756, 'frontiers': 2757, 'landmark': 2758, 'neural': 2759, 'neuroanatomy': 2760, 'neuroendocrinology': 2761, 'neuroinformatics': 2762, 'neurorobotics': 2763, 'hormone': 2764, 'fruits': 2765, 'fuel': 2766, 'fujitsu': 2767, 'scientific': 2768, 'fullerenes': 2769, 'nanostructures': 2770, 'nanotubes': 2771, 'fundamenta': 2772, 'informaticae': 2773, 'fundamental': 2774, 'fungal': 2775, 'ekvacioj': 2776, 'funkcialaj': 2777, 'internacia': 2778, 'serio': 2779, 'fusion': 2780, 'escience': 2781, 'generation': 2782, 'fuzzy': 2783, 'sets': 2784, 'g': 2785, 'genomes': 2786, 'gaceta': 2787, 'mexico': 2788, 'gaia': 2789, 'gait': 2790, 'posture': 2791, 'gastric': 2792, 'gastroenterologia': 2793, 'hepatologia': 2794, 'gayana': 2795, 'frauenheilkunde': 2796, 'geburtshilfe': 2797, 'gedrag': 2798, 'organisatie': 2799, 'gefahrstoffe': 2800, 'luft': 2801, 'reinhaltung': 2802, 'gematologiya': 2803, 'transfuziologiya': 2804, 'gemology': 2805, 'gems': 2806, 'gender': 2807, 'place': 2808, 'gravitation': 2809, 'relativity': 2810, 'generations': 2811, 'chromosomes': 2812, 'genesis': 2813, 'genetica': 2814, 'evolvable': 2815, 'machines': 2816, 'selection': 2817, 'belgrade': 2818, 'genetika': 2819, 'geneva': 2820, 'insurance': 2821, 'geoarchaeology': 2822, 'geobiology': 2823, 'geobios': 2824, 'geocarto': 2825, 'geochemical': 2826, 'geosystems': 2827, 'cosmochimica': 2828, 'geochimica': 2829, 'geochronometria': 2830, 'geoderma': 2831, 'geodetski': 2832, 'vestnik': 2833, 'geodinamica': 2834, 'geodiversitas': 2835, 'internacional': 2836, 'geofizika': 2837, 'geofluids': 2838, 'geoforum': 2839, 'dinamica': 2840, 'fisica': 2841, 'geografia': 2842, 'quaternaria': 2843, 'geografie': 2844, 'annaler': 2845, 'geografiska': 2846, 'geografisk': 2847, 'tidsskrift': 2848, 'compass': 2849, 'geoheritage': 2850, 'geoinformatica': 2851, 'geologia': 2852, 'carpathica': 2853, 'greenland': 2854, 'deposits': 2855, 'ore': 2856, 'aeronomy': 2857, 'geomagnetism': 2858, 'geo': 2859, 'geomatics': 2860, 'geomechanics': 2861, 'dedicata': 2862, 'geometriae': 2863, 'geomicrobiology': 2864, 'geomorphologie': 2865, 'processus': 2866, 'relief': 2867, 'geomorphology': 2868, 'geophysical': 2869, 'prospecting': 2870, 'geopolitics': 2871, 'georgetown': 2872, 'george': 2873, 'washington': 2874, 'georgian': 2875, 'geoscientific': 2876, 'model': 2877, 'geospatial': 2878, 'geosphere': 2879, 'geoanalytical': 2880, 'geostandards': 2881, 'geosynthetics': 2882, 'geotechnique': 2883, 'geotectonics': 2884, 'geomembranes': 2885, 'geotextiles': 2886, 'geothermal': 2887, 'geothermics': 2888, 'geriatrie': 2889, 'neuropsychiatrie': 2890, 'german': 2891, 'personalforschung': 2892, 'gerodontology': 2893, 'geroscience': 2894, 'gestion': 2895, 'gesture': 2896, 'gesunde': 2897, 'pflanzen': 2898, 'gesundheitswesen': 2899, 'gff': 2900, 'gifted': 2901, 'gigascience': 2902, 'ginekologia': 2903, 'giornale': 2904, 'italiano': 2905, 'venereologia': 2906, 'giscience': 2907, 'glasgow': 2908, 'glasnik': 2909, 'matematicki': 2910, 'glass': 2911, 'glia': 2912, 'biogeochemical': 2913, 'cycles': 2914, 'biogeography': 2915, 'globalization': 2916, 'globalizations': 2917, 'nest': 2918, 'gay': 2919, 'glq': 2920, 'lesbian': 2921, 'glycobiology': 2922, 'glycoconjugate': 2923, 'chain': 2924, 'gm': 2925, 'gold': 2926, 'gondwana': 2927, 'gorteria': 2928, 'gospodarka': 2929, 'mineral': 2930, 'mineralnymi': 2931, 'surowcami': 2932, 'institutions': 2933, 'government': 2934, 'opposition': 2935, 'gps': 2936, 'solutions': 2937, 'gradevinar': 2938, 'graefes': 2939, 'grana': 2940, 'granular': 2941, 'graphical': 2942, 'graphs': 2943, 'aceites': 2944, 'grasas': 2945, 'grass': 2946, 'grassland': 2947, 'cosmology': 2948, 'green': 2949, 'gases': 2950, 'greenhouse': 2951, 'groundwater': 2952, 'ground': 2953, 'remediation': 2954, 'group': 2955, 'negotiation': 2956, 'intergroup': 2957, 'groups': 2958, 'factors': 2959, 'igf': 2960, 'grundwasser': 2961, 'gruppendynamik': 2962, 'gruppenpsychotherapie': 2963, 'gut': 2964, 'gynecological': 2965, 'gynecologic': 2966, 'obstetric': 2967, 'fertilite': 2968, 'gynecologie': 2969, 'obstetrique': 2970, 'senologie': 2971, 'habitat': 2972, 'hacettepe': 2973, 'hacienda': 2974, 'haemophilia': 2975, 'hague': 2976, 'rule': 2977, 'hahr': 2978, 'hispanic': 2979, 'hamostaseologie': 2980, 'handchirurgie': 2981, 'mikrochirurgie': 2982, 'plastische': 2983, 'hand': 2984, 'harmful': 2985, 'harm': 2986, 'reduction': 2987, 'harvard': 2988, 'liberties': 2989, 'legislation': 2990, 'haseltonia': 2991, 'center': 2992, 'hastings': 2993, 'hautarzt': 2994, 'specialties': 2995, 'face': 2996, 'expectations': 2997, 'vessels': 2998, 'helgoland': 2999, 'helicobacter': 3000, 'hellenic': 3001, 'helminthologia': 3002, 'helvetica': 3003, 'hematological': 3004, 'hemijska': 3005, 'hemodialysis': 3006, 'hemoglobin': 3007, 'hepatitis': 3008, 'hepatobiliary': 3009, 'pancreatic': 3010, 'herald': 3011, 'russian': 3012, 'environments': 3013, 'herd': 3014, 'hereditary': 3015, 'hereditas': 3016, 'heredity': 3017, 'hernia': 3018, 'heroin': 3019, 'herpetozoa': 3020, 'herzogia': 3021, 'heteroatom': 3022, 'heterocycles': 3023, 'hidrobiologica': 3024, 'ability': 3025, 'altitude': 3026, 'density': 3027, 'laser': 3028, 'temperature': 3029, 'pressures': 3030, 'temperatures': 3031, 'himalayan': 3032, 'hip': 3033, 'hippocampus': 3034, 'hippokratia': 3035, 'hiroshima': 3036, 'devoted': 3037, 'hispania': 3038, 'portuguese': 3039, 'histology': 3040, 'historia': 3041, 'critica': 3042, 'marxist': 3043, 'materialism': 3044, 'historische': 3045, 'sozialforschung': 3046, 'historiographia': 3047, 'ideas': 3048, 'workshop': 3049, 'hitotsubashi': 3050, 'hla': 3051, 'hno': 3052, 'hokkaido': 3053, 'holistic': 3054, 'holocene': 3055, 'holzforschung': 3056, 'homeopathy': 3057, 'homicide': 3058, 'homo': 3059, 'homology': 3060, 'homotopy': 3061, 'hong': 3062, 'kong': 3063, 'venereology': 3064, 'paediatrics': 3065, 'horticultura': 3066, 'hortscience': 3067, 'horttechnology': 3068, 'blanche': 3069, 'eau': 3070, 'houille': 3071, 'debate': 3072, 'housing': 3073, 'houston': 3074, 'hpb': 3075, 'mapping': 3076, 'centric': 3077, 'service': 3078, 'movement': 3079, 'mutation': 3080, 'biosocial': 3081, 'update': 3082, 'immunotherapeutics': 3083, 'humor': 3084, 'hydrobiologia': 3085, 'hydrogeology': 3086, 'hydrological': 3087, 'hydrologiques': 3088, 'hydrologie': 3089, 'wasserbewirtschaftung': 3090, 'hydrology': 3091, 'hydrometallurgy': 3092, 'hyle': 3093, 'hypatia': 3094, 'hystrix': 3095, 'italian': 3096, 'iawa': 3097, 'iberica': 3098, 'ibis': 3099, 'ibm': 3100, 'icarus': 3101, 'icelandic': 3102, 'ices': 3103, 'icga': 3104, 'ichnos': 3105, 'traces': 3106, 'freshwaters': 3107, 'ichthyological': 3108, 'icon': 3109, 'icsid': 3110, 'investment': 3111, 'ideggyogyaszati': 3112, 'identities': 3113, 'idojaras': 3114, 'ids': 3115, 'ieee': 3116, 'antennas': 3117, 'propagation': 3118, 'asme': 3119, 'mechatronics': 3120, 'cloud': 3121, 'tutorials': 3122, 'consumer': 3123, 'test': 3124, 'insulation': 3125, 'device': 3126, 'electron': 3127, 'things': 3128, 'selected': 3129, 'photovoltaics': 3130, 'observations': 3131, 'jtehm': 3132, 'magnetics': 3133, 'micro': 3134, 'microwave': 3135, 'pervasive': 3136, 'pulse': 3137, 'superconductivity': 3138, 'automatic': 3139, 'broadcasting': 3140, 'briefs': 3141, 'regular': 3142, 'dependable': 3143, 'secure': 3144, 'dielectrics': 3145, 'compatibility': 3146, 'haptics': 3147, 'machine': 3148, 'mobile': 3149, 'nanobioscience': 3150, 'pattern': 3151, 'professional': 3152, 'semiconductor': 3153, 'grid': 3154, 'smart': 3155, 'man': 3156, 'terahertz': 3157, 'electrification': 3158, 'frequency': 3159, 'ultrasonics': 3160, 'vehicular': 3161, 'integration': 3162, 'large': 3163, 'scale': 3164, 'vlsi': 3165, 'visualization': 3166, 'ieej': 3167, 'ieice': 3168, 'fundamentals': 3169, 'iet': 3170, 'iete': 3171, 'distribution': 3172, 'transmission': 3173, 'microwaves': 3174, 'nanobiotechnology': 3175, 'optoelectronics': 3176, 'navigation': 3177, 'radar': 3178, 'sonar': 3179, 'renewable': 3180, 'iforest': 3181, 'iheringia': 3182, 'serie': 3183, 'zoologia': 3184, 'iise': 3185, 'ilar': 3186, 'ilr': 3187, 'fungus': 3188, 'ima': 3189, 'stereology': 3190, 'imago': 3191, 'mundi': 3192, 'imf': 3193, 'immunobiology': 3194, 'immunogenetics': 3195, 'immunological': 3196, 'immunologic': 3197, 'immunopharmacology': 3198, 'immunotoxicology': 3199, 'appraisal': 3200, 'project': 3201, 'implantologie': 3202, 'implementation': 3203, 'indagationes': 3204, 'independent': 3205, 'indiana': 3206, 'including': 3207, 'leprology': 3208, 'textile': 3209, 'traditional': 3210, 'forschungen': 3211, 'indogermanische': 3212, 'indoor': 3213, 'built': 3214, 'lubrication': 3215, 'tribology': 3216, 'robot': 3217, 'industria': 3218, 'textila': 3219, 'aprendizaje': 3220, 'infancia': 3221, 'infancy': 3222, 'infant': 3223, 'infants': 3224, 'poverty': 3225, 'dimensional': 3226, 'infinite': 3227, 'bowel': 3228, 'inflammatory': 3229, 'inflammopharmacology': 3230, 'influenza': 3231, 'viruses': 3232, 'infor': 3233, 'estudos': 3234, 'informacao': 3235, 'sociedade': 3236, 'informacije': 3237, 'microelectronics': 3238, 'midem': 3239, 'informacios': 3240, 'tarsadalom': 3241, 'people': 3242, 'construccion': 3243, 'informes': 3244, 'informs': 3245, 'infrared': 3246, 'ingegneria': 3247, 'sismica': 3248, 'ingenieria': 3249, 'inhalation': 3250, 'injured': 3251, 'inland': 3252, 'waters': 3253, 'innate': 3254, 'innovations': 3255, 'innovative': 3256, 'inorganica': 3257, 'metal': 3258, 'financing': 3259, 'provision': 3260, 'animales': 3261, 'inra': 3262, 'productions': 3263, 'insectes': 3264, 'sociaux': 3265, 'insight': 3266, 'instructional': 3267, 'instruments': 3268, 'transforms': 3269, 'interacting': 3270, 'interactive': 3271, 'inter': 3272, 'interciencia': 3273, 'intercultural': 3274, 'pragmatics': 3275, 'boundaries': 3276, 'intermetallics': 3277, 'internasjonal': 3278, 'politikk': 3279, 'agrophysics': 3280, 'biodeterioration': 3281, 'braz': 3282, 'j': 3283, 'urol': 3284, 'gazette': 3285, 'agreements': 3286, 'gambling': 3287, 'insolvency': 3288, 'vocational': 3289, 'equity': 3290, 'multiscale': 3291, 'parasites': 3292, 'quantification': 3293, 'uncertainty': 3294, 'vitamin': 3295, 'adhesives': 3296, 'ubiquitous': 3297, 'robotic': 3298, 'advertising': 3299, 'aeroacoustics': 3300, 'geoinformation': 3301, 'observation': 3302, 'approximate': 3303, 'reasoning': 3304, 'art': 3305, 'automotive': 3306, 'bifurcation': 3307, 'bilingual': 3308, 'macromolecules': 3309, 'biomathematics': 3310, 'biometeorology': 3311, 'cast': 3312, 'metals': 3313, 'kinetics': 3314, 'reactor': 3315, 'circumpolar': 3316, 'strategies': 3317, 'climatology': 3318, 'coal': 3319, 'preparation': 3320, 'violence': 3321, 'cosmetic': 3322, 'crashworthiness': 3323, 'damage': 3324, 'warehousing': 3325, 'electrochemical': 3326, 'engine': 3327, 'entrepreneurial': 3328, 'exergy': 3329, 'approaches': 3330, 'properties': 3331, 'forecasting': 3332, 'warming': 3333, 'gas': 3334, 'geographics': 3335, 'heavy': 3336, 'vehicle': 3337, 'humanoid': 3338, 'hydrogen': 3339, 'hyperthermia': 3340, 'immunopathology': 3341, 'impotence': 3342, 'inclusive': 3343, 'lexicography': 3344, 'extremity': 3345, 'lower': 3346, 'wounds': 3347, 'manufacture': 3348, 'managing': 3349, 'projects': 3350, 'manpower': 3351, 'maritime': 3352, 'forming': 3353, 'material': 3354, 'product': 3355, 'mushrooms': 3356, 'metalcasting': 3357, 'vehicles': 3358, 'reclamation': 3359, 'multiphase': 3360, 'naval': 3361, 'odonatology': 3362, 'offender': 3363, 'offshore': 3364, 'polar': 3365, 'oil': 3366, 'older': 3367, 'optomechatronics': 3368, 'osteoarchaeology': 3369, 'osteopathic': 3370, 'paleopathology': 3371, 'recognition': 3372, 'pavement': 3373, 'periodontics': 3374, 'restorative': 3375, 'photoenergy': 3376, 'phytoremediation': 3377, 'plasticity': 3378, 'characterization': 3379, 'polymeric': 3380, 'precision': 3381, 'press': 3382, 'piping': 3383, 'prosthodontics': 3384, 'hard': 3385, 'refractory': 3386, 'froid': 3387, 'refrigeration': 3388, 'rf': 3389, 'robust': 3390, 'rock': 3391, 'satellite': 3392, 'sediment': 3393, 'shipping': 3394, 'shoulder': 3395, 'speleology': 3396, 'sponsorship': 3397, 'coaching': 3398, 'spray': 3399, 'std': 3400, 'property': 3401, 'stroke': 3402, 'stability': 3403, 'commons': 3404, 'thermophysics': 3405, 'transitional': 3406, 'tuberculosis': 3407, 'engines': 3408, 'jet': 3409, 'turbo': 3410, 'fuzziness': 3411, 'unconventional': 3412, 'ventilation': 3413, 'multiresolution': 3414, 'wavelets': 3415, 'wildland': 3416, 'document': 3417, 'semantic': 3418, 'class': 3419, 'labor': 3420, 'working': 3421, 'notices': 3422, 'neurourology': 3423, 'peacekeeping': 3424, 'psychogeriatrics': 3425, 'red': 3426, 'researching': 3427, 'small': 3428, 'sugar': 3429, 'tax': 3430, 'urogynecology': 3431, 'internist': 3432, 'interpretation': 3433, 'subsurface': 3434, 'interpreter': 3435, 'trainer': 3436, 'translator': 3437, 'interpreting': 3438, 'intersecciones': 3439, 'postcolonial': 3440, 'intervirology': 3441, 'invasive': 3442, 'inventiones': 3443, 'inverse': 3444, 'invertebrate': 3445, 'bibliotecologica': 3446, 'visual': 3447, 'vitro': 3448, 'vivo': 3449, 'inzinerine': 3450, 'ionics': 3451, 'iowa': 3452, 'iral': 3453, 'transaction': 3454, 'crescent': 3455, 'irbm': 3456, 'ironmaking': 3457, 'steelmaking': 3458, 'drainage': 3459, 'irrigation': 3460, 'isa': 3461, 'bilimi': 3462, 'isi': 3463, 'teknigi': 3464, 'isij': 3465, 'isis': 3466, 'isj': 3467, 'survival': 3468, 'arc': 3469, 'island': 3470, 'islets': 3471, 'isme': 3472, 'isokinetics': 3473, 'isprs': 3474, 'photogrammetry': 3475, 'israel': 3476, 'bamidgeh': 3477, 'israeli': 3478, 'agrometeorologia': 3479, 'agrometeorology': 3480, 'rivista': 3481, 'informacion': 3482, 'itea': 3483, 'engineers': 3484, 'ite': 3485, 'expansion': 3486, 'itinerario': 3487, 'iubmb': 3488, 'iucrj': 3489, 'izvestiya': 3490, 'assistants': 3491, 'jaapa': 3492, 'jacc': 3493, 'jahrbucher': 3494, 'nationalokonomie': 3495, 'statistik': 3496, 'acquired': 3497, 'deficiency': 3498, 'jaids': 3499, 'syndromes': 3500, 'jama': 3501, 'janac': 3502, 'nurses': 3503, 'japanese': 3504, 'jaro': 3505, 'jarq': 3506, 'jasss': 3507, 'javma': 3508, 'javnost': 3509, 'jcms': 3510, 'jcpsp': 3511, 'pakistan': 3512, 'physicians': 3513, 'jcr': 3514, 'coatingstech': 3515, 'jct': 3516, 'jetp': 3517, 'jmir': 3518, 'mhealth': 3519, 'uhealth': 3520, 'jnci': 3521, 'national': 3522, 'jnp': 3523, 'practitioners': 3524, 'jognn': 3525, 'johnson': 3526, 'matthey': 3527, 'jokull': 3528, 'jom': 3529, 'jornal': 3530, 'pneumologia': 3531, 'works': 3532, 'appliquees': 3533, 'pures': 3534, 'medicale': 3535, 'dermatologischen': 3536, 'deutschen': 3537, 'gesellschaft': 3538, 'bordeaux': 3539, 'nombres': 3540, 'theorie': 3541, 'specialists': 3542, 'francais': 3543, 'die': 3544, 'reine': 3545, 'lebensmittelsicherheit': 3546, 'verbraucherschutz': 3547, 'aapos': 3548, 'abnormal': 3549, 'librarianship': 3550, 'adhesive': 3551, 'adolescence': 3552, 'literacy': 3553, 'agrarian': 3554, 'agromedicine': 3555, 'alloys': 3556, 'ambient': 3557, 'humanized': 3558, 'pyrolysis': 3559, 'antibiotics': 3560, 'aoac': 3561, 'apicultural': 3562, 'ichthyology': 3563, 'memory': 3564, 'arachnology': 3565, 'method': 3566, 'arthroplasty': 3567, 'borne': 3568, 'telescopes': 3569, 'athletic': 3570, 'solar': 3571, 'terrestrial': 3572, 'bacteriology': 3573, 'near': 3574, 'beliefs': 3575, 'berry': 3576, 'bioactive': 3577, 'compatible': 3578, 'biobased': 3579, 'bioethical': 3580, 'homeostatic': 3581, 'regulators': 3582, 'thessaloniki': 3583, 'rhythms': 3584, 'biomechanical': 3585, 'semantics': 3586, 'bionic': 3587, 'biopharmaceutical': 3588, 'biophotonics': 3589, 'black': 3590, 'volume': 3591, 'brand': 3592, 'breath': 3593, 'bryology': 3594, 'buon': 3595, 'burn': 3596, 'venturing': 3597, 'cachexia': 3598, 'muscle': 3599, 'sarcopenia': 3600, 'camel': 3601, 'survivorship': 3602, 'cardiac': 3603, 'cardiopulmonary': 3604, 'computed': 3605, 'tomography': 3606, 'cataract': 3607, 'refractive': 3608, 'cave': 3609, 'karst': 3610, 'automata': 3611, 'plastics': 3612, 'cheminformatics': 3613, 'substance': 3614, 'choice': 3615, 'chromatographic': 3616, 'cleaner': 3617, 'apheresis': 3618, 'densitometry': 3619, 'periodontology': 3620, 'settings': 3621, 'student': 3622, 'commutative': 3623, 'germanic': 3624, 'neuroethology': 3625, 'sensory': 3626, 'systemic': 3627, 'mediated': 3628, 'conchology': 3629, 'resolution': 3630, 'constructional': 3631, 'constructivist': 3632, 'consulting': 3633, 'contaminant': 3634, 'armenian': 3635, 'contextual': 3636, 'contingencies': 3637, 'continuing': 3638, 'controlled': 3639, 'release': 3640, 'convex': 3641, 'correctional': 3642, 'creative': 3643, 'credit': 3644, 'colitis': 3645, 'crohns': 3646, 'crustacean': 3647, 'cryptology': 3648, 'cystic': 3649, 'fibrosis': 3650, 'derivatives': 3651, 'destination': 3652, 'origins': 3653, 'complications': 3654, 'dispersion': 3655, 'documentation': 3656, 'targeting': 3657, 'dual': 3658, 'tsunami': 3659, 'inequality': 3660, 'reform': 3661, 'ect': 3662, 'consultation': 3663, 'elasticity': 3664, 'elastomers': 3665, 'elder': 3666, 'elektrotechnicky': 3667, 'electroanalytical': 3668, 'electroceramics': 3669, 'electromyography': 3670, 'kinesiology': 3671, 'phenomena': 3672, 'electrostatics': 3673, 'elementology': 3674, 'emotional': 3675, 'employment': 3676, 'endocrinological': 3677, 'endodontics': 3678, 'endourology': 3679, 'engineered': 3680, 'fabrics': 3681, 'turbines': 3682, 'enhanced': 3683, 'landscape': 3684, 'radioactivity': 3685, 'hazardous': 3686, 'substances': 3687, 'toxic': 3688, 'pesticides': 3689, 'wastes': 3690, 'inhibition': 3691, 'bearing': 3692, 'essential': 3693, 'esthetic': 3694, 'ethnobiology': 3695, 'ethnomedicine': 3696, 'ethnopharmacology': 3697, 'psychotherapies': 3698, 'exotic': 3699, 'pet': 3700, 'extracellular': 3701, 'vesicles': 3702, 'feline': 3703, 'intermediation': 3704, 'flood': 3705, 'fluency': 3706, 'fluorescence': 3707, 'fluorine': 3708, 'composition': 3709, 'preservation': 3710, 'lebensmittelhygiene': 3711, 'mysore': 3712, 'foraminiferal': 3713, 'wear': 3714, 'geodesy': 3715, 'geodynamics': 3716, 'geoenvironmental': 3717, 'gerontological': 3718, 'ginseng': 3719, 'glaucoma': 3720, 'great': 3721, 'lakes': 3722, 'grey': 3723, 'happiness': 3724, 'poor': 3725, 'underserved': 3726, 'valve': 3727, 'helminthology': 3728, 'hematopathology': 3729, 'biliary': 3730, 'hepato': 3731, 'herbal': 3732, 'heuristics': 3733, 'cytochemistry': 3734, 'histotechnology': 3735, 'homeland': 3736, 'homosexuality': 3737, 'leisure': 3738, 'capital': 3739, 'capabilities': 3740, 'humanistic': 3741, 'lactation': 3742, 'dietetics': 3743, 'hydraulic': 3744, 'hydrodynamics': 3745, 'hydro': 3746, 'hydroinformatics': 3747, 'hydrologic': 3748, 'hydromechanics': 3749, 'hydrometeorology': 3750, 'hymenoptera': 3751, 'hyperbolic': 3752, 'iberian': 3753, 'immigrant': 3754, 'inclusion': 3755, 'macrocyclic': 3756, 'individual': 3757, 'inequalities': 3758, 'informetrics': 3759, 'millimeter': 3760, 'inherited': 3761, 'gesamte': 3762, 'institutional': 3763, 'staatswissenschaft': 3764, 'interferon': 3765, 'dispute': 3766, 'settlement': 3767, 'money': 3768, 'interpersonal': 3769, 'interprofessional': 3770, 'ill': 3771, 'posed': 3772, 'profiling': 3773, 'iron': 3774, 'king': 3775, 'saud': 3776, 'knee': 3777, 'knot': 3778, 'ramifications': 3779, 'neurosurgical': 3780, 'korea': 3781, 'labelled': 3782, 'identity': 3783, 'laparoendoscopic': 3784, 'nanoengineering': 3785, 'latina': 3786, 'o': 3787, 'leukocyte': 3788, 'lie': 3789, 'lightwave': 3790, 'liposome': 3791, 'liquid': 3792, 'logical': 3793, 'loss': 3794, 'genital': 3795, 'tract': 3796, 'luminescence': 3797, 'macromarketing': 3798, 'macromolecular': 3799, 'magnetism': 3800, 'mammalian': 3801, 'gland': 3802, 'mammary': 3803, 'neoplasia': 3804, 'specialty': 3805, 'managerial': 3806, 'manipulative': 3807, 'physiological': 3808, 'maps': 3809, 'taiwan': 3810, 'marital': 3811, 'marriage': 3812, 'waste': 3813, 'jmr': 3814, 't': 3815, 'maternal': 3816, 'theories': 3817, 'membrane': 3818, 'metamorphic': 3819, 'microelectromechanical': 3820, 'microencapsulation': 3821, 'microengineering': 3822, 'micromechanics': 3823, 'mems': 3824, 'moems': 3825, 'nanolithography': 3826, 'micropalaeontology': 3827, 'microscopy': 3828, 'midwifery': 3829, 'mineralogical': 3830, 'petrological': 3831, 'minimal': 3832, 'minimally': 3833, 'mixed': 3834, 'liquids': 3835, 'jmm': 3836, 'molluscan': 3837, 'monetary': 3838, 'moral': 3839, 'motor': 3840, 'multicultural': 3841, 'multilingual': 3842, 'multinational': 3843, 'multiple': 3844, 'valued': 3845, 'multivariate': 3846, 'motility': 3847, 'neuronal': 3848, 'nanoelectronics': 3849, 'nanoparticle': 3850, 'nanophotonics': 3851, 'nematology': 3852, 'nepal': 3853, 'neurochemistry': 3854, 'neurodevelopmental': 3855, 'neuroengineering': 3856, 'neurogastroenterology': 3857, 'neurogenetics': 3858, 'neuroimaging': 3859, 'neuroimmune': 3860, 'neuroimmunology': 3861, 'neuroinflammation': 3862, 'neurointerventional': 3863, 'neurolinguistics': 3864, 'turkish': 3865, 'skull': 3866, 'neurologic': 3867, 'neurosciences': 3868, 'neurotrauma': 3869, 'neurovirology': 3870, 'nippon': 3871, 'noncommutative': 3872, 'crystalline': 3873, 'nondestructive': 3874, 'equilibrium': 3875, 'newtonian': 3876, 'nonparametric': 3877, 'nonverbal': 3878, 'nutrigenetics': 3879, 'nutrigenomics': 3880, 'nutritional': 3881, 'vitaminology': 3882, 'compulsive': 3883, 'obsessive': 3884, 'oceanology': 3885, 'official': 3886, 'palm': 3887, 'oleo': 3888, 'end': 3889, 'user': 3890, 'kieferorthopadie': 3891, 'orofacial': 3892, 'ovarian': 3893, 'ovonic': 3894, 'rim': 3895, 'symptom': 3896, 'palaeogeography': 3897, 'paleolimnology': 3898, 'paleontology': 3899, 'palestine': 3900, 'enteral': 3901, 'parenteral': 3902, 'parkinsons': 3903, 'peasant': 3904, 'strabismus': 3905, 'pension': 3906, 'constructed': 3907, 'facilities': 3908, 'perianesthesia': 3909, 'periodontal': 3910, 'personnel': 3911, 'pesticide': 3912, 'pharmacodynamics': 3913, 'toxicological': 3914, 'diffusion': 3915, 'photobiology': 3916, 'photochemistry': 3917, 'photopolymer': 3918, 'reference': 3919, 'physiotherapy': 3920, 'creole': 3921, 'pidgin': 3922, 'pineal': 3923, 'pipeline': 3924, 'plankton': 3925, 'regulation': 3926, 'registrations': 3927, 'film': 3928, 'sheeting': 3929, 'politeness': 3930, 'popular': 3931, 'porous': 3932, 'phthalocyanines': 3933, 'porphyrins': 3934, 'portfolio': 3935, 'positive': 3936, 'postgraduate': 3937, 'keynesian': 3938, 'vessel': 3939, 'productivity': 3940, 'propulsion': 3941, 'prosthetic': 3942, 'prosthodontic': 3943, 'proteome': 3944, 'operators': 3945, 'pseudo': 3946, 'psychoactive': 3947, 'psychoeducational': 3948, 'psycholinguistic': 3949, 'counsellors': 3950, 'psychologists': 3951, 'schools': 3952, 'theology': 3953, 'purchasing': 3954, 'supply': 3955, 'radiative': 3956, 'quaternary': 3957, 'disparities': 3958, 'radioanalytical': 3959, 'radiological': 3960, 'raman': 3961, 'raptor': 3962, 'rare': 3963, 'emotive': 3964, 'estate': 3965, 'real': 3966, 'time': 3967, 'receptors': 3968, 'transduction': 3969, 'microsurgery': 3970, 'refugee': 3971, 'reinforced': 3972, 'reading': 3973, 'retailing': 3974, 'validation': 3975, 'rubber': 3976, 'sandwich': 3977, 'scheduling': 3978, 'publishing': 3979, 'scholarly': 3980, 'second': 3981, 'sedimentary': 3982, 'seed': 3983, 'seismic': 3984, 'seismology': 3985, 'ship': 3986, 'elbow': 3987, 'personal': 3988, 'sociolinguistics': 3989, 'sediments': 3990, 'gel': 3991, 'sol': 3992, 'solution': 3993, 'hemisphere': 3994, 'rockets': 3995, 'spacecraft': 3996, 'weather': 3997, 'spectral': 3998, 'cord': 3999, 'spinal': 4000, 'experiment': 4001, 'inference': 4002, 'steroid': 4003, 'stomatology': 4004, 'stored': 4005, 'strain': 4006, 'conditioning': 4007, 'strength': 4008, 'use': 4009, 'sulfur': 4010, 'supercomputing': 4011, 'novel': 4012, 'supercritical': 4013, 'superhard': 4014, 'detergents': 4015, 'surfactants': 4016, 'surveying': 4017, 'swine': 4018, 'symplectic': 4019, 'synchrotron': 4020, 'palaeontology': 4021, 'telecare': 4022, 'telemedicine': 4023, 'terramechanics': 4024, 'texture': 4025, 'board': 4026, 'helicopter': 4027, 'chemists': 4028, 'leather': 4029, 'directors': 4030, 'mosquito': 4031, 'pharmacists': 4032, 'pomological': 4033, 'psychoanalytic': 4034, 'brewing': 4035, 'india': 4036, 'astronautical': 4037, 'copyright': 4038, 'usa': 4039, 'orient': 4040, 'publications': 4041, 'rapid': 4042, 'faculty': 4043, 'kyushu': 4044, 'gazi': 4045, 'formosan': 4046, 'franklin': 4047, 'era': 4048, 'gilded': 4049, 'progressive': 4050, 'jussieu': 4051, 'professionals': 4052, 'neuropsychological': 4053, 'phonetic': 4054, 'kaishi': 4055, 'kogaku': 4056, 'shokuhin': 4057, 'kansas': 4058, 'lepidopterists': 4059, 'kingdom': 4060, 'mexican': 4061, 'lanka': 4062, 'sri': 4063, 'palaeontological': 4064, 'peripheral': 4065, 'polynesian': 4066, 'cactus': 4067, 'ramanujan': 4068, 'aldosterone': 4069, 'angiotensin': 4070, 'renin': 4071, 'calorimetry': 4072, 'stresses': 4073, 'thermoplastic': 4074, 'army': 4075, 'corps': 4076, 'serbian': 4077, 'display': 4078, 'technologists': 4079, 'institution': 4080, 'torrey': 4081, 'haemostasis': 4082, 'thrombolysis': 4083, 'regenerative': 4084, 'viability': 4085, 'toxicologic': 4086, 'transcultural': 4087, 'pavements': 4088, 'acute': 4089, 'dissociation': 4090, 'traumatic': 4091, 'travel': 4092, 'turbomachinery': 4093, 'universal': 4094, 'vacation': 4095, 'vacuum': 4096, 'lymphatic': 4097, 'venous': 4098, 'vector': 4099, 'toxins': 4100, 'venomous': 4101, 'vertebrate': 4102, 'orientation': 4103, 'vestibular': 4104, 'victorian': 4105, 'vinyl': 4106, 'viral': 4107, 'virological': 4108, 'visceral': 4109, 'blindness': 4110, 'voice': 4111, 'reuse': 4112, 'sanitation': 4113, 'aqua': 4114, 'port': 4115, 'waterway': 4116, 'aerodynamics': 4117, 'wind': 4118, 'organizaciones': 4119, 'trabajo': 4120, 'prehistory': 4121, 'continence': 4122, 'ostomy': 4123, 'wuhan': 4124, 'ray': 4125, 'zhejiang': 4126, 'zoo': 4127, 'multimodal': 4128, 'journals': 4129, 'jove': 4130, 'visualized': 4131, 'jpc': 4132, 'planar': 4133, 'tlc': 4134, 'jsls': 4135, 'judgment': 4136, 'jundishapur': 4137, 'court': 4138, 'juvenile': 4139, 'kafkas': 4140, 'ronbunshu': 4141, 'kaohsiung': 4142, 'kardiologia': 4143, 'kardiologiya': 4144, 'kedi': 4145, 'kennedy': 4146, 'kerntechnik': 4147, 'kew': 4148, 'gummi': 4149, 'kautschuk': 4150, 'kgk': 4151, 'kunststoffe': 4152, 'entwicklung': 4153, 'kindheit': 4154, 'bodies': 4155, 'kinematics': 4156, 'kinetic': 4157, 'kleintierpraxis': 4158, 'augenheilkunde': 4159, 'klinische': 4160, 'monatsblatter': 4161, 'neurophysiologie': 4162, 'padiatrie': 4163, 'kobunshi': 4164, 'kodai': 4165, 'koedoe': 4166, 'kolner': 4167, 'sozialpsychologie': 4168, 'kona': 4169, 'defense': 4170, 'observer': 4171, 'kovove': 4172, 'materialy': 4173, 'metallic': 4174, 'ksce': 4175, 'ksii': 4176, 'kuwait': 4177, 'kybernetes': 4178, 'kybernetika': 4179, 'kyklos': 4180, 'kyoto': 4181, 'lab': 4182, 'chip': 4183, 'laboratoriumsmedizin': 4184, 'phonology': 4185, 'le': 4186, 'travail': 4187, 'laeknabladid': 4188, 'lake': 4189, 'reservoir': 4190, 'lancet': 4191, 'landbauforschung': 4192, 'degradation': 4193, 'landslides': 4194, 'langages': 4195, 'langenbecks': 4196, 'langmuir': 4197, 'acquisition': 4198, 'awareness': 4199, 'variation': 4200, 'laryngo': 4201, 'otologie': 4202, 'laryngoscope': 4203, 'beams': 4204, 'laterality': 4205, 'bar': 4206, 'gc': 4207, 'lc': 4208, 'learned': 4209, 'motivation': 4210, 'lecture': 4211, 'notes': 4212, 'criminological': 4213, 'legislative': 4214, 'legume': 4215, 'leiden': 4216, 'leprosy': 4217, 'lethaia': 4218, 'leukos': 4219, 'lexikos': 4220, 'lex': 4221, 'local': 4222, 'localis': 4223, 'self': 4224, 'lgbt': 4225, 'acquisitions': 4226, 'collections': 4227, 'hi': 4228, 'tech': 4229, 'libri': 4230, 'libyan': 4231, 'lichenologist': 4232, 'lifetime': 4233, 'light': 4234, 'lighting': 4235, 'limnetica': 4236, 'limnologica': 4237, 'multilinear': 4238, 'lingua': 4239, 'antverpiensia': 4240, 'themes': 4241, 'typology': 4242, 'cukrovarnicke': 4243, 'reparske': 4244, 'lithic': 4245, 'lithology': 4246, 'lithos': 4247, 'lithosphere': 4248, 'lithuanian': 4249, 'livestock': 4250, 'ljetopis': 4251, 'socijalnog': 4252, 'lms': 4253, 'igpl': 4254, 'logopedics': 4255, 'phoniatrics': 4256, 'vocology': 4257, 'longitudinal': 4258, 'long': 4259, 'lupus': 4260, 'luts': 4261, 'symptoms': 4262, 'urinary': 4263, 'lwt': 4264, 'lymphology': 4265, 'mabs': 4266, 'macedonian': 4267, 'machining': 4268, 'macroeconomic': 4269, 'macroheterocycles': 4270, 'reaction': 4271, 'simulations': 4272, 'maderas': 4273, 'bosques': 4274, 'madera': 4275, 'maejo': 4276, 'magallania': 4277, 'magnesium': 4278, 'magnetohydrodynamics': 4279, 'allatorvosok': 4280, 'lapja': 4281, 'magyar': 4282, 'main': 4283, 'malacologia': 4284, 'malaria': 4285, 'malawi': 4286, 'mammalia': 4287, 'mammal': 4288, 'manchester': 4289, 'manuscripta': 4290, 'mapan': 4291, 'metrology': 4292, 'georesources': 4293, 'geotechnology': 4294, 'micropaleontology': 4295, 'markov': 4296, 'match': 4297, 'materiale': 4298, 'plastice': 4299, 'materiales': 4300, 'materiali': 4301, 'tehnologije': 4302, 'korrosion': 4303, 'werkstoffe': 4304, 'ibero': 4305, 'microstructure': 4306, 'r': 4307, 'medziagotyra': 4308, 'poland': 4309, 'materialwissenschaft': 4310, 'werkstofftechnik': 4311, 'janeiro': 4312, 'materia': 4313, 'rio': 4314, 'intelligencer': 4315, 'philosophical': 4316, 'thinking': 4317, 'signals': 4318, 'mathematika': 4319, 'mathematische': 4320, 'matrix': 4321, 'maturitas': 4322, 'mausam': 4323, 'maydica': 4324, 'mayo': 4325, 'mbio': 4326, 'mcn': 4327, 'meat': 4328, 'meccanica': 4329, 'dependent': 4330, 'mechanika': 4331, 'mechanism': 4332, 'medchemcomm': 4333, 'infectieuses': 4334, 'fonctionnelle': 4335, 'imagerie': 4336, 'metabolique': 4337, 'nucleaire': 4338, 'mediators': 4339, 'dosimetry': 4340, 'hypotheses': 4341, 'letter': 4342, 'mycology': 4343, 'artists': 4344, 'performing': 4345, 'monitor': 4346, 'ultrasonography': 4347, 'medicc': 4348, 'aires': 4349, 'buenos': 4350, 'lavoro': 4351, 'dello': 4352, 'intensiva': 4353, 'lithuania': 4354, 'bucal': 4355, 'patologia': 4356, 'genetik': 4357, 'klinik': 4358, 'medycyna': 4359, 'pracy': 4360, 'weterynaryjna': 4361, 'melanoma': 4362, 'melbourne': 4363, 'memetic': 4364, 'memoirs': 4365, 'cruz': 4366, 'memorias': 4367, 'oswaldo': 4368, 'masculinities': 4369, 'men': 4370, 'mendeleev': 4371, 'menopause': 4372, 'merrill': 4373, 'palmer': 4374, 'metabolomics': 4375, 'metacognition': 4376, 'metallomics': 4377, 'metallurgia': 4378, 'metallurgist': 4379, 'metaphor': 4380, 'symbol': 4381, 'meteoritics': 4382, 'meteorologische': 4383, 'enzymology': 4384, 'metrika': 4385, 'metroeconomica': 4386, 'metrologia': 4387, 'michigan': 4388, 'factories': 4389, 'pathogenesis': 4390, 'microbiologyopen': 4391, 'sgm': 4392, 'microbiome': 4393, 'microchemical': 4394, 'microchimica': 4395, 'microelectronic': 4396, 'microfluidics': 4397, 'nanofluidics': 4398, 'microgravity': 4399, 'micromachines': 4400, 'micron': 4401, 'microorganisms': 4402, 'mesoporous': 4403, 'microporous': 4404, 'microprocessors': 4405, 'microsystems': 4406, 'microanalysis': 4407, 'technique': 4408, 'microsystem': 4409, 'nanosystems': 4410, 'microvascular': 4411, 'bulteni': 4412, 'mikrobiyoloji': 4413, 'milan': 4414, 'milbank': 4415, 'military': 4416, 'millennium': 4417, 'mind': 4418, 'mindfulness': 4419, 'minds': 4420, 'deposita': 4421, 'mineralium': 4422, 'anestesiologica': 4423, 'minerva': 4424, 'biotecnologica': 4425, 'cardioangiologica': 4426, 'pediatrica': 4427, 'nefrologica': 4428, 'urologica': 4429, 'mini': 4430, 'minnesota': 4431, 'mires': 4432, 'peat': 4433, 'miskolc': 4434, 'executive': 4435, 'mis': 4436, 'adaptation': 4437, 'mitigation': 4438, 'mitochondrial': 4439, 'mitochondrion': 4440, 'mit': 4441, 'sloan': 4442, 'geographischen': 4443, 'mitteilungen': 4444, 'osterreichischen': 4445, 'klosterneuburg': 4446, 'mljekarstvo': 4447, 'mmwr': 4448, 'morbidity': 4449, 'mortality': 4450, 'weekly': 4451, 'recommendations': 4452, 'summaries': 4453, 'mobilities': 4454, 'mobilization': 4455, 'identification': 4456, 'gakkaishi': 4457, 'mokuzai': 4458, 'probes': 4459, 'genomic': 4460, 'neurodegeneration': 4461, 'omics': 4462, 'phylogenetics': 4463, 'nucleic': 4464, 'oncolytics': 4465, 'monatshefte': 4466, 'kriminologie': 4467, 'monatsschrift': 4468, 'strafrechtsreform': 4469, 'kinderheilkunde': 4470, 'socialist': 4471, 'moravian': 4472, 'mouvement': 4473, 'movimento': 4474, 'mrs': 4475, 'som': 4476, 'msphere': 4477, 'msystems': 4478, 'mucosal': 4479, 'multibody': 4480, 'multidimensional': 4481, 'interlanguage': 4482, 'multilingua': 4483, 'multisensory': 4484, 'nerve': 4485, 'musicae': 4486, 'mycobiology': 4487, 'mycokeys': 4488, 'mycologia': 4489, 'mycological': 4490, 'mycopathologia': 4491, 'mycorrhiza': 4492, 'mycoscience': 4493, 'mycoses': 4494, 'mycosphere': 4495, 'mycotaxon': 4496, 'mycotoxin': 4497, 'fibromyalagia': 4498, 'myofascial': 4499, 'myopain': 4500, 'myrmecological': 4501, 'nagoya': 4502, 'names': 4503, 'onomastics': 4504, 'nanoethics': 4505, 'microscale': 4506, 'nanoscale': 4507, 'thermophysical': 4508, 'nanotoxicology': 4509, 'narrative': 4510, 'nation': 4511, 'nationalism': 4512, 'nations': 4513, 'bulgaria': 4514, 'protocols': 4515, 'primers': 4516, 'naunyn': 4517, 'schmiedebergs': 4518, 'nautilus': 4519, 'nber': 4520, 'ndt': 4521, 'nebraska': 4522, 'symposium': 4523, 'nefrologia': 4524, 'nematropica': 4525, 'neobiota': 4526, 'neonatology': 4527, 'neoplasma': 4528, 'neotropical': 4529, 'nephrologie': 4530, 'dialysis': 4531, 'nephron': 4532, 'nervenarzt': 4533, 'mijnbouw': 4534, 'heterogeneous': 4535, 'jahrbuch': 4536, 'neues': 4537, 'palaontologie': 4538, 'mineralogie': 4539, 'regeneration': 4540, 'neurocase': 4541, 'neurochemical': 4542, 'neurocirugia': 4543, 'neurocomputing': 4544, 'neurocritical': 4545, 'neurodegenerative': 4546, 'neuroepidemiology': 4547, 'neuroethics': 4548, 'neuroimage': 4549, 'neuroimmunomodulation': 4550, 'neurochirurgia': 4551, 'neurologia': 4552, 'neurologist': 4553, 'neuromodulation': 4554, 'neuromolecular': 4555, 'neuromuscular': 4556, 'neuron': 4557, 'neuropediatrics': 4558, 'neuropeptides': 4559, 'neurophotonics': 4560, 'neuropsychobiology': 4561, 'neuropsychologia': 4562, 'neuroreport': 4563, 'biobehavioral': 4564, 'neuroscientist': 4565, 'neurotoxicity': 4566, 'neurotoxicology': 4567, 'teratology': 4568, 'urodynamics': 4569, 'left': 4570, 'medit': 4571, 'turkey': 4572, 'phytologist': 4573, 'republic': 4574, 'hypermedia': 4575, 'newsletters': 4576, 'stratigraphy': 4577, 'nexus': 4578, 'nicotine': 4579, 'tobacco': 4580, 'nigerian': 4581, 'nihon': 4582, 'reoroji': 4583, 'suisan': 4584, 'nitric': 4585, 'oxide': 4586, 'njas': 4587, 'wageningen': 4588, 'nodea': 4589, 'hybrid': 4590, 'nonlinearity': 4591, 'nonprofit': 4592, 'sector': 4593, 'voluntary': 4594, 'nordic': 4595, 'paper': 4596, 'pulp': 4597, 'arsivi': 4598, 'noropsikiyatri': 4599, 'norsk': 4600, 'norwegian': 4601, 'northeastern': 4602, 'northern': 4603, 'northwestern': 4604, 'western': 4605, 'northwest': 4606, 'lepidopterologica': 4607, 'nota': 4608, 'notarzt': 4609, 'notfall': 4610, 'rettungsmedizin': 4611, 'notornis': 4612, 'dame': 4613, 'notre': 4614, 'agrobotanici': 4615, 'botanicae': 4616, 'cluj': 4617, 'horti': 4618, 'napoca': 4619, 'notulae': 4620, 'hedwigia': 4621, 'nova': 4622, 'novon': 4623, 'npg': 4624, 'biofilms': 4625, 'microbiomes': 4626, 'npj': 4627, 'sheets': 4628, 'accelerators': 4629, 'detectors': 4630, 'spectrometers': 4631, 'atoms': 4632, 'beam': 4633, 'acid': 4634, 'nucleosides': 4635, 'nucleotides': 4636, 'nucleus': 4637, 'nuklearmedizin': 4638, 'nukleonika': 4639, 'numerische': 4640, 'nuncius': 4641, 'outlook': 4642, 'hospitalaria': 4643, 'agroecosystems': 4644, 'cycling': 4645, 'nutrient': 4646, 'nutrients': 4647, 'metabolisme': 4648, 'gids': 4649, 'guide': 4650, 'indische': 4651, 'nieuwe': 4652, 'nwig': 4653, 'west': 4654, 'facts': 4655, 'obstetrical': 4656, 'oxford': 4657, 'oceanologia': 4658, 'hydrobiological': 4659, 'oceanological': 4660, 'ochrona': 4661, 'srodowiska': 4662, 'odonatologica': 4663, 'odontology': 4664, 'oecologia': 4665, 'oeno': 4666, 'ofioliti': 4667, 'oikos': 4668, 'ifp': 4669, 'nouvelles': 4670, 'shale': 4671, 'dying': 4672, 'oncogene': 4673, 'oncogenesis': 4674, 'oncoimmunology': 4675, 'oncologie': 4676, 'oncologist': 4677, 'oncotargets': 4678, 'onderstepoort': 4679, 'onkologe': 4680, 'onomazein': 4681, 'house': 4682, 'operative': 4683, 'orthopadie': 4684, 'traumatologie': 4685, 'matrices': 4686, 'ophthalmic': 4687, 'retina': 4688, 'ophthalmologe': 4689, 'optica': 4690, 'switching': 4691, 'optik': 4692, 'optimal': 4693, 'opto': 4694, 'order': 4695, 'ordered': 4696, 'preparations': 4697, 'organogenesis': 4698, 'organometallics': 4699, 'oriental': 4700, 'biospheres': 4701, 'orl': 4702, 'ornis': 4703, 'ornithological': 4704, 'ornitologia': 4705, 'orphanet': 4706, 'orthopade': 4707, 'orthopedic': 4708, 'hetilap': 4709, 'orvosi': 4710, 'oryx': 4711, 'osaka': 4712, 'osiris': 4713, 'osteoarthritis': 4714, 'osteuropa': 4715, 'ostrich': 4716, 'occupation': 4717, 'otjr': 4718, 'participation': 4719, 'otolaryngologic': 4720, 'neurotology': 4721, 'oxidation': 4722, 'longevity': 4723, 'oxidative': 4724, 'ozone': 4725, 'pace': 4726, 'pacing': 4727, 'pachyderm': 4728, 'paddy': 4729, 'paedagogica': 4730, 'palaeobiodiversity': 4731, 'palaeoenvironments': 4732, 'palaeoclimatology': 4733, 'palaeoecology': 4734, 'abteilung': 4735, 'palaeontographica': 4736, 'palaozoologie': 4737, 'stratigraphie': 4738, 'palaeobotany': 4739, 'palaeophytologie': 4740, 'palaeophytology': 4741, 'electronica': 4742, 'palaeontologia': 4743, 'palaeoworld': 4744, 'palaios': 4745, 'paleobiology': 4746, 'paleoceanography': 4747, 'paleoclimatology': 4748, 'paleontological': 4749, 'palynology': 4750, 'palz': 4751, 'pancreas': 4752, 'pancreatology': 4753, 'panminerva': 4754, 'panoeconomicus': 4755, 'pan': 4756, 'papeles': 4757, 'poblacion': 4758, 'parallax': 4759, 'parasite': 4760, 'vectors': 4761, 'parenting': 4762, 'parkinsonism': 4763, 'parliamentary': 4764, 'particulate': 4765, 'particuology': 4766, 'party': 4767, 'present': 4768, 'pathobiology': 4769, 'pathologe': 4770, 'centered': 4771, 'adherence': 4772, 'prejudice': 4773, 'pci': 4774, 'pedagogische': 4775, 'pulmonology': 4776, 'pedobiologia': 4777, 'pedosphere': 4778, 'peerj': 4779, 'peer': 4780, 'peptides': 4781, 'perceptual': 4782, 'skills': 4783, 'perfiles': 4784, 'perfusion': 4785, 'periodica': 4786, 'mineralogia': 4787, 'periodico': 4788, 'biologorum': 4789, 'periodicum': 4790, 'peritoneal': 4791, 'periglacial': 4792, 'permafrost': 4793, 'personalized': 4794, 'persoonia': 4795, 'agropecuaria': 4796, 'pesquisa': 4797, 'petrophysics': 4798, 'pferdeheilkunde': 4799, 'pfg': 4800, 'pflege': 4801, 'pflugers': 4802, 'pharmacoepidemiology': 4803, 'pharmacogenetics': 4804, 'pharmacogenomics': 4805, 'pharmacognosy': 4806, 'pharmacopsychiatry': 4807, 'delta': 4808, 'kappan': 4809, 'phi': 4810, 'philippine': 4811, 'philosophia': 4812, 'phlebology': 4813, 'phonetica': 4814, 'phosphorus': 4815, 'silicon': 4816, 'photobiological': 4817, 'photochemical': 4818, 'photodermatology': 4819, 'photoimmunology': 4820, 'photomedicine': 4821, 'photodiagnosis': 4822, 'photodynamic': 4823, 'photogrammetric': 4824, 'photonic': 4825, 'photosynthesis': 4826, 'photosynthetica': 4827, 'phycologia': 4828, 'phycological': 4829, 'phyllomedusa': 4830, 'pedagogy': 4831, 'mesomechanics': 4832, 'scripta': 4833, 'solidi': 4834, 'status': 4835, 'sportsmedicine': 4836, 'glasses': 4837, 'nuclei': 4838, 'metallography': 4839, 'particles': 4840, 'plasmas': 4841, 'dark': 4842, 'universe': 4843, 'interiors': 4844, 'wave': 4845, 'uspekhi': 4846, 'kurortmedizin': 4847, 'physikalische': 4848, 'rehabilitationsmedizin': 4849, 'physiologia': 4850, 'phytochemical': 4851, 'phytochemistry': 4852, 'phytocoenologia': 4853, 'phytokeys': 4854, 'phytomedicine': 4855, 'phyton': 4856, 'rei': 4857, 'phytoparasitica': 4858, 'phytopathologia': 4859, 'phytoprotection': 4860, 'phytotaxa': 4861, 'phytotherapy': 4862, 'pigment': 4863, 'resin': 4864, 'pituitary': 4865, 'placenta': 4866, 'benthos': 4867, 'daninha': 4868, 'planta': 4869, 'reporter': 4870, 'plasmid': 4871, 'plasmonics': 4872, 'platelets': 4873, 'plos': 4874, 'neglected': 4875, 'pmm': 4876, 'pm': 4877, 'poetics': 4878, 'police': 4879, 'policing': 4880, 'polimeros': 4881, 'polimery': 4882, 'archiwum': 4883, 'medycyny': 4884, 'polskie': 4885, 'wewnetrznej': 4886, 'gobierno': 4887, 'politicka': 4888, 'politikon': 4889, 'politische': 4890, 'vierteljahresschrift': 4891, 'politix': 4892, 'polity': 4893, 'aromatic': 4894, 'polycyclic': 4895, 'polyhedron': 4896, 'metrics': 4897, 'linguarum': 4898, 'porta': 4899, 'portal': 4900, 'portugaliae': 4901, 'positivity': 4902, 'biologii': 4903, 'komorki': 4904, 'postepy': 4905, 'alergologii': 4906, 'dermatologii': 4907, 'doswiadczalnej': 4908, 'higieny': 4909, 'mikrobiologii': 4910, 'interwencyjnej': 4911, 'kardiologii': 4912, 'w': 4913, 'postharvest': 4914, 'medieval': 4915, 'postmedieval': 4916, 'soviet': 4917, 'potential': 4918, 'diffraction': 4919, 'poznan': 4920, 'ppar': 4921, 'praehistorische': 4922, 'prague': 4923, 'metallographie': 4924, 'practical': 4925, 'praktische': 4926, 'pramana': 4927, 'pratiques': 4928, 'kinderpsychiatrie': 4929, 'kinderpsychologie': 4930, 'precambrian': 4931, 'prehospital': 4932, 'prenatal': 4933, 'preparative': 4934, 'presence': 4935, 'teleoperators': 4936, 'presidential': 4937, 'preslia': 4938, 'presse': 4939, 'preventing': 4940, 'primates': 4941, 'prion': 4942, 'prison': 4943, 'probabilistic': 4944, 'informational': 4945, 'probiotics': 4946, 'communism': 4947, 'ekorozwoju': 4948, 'problemy': 4949, 'probus': 4950, 'philadelphia': 4951, 'geologists': 4952, 'engineer': 4953, 'municipal': 4954, 'automobile': 4955, 'rail': 4956, 'transit': 4957, 'k': 4958, 'p': 4959, 'wales': 4960, 'states': 4961, 'romanian': 4962, 'steklov': 4963, 'yorkshire': 4964, 'profesional': 4965, 'progres': 4966, 'partnerships': 4967, 'pier': 4968, 'retinal': 4969, 'recycling': 4970, 'promet': 4971, 'traffic': 4972, 'ornamental': 4973, 'explosives': 4974, 'propellants': 4975, 'pyrotechnics': 4976, 'fatty': 4977, 'leukotrienes': 4978, 'prostaglandins': 4979, 'prostate': 4980, 'prostatic': 4981, 'orthotics': 4982, 'prosthetics': 4983, 'protist': 4984, 'protoplasma': 4985, 'chemiczny': 4986, 'przemysl': 4987, 'reflexao': 4988, 'psicologica': 4989, 'psicothema': 4990, 'psihologija': 4991, 'psikhologicheskii': 4992, 'zhurnal': 4993, 'ps': 4994, 'anwendungen': 4995, 'ihre': 4996, 'psyche': 4997, 'danubina': 4998, 'psychiatria': 4999, 'enfant': 5000, 'psychiatrische': 5001, 'psych': 5002, 'psychologia': 5003, 'psychologische': 5004, 'francaise': 5005, 'erziehung': 5006, 'unterricht': 5007, 'aesthetics': 5008, 'masculinity': 5009, 'spirituality': 5010, 'psychometrika': 5011, 'psychoneuroendocrinology': 5012, 'psychonomic': 5013, 'psycho': 5014, 'psychosis': 5015, 'psychosomatics': 5016, 'psychotherapeut': 5017, 'psychosomatik': 5018, 'psychotherapie': 5019, 'pteridines': 5020, 'matematiques': 5021, 'publicacions': 5022, 'debrecen': 5023, 'publicationes': 5024, 'ihes': 5025, 'federalism': 5026, 'publius': 5027, 'puerto': 5028, 'rico': 5029, 'penology': 5030, 'punishment': 5031, 'purinergic': 5032, 'qjm': 5033, 'qme': 5034, 'quaestiones': 5035, 'quantity': 5036, 'thermography': 5037, 'quaternaire': 5038, 'geochronology': 5039, 'mary': 5040, 'queen': 5041, 'quest': 5042, 'queueing': 5043, 'quimica': 5044, 'quintessence': 5045, 'measurements': 5046, 'radiocarbon': 5047, 'radiochimica': 5048, 'radioengineering': 5049, 'radiographics': 5050, 'radiologe': 5051, 'radiologia': 5052, 'radiologic': 5053, 'radiophysics': 5054, 'radioprotection': 5055, 'radio': 5056, 'radiotherapy': 5057, 'administracao': 5058, 'empresas': 5059, 'rae': 5060, 'raffles': 5061, 'rairo': 5062, 'rand': 5063, 'random': 5064, 'rangeland': 5065, 'prototyping': 5066, 'rationality': 5067, 'gestao': 5068, 'negocios': 5069, 'rbgn': 5070, 'reactive': 5071, 'recall': 5072, 'recent': 5073, 'recht': 5074, 'rechtsmedizin': 5075, 'redia': 5076, 'refractories': 5077, 'chaotic': 5078, 'rejuvenation': 5079, 'industrielles': 5080, 'remedial': 5081, 'matematico': 5082, 'padova': 5083, 'rendiconti': 5084, 'seminario': 5085, 'universita': 5086, 'applicazioni': 5087, 'lincei': 5088, 'fisiche': 5089, 'naturali': 5090, 'representations': 5091, 'requirements': 5092, 'persons': 5093, 'severe': 5094, 'technological': 5095, 'mobility': 5096, 'stratification': 5097, 'intermediates': 5098, 'respiration': 5099, 'respirology': 5100, 'archival': 5101, 'restaurator': 5102, 'results': 5103, 'rethinking': 5104, 'vitreous': 5105, 'retrovirology': 5106, 'household': 5107, 'income': 5108, 'wealth': 5109, 'kriminalistiko': 5110, 'kriminologijo': 5111, 'revija': 5112, 'politiku': 5113, 'socijalnu': 5114, 'arvore': 5115, 'anestesiologia': 5116, 'solo': 5117, 'farmacognosia': 5118, 'fruticultura': 5119, 'esporte': 5120, 'paleontologia': 5121, 'parasitologia': 5122, 'reumatologia': 5123, 'caatinga': 5124, 'ambiente': 5125, 'chapingo': 5126, 'forestales': 5127, 'derecho': 5128, 'infectologia': 5129, 'agronomica': 5130, 'cientifica': 5131, 'facultad': 5132, 'veterinarias': 5133, 'pecuarias': 5134, 'associacao': 5135, 'escola': 5136, 'usp': 5137, 'oceanografia': 5138, 'cercetare': 5139, 'interventie': 5140, 'si': 5141, 'sociala': 5142, 'contabilidad': 5143, 'mundial': 5144, 'politicos': 5145, 'grande': 5146, 'norte': 5147, 'agronomia': 5148, 'universidad': 5149, 'zulia': 5150, 'agrarias': 5151, 'exactas': 5152, 'fisicas': 5153, 'matematicas': 5154, 'naturales': 5155, 'clad': 5156, 'democracia': 5157, 'reforma': 5158, 'metalurgia': 5159, 'dialisis': 5160, 'trasplante': 5161, 'nutricao': 5162, 'psicodidactica': 5163, 'deporte': 5164, 'paulo': 5165, 'sao': 5166, 'constitucional': 5167, 'documentacion': 5168, 'digestivas': 5169, 'investigaciones': 5170, 'sociologicas': 5171, 'imagen': 5172, 'pedagogia': 5173, 'quimioterapia': 5174, 'fitotecnia': 5175, 'avaliacao': 5176, 'diagnostico': 5177, 'evaluacion': 5178, 'micologia': 5179, 'contaminacion': 5180, 'actividad': 5181, 'calculo': 5182, 'diseno': 5183, 'metodos': 5184, 'numericos': 5185, 'para': 5186, 'sociologia': 5187, 'latino': 5188, 'educativa': 5189, 'relime': 5190, 'complutense': 5191, 'chile': 5192, 'astrofisica': 5193, 'astronomia': 5194, 'biodiversidad': 5195, 'geologicas': 5196, 'cordoba': 5197, 'mvz': 5198, 'panamericana': 5199, 'romana': 5200, 'laborator': 5201, 'signos': 5202, 'revstat': 5203, 'ecologie': 5204, 'terre': 5205, 'vie': 5206, 'economie': 5207, 'geographie': 5208, 'interne': 5209, 'pneumologie': 5210, 'respiratoires': 5211, 'comparatives': 5212, 'est': 5213, 'ouest': 5214, 'histoire': 5215, 'linguistique': 5216, 'neurologique': 5217, 'roumaine': 5218, 'electrotechnique': 5219, 'energetique': 5220, 'epizooties': 5221, 'office': 5222, 'scientifique': 5223, 'suisse': 5224, 'zoologie': 5225, 'rheologica': 5226, 'rhetoric': 5227, 'rhodora': 5228, 'rice': 5229, 'ride': 5230, 'theatre': 5231, 'filologia': 5232, 'hispanica': 5233, 'rilce': 5234, 'river': 5235, 'cimento': 5236, 'nuovo': 5237, 'psichiatria': 5238, 'grasse': 5239, 'sostanze': 5240, 'stratigrafia': 5241, 'rla': 5242, 'rna': 5243, 'robotica': 5244, 'rocky': 5245, 'rocznik': 5246, 'auf': 5247, 'bildgebenden': 5248, 'gebiet': 5249, 'rofo': 5250, 'rontgenstrahlen': 5251, 'verfahren': 5252, 'romani': 5253, 'rsc': 5254, 'ferrous': 5255, 'theriology': 5256, 'rutgers': 5257, 'sadhana': 5258, 'sage': 5259, 'sahara': 5260, 'malaysiana': 5261, 'sains': 5262, 'salamandra': 5263, 'colectiva': 5264, 'samj': 5265, 'sampe': 5266, 'qsar': 5267, 'sar': 5268, 'diffuse': 5269, 'sarcoidosis': 5270, 'vasculitis': 5271, 'sbornik': 5272, 'scandia': 5273, 'actuarial': 5274, 'scandinavian': 5275, 'caring': 5276, 'scanning': 5277, 'schizophrenia': 5278, 'schmerz': 5279, 'improvement': 5280, 'schweizer': 5281, 'tierheilkunde': 5282, 'installations': 5283, 'joining': 5284, 'welding': 5285, 'scienceasia': 5286, 'sintering': 5287, 'total': 5288, 'forestalis': 5289, 'iranica': 5290, 'scientometrics': 5291, 'scottish': 5292, 'securities': 5293, 'dialogue': 5294, 'sedimentology': 5295, 'seizure': 5296, 'semiconductors': 5297, 'semimetals': 5298, 'semigroup': 5299, 'semina': 5300, 'rheumatism': 5301, 'mri': 5302, 'semiotica': 5303, 'sen': 5304, 'actuators': 5305, 'sequential': 5306, 'serials': 5307, 'set': 5308, 'variational': 5309, 'roles': 5310, 'relationship': 5311, 'sexualities': 5312, 'sexually': 5313, 'transmitted': 5314, 'lepidopterologia': 5315, 'shilap': 5316, 'ships': 5317, 'asa': 5318, 'siam': 5319, 'siberian': 5320, 'sigmod': 5321, 'signa': 5322, 'vitae': 5323, 'signs': 5324, 'silvae': 5325, 'silva': 5326, 'sintagma': 5327, 'skeletal': 5328, 'slas': 5329, 'slavic': 5330, 'breathing': 5331, 'slovenian': 5332, 'slovesnost': 5333, 'slovo': 5334, 'ruminant': 5335, 'epistemology': 5336, 'influence': 5337, 'les': 5338, 'sur': 5339, 'semiotics': 5340, 'ruralis': 5341, 'sociologicky': 5342, 'forskning': 5343, 'sociologisk': 5344, 'sociologus': 5345, 'illness': 5346, 'verification': 5347, 'tillage': 5348, 'sola': 5349, 'inspecao': 5350, 'soldagem': 5351, 'mount': 5352, 'soldering': 5353, 'exchange': 5354, 'extraction': 5355, 'ion': 5356, 'solvent': 5357, 'somatosensory': 5358, 'sort': 5359, 'issledovaniya': 5360, 'sotsiologicheskie': 5361, 'souls': 5362, 'recreation': 5363, 'afrikaanse': 5364, 'suid': 5365, 'tydskrif': 5366, 'vir': 5367, 'southeastern': 5368, 'southwestern': 5369, 'soziale': 5370, 'sozialwissenschaftliche': 5371, 'welt': 5372, 'contabilida': 5373, 'financiacion': 5374, 'spectrochimica': 5375, 'completion': 5376, 'drilling': 5377, 'spe': 5378, 'spin': 5379, 'spixiana': 5380, 'approach': 5381, 'multidisciplinary': 5382, 'sportschaden': 5383, 'sportverletzung': 5384, 'celokupno': 5385, 'lekarstvo': 5386, 'srpski': 5387, 'stahlbau': 5388, 'stanford': 5389, 'starch': 5390, 'starke': 5391, 'stata': 5392, 'neerlandica': 5393, 'statistica': 5394, 'stereotactic': 5395, 'steroids': 5396, 'petersburg': 5397, 'onkologie': 5398, 'strahlentherapie': 5399, 'correlation': 5400, 'strojniski': 5401, 'tall': 5402, 'equation': 5403, 'bonding': 5404, 'studia': 5405, 'logica': 5406, 'mathematicarum': 5407, 'babes': 5408, 'bolyai': 5409, 'universitatis': 5410, 'terrorism': 5411, 'fauna': 5412, 'misuse': 5413, 'suchttherapie': 5414, 'zuckerindustrie': 5415, 'threatening': 5416, 'list': 5417, 'sumarski': 5418, 'superconductor': 5419, 'microstructures': 5420, 'superlattices': 5421, 'supramolecular': 5422, 'supreme': 5423, 'colleges': 5424, 'ireland': 5425, 'laparoscopy': 5426, 'percutaneous': 5427, 'swarm': 5428, 'swiss': 5429, 'sydowia': 5430, 'sylwan': 5431, 'symbiosis': 5432, 'symmetry': 5433, 'integrability': 5434, 'synapse': 5435, 'synlett': 5436, 'syntax': 5437, 'synthese': 5438, 'stuttgart': 5439, 'taiwanese': 5440, 'taiwania': 5441, 'talanta': 5442, 'tappi': 5443, 'targeted': 5444, 'target': 5445, 'bilimleri': 5446, 'tarim': 5447, 'taxon': 5448, 'teachers': 5449, 'coloproctology': 5450, 'technometrics': 5451, 'technovation': 5452, 'agua': 5453, 'tectonics': 5454, 'tectonophysics': 5455, 'tehnicki': 5456, 'vjesnik': 5457, 'dergi': 5458, 'teknik': 5459, 'konfeksiyon': 5460, 'tekstil': 5461, 'telecommunication': 5462, 'telematics': 5463, 'television': 5464, 'tellus': 5465, 'telopea': 5466, 'telos': 5467, 'tempo': 5468, 'tenside': 5469, 'arkhiv': 5470, 'terapevticheskii': 5471, 'terapia': 5472, 'terminology': 5473, 'terra': 5474, 'territory': 5475, 'tesol': 5476, 'tetrahedron': 5477, 'hagane': 5478, 'tetsu': 5479, 'texas': 5480, 'talk': 5481, 'text': 5482, 'thai': 5483, 'thalassas': 5484, 'categories': 5485, 'theranostics': 5486, 'hypothermia': 5487, 'therapie': 5488, 'theriogenology': 5489, 'thermochimica': 5490, 'aeromechanics': 5491, 'films': 5492, 'walled': 5493, 'thorax': 5494, 'tick': 5495, 'ticks': 5496, 'samfunnsforskning': 5497, 'ausgabe': 5498, 'grosstiere': 5499, 'nutztiere': 5500, 'tieraerztliche': 5501, 'heimtiere': 5502, 'kleintiere': 5503, 'communicatiewetenschap': 5504, 'tijdschrift': 5505, 'voor': 5506, 'diergeneeskunde': 5507, 'economische': 5508, 'sociale': 5509, 'droit': 5510, 'rechtsgeschiedenis': 5511, 'messen': 5512, 'technisches': 5513, 'tm': 5514, 'induced': 5515, 'tohoku': 5516, 'topia': 5517, 'companion': 5518, 'topological': 5519, 'excellence': 5520, 'tourist': 5521, 'toxicon': 5522, 'toxin': 5523, 'prehistoria': 5524, 'trabajos': 5525, 'electrolytes': 5526, 'trac': 5527, 'traitement': 5528, 'trames': 5529, 'gis': 5530, 'famena': 5531, 'nonferrous': 5532, 'asabe': 5533, 'finishing': 5534, 'transboundary': 5535, 'transformation': 5536, 'transformations': 5537, 'hemotherapy': 5538, 'transgenic': 5539, 'transinformacao': 5540, 'transplant': 5541, 'methodological': 5542, 'transportmetrica': 5543, 'transylvanian': 5544, 'genre': 5545, 'societes': 5546, 'humain': 5547, 'tree': 5548, 'ring': 5549, 'trees': 5550, 'glycoscience': 5551, 'glycotechnology': 5552, 'economico': 5553, 'trimestre': 5554, 'doctor': 5555, 'forrajes': 5556, 'grasslands': 5557, 'tropicales': 5558, 'tsinghua': 5559, 'tuexenia': 5560, 'tumori': 5561, 'tunnelling': 5562, 'underground': 5563, 'damar': 5564, 'gogus': 5565, 'kalp': 5566, 'turk': 5567, 'biyokimya': 5568, 'geriatri': 5569, 'entomoloji': 5570, 'turkiye': 5571, 'psikoloji': 5572, 'twin': 5573, 'geesteswetenskappe': 5574, 'ucla': 5575, 'hematoloji': 5576, 'onkoloji': 5577, 'uhod': 5578, 'uluslararasi': 5579, 'ukrainian': 5580, 'ultramicroscopy': 5581, 'ultraschall': 5582, 'ultrasonic': 5583, 'sonochemistry': 5584, 'ultrastructural': 5585, 'acil': 5586, 'cerrahi': 5587, 'travma': 5588, 'ulusal': 5589, 'iliskiler': 5590, 'undersea': 5591, 'unfallchirurg': 5592, 'universitas': 5593, 'chicago': 5594, 'cincinnati': 5595, 'illinois': 5596, 'pennsylvania': 5597, 'pittsburgh': 5598, 'toronto': 5599, 'politehnica': 5600, 'upsala': 5601, 'greening': 5602, 'lawyer': 5603, 'urolithiasis': 5604, 'urologe': 5605, 'internationalis': 5606, 'urologic': 5607, 'original': 5608, 'ursus': 5609, 'utilitas': 5610, 'utilities': 5611, 'vadose': 5612, 'zone': 5613, 'vanderbilt': 5614, 'vasa': 5615, 'zoonotic': 5616, 'archaeobotany': 5617, 'verhaltenstherapie': 5618, 'veterinarni': 5619, 'veterinarski': 5620, 'vial': 5621, 'vigo': 5622, 'vibrational': 5623, 'miniinvasive': 5624, 'videosurgery': 5625, 'milieu': 5626, 'victims': 5627, 'virchows': 5628, 'virginia': 5629, 'virologie': 5630, 'reality': 5631, 'virulence': 5632, 'vitamins': 5633, 'vitis': 5634, 'diergeneeskundig': 5635, 'vlaams': 5636, 'vldb': 5637, 'vocations': 5638, 'pregled': 5639, 'vojnosanitetski': 5640, 'voluntas': 5641, 'psikhologii': 5642, 'voprosy': 5643, 'sanguinis': 5644, 'vox': 5645, 'wasserwirtschaft': 5646, 'valorization': 5647, 'waterbirds': 5648, 'sa': 5649, 'motion': 5650, 'weed': 5651, 'wetlands': 5652, 'wiener': 5653, 'wilderness': 5654, 'wildfowl': 5655, 'wiley': 5656, 'willdenowia': 5657, 'wilson': 5658, 'wisconsin': 5659, 'papierfabrikation': 5660, 'wochenblatt': 5661, 'occupations': 5662, 'workplace': 5663, 'englishes': 5664, 'cases': 5665, 'rabbit': 5666, 'worldviews': 5667, 'compendium': 5668, 'written': 5669, 'wulfenia': 5670, 'xenobiotica': 5671, 'xenotransplantation': 5672, 'yakugaku': 5673, 'zasshi': 5674, 'yale': 5675, 'yonago': 5676, 'yonsei': 5677, 'mechanik': 5678, 'zamm': 5679, 'ekonomskog': 5680, 'fakulteta': 5681, 'radova': 5682, 'rijeci': 5683, 'rijeka': 5684, 'u': 5685, 'varstvo': 5686, 'zdravstveno': 5687, 'zebrafish': 5688, 'zeitgeschichte': 5689, 'geowissenschaften': 5690, 'familienforschung': 5691, 'zeitschrifte': 5692, 'anorganische': 5693, 'arbeits': 5694, 'organisationspsychologie': 5695, 'arznei': 5696, 'gewurzpflanzen': 5697, 'bibliographie': 5698, 'bibliothekswesen': 5699, 'dialektologie': 5700, 'linguistik': 5701, 'entwicklungspsychologie': 5702, 'padagogische': 5703, 'erziehungswissenschaft': 5704, 'ethnologie': 5705, 'gastroenterologie': 5706, 'neonatologie': 5707, 'gerontologie': 5708, 'gesundheitspsychologie': 5709, 'jugendpsychiatrie': 5710, 'kinder': 5711, 'kristallographie': 5712, 'naturforschung': 5713, 'neuropsychologie': 5714, 'unfallchirurgie': 5715, 'padagogik': 5716, 'psychosomatische': 5717, 'sexualforschung': 5718, 'sozialisation': 5719, 'sportpsychologie': 5720, 'sprachwissenschaft': 5721, 'wirtschaftsgeographie': 5722, 'zemdirbyste': 5723, 'zentralblatt': 5724, 'obshchei': 5725, 'deyatelnosti': 5726, 'imeni': 5727, 'nervnoi': 5728, 'pavlova': 5729, 'vysshei': 5730, 'zkg': 5731, 'zookeys': 5732, 'zoologichesky': 5733, 'zoologischer': 5734, 'zoomorphology': 5735, 'zoonoses': 5736, 'zoosystematics': 5737, 'zoosystema': 5738, 'zootaxa': 5739, 'zuchtungskunde': 5740, 'zygon': 5741, 'zygote': 5742}\n"
          ],
          "name": "stdout"
        }
      ]
    },
    {
      "metadata": {
        "id": "lGVqJ1qA-cWr",
        "colab_type": "code",
        "colab": {
          "base_uri": "https://localhost:8080/",
          "height": 34
        },
        "outputId": "597fe3cf-b5af-4da3-b8bb-b69874c86de4"
      },
      "cell_type": "code",
      "source": [
        "journals_dictionary[1]"
      ],
      "execution_count": 43,
      "outputs": [
        {
          "output_type": "execute_result",
          "data": {
            "text/plain": [
              "'materials'"
            ]
          },
          "metadata": {
            "tags": []
          },
          "execution_count": 43
        }
      ]
    },
    {
      "metadata": {
        "id": "j-ogACwg-QRC",
        "colab_type": "code",
        "colab": {}
      },
      "cell_type": "code",
      "source": [
        "journals_corpus = [journals_dictionary.doc2bow(text) for text in journals['Full title']]"
      ],
      "execution_count": 0,
      "outputs": []
    },
    {
      "metadata": {
        "id": "XqvZdJC1-zIc",
        "colab_type": "code",
        "colab": {
          "base_uri": "https://localhost:8080/",
          "height": 34
        },
        "outputId": "976af762-2c6e-4362-8d1a-ee868fe8fdee"
      },
      "cell_type": "code",
      "source": [
        "journals_corpus[1:4]"
      ],
      "execution_count": 45,
      "outputs": [
        {
          "output_type": "execute_result",
          "data": {
            "text/plain": [
              "[[(2, 1)], [(0, 1), (3, 1), (4, 1), (5, 1)], [(6, 1), (7, 1), (8, 1)]]"
            ]
          },
          "metadata": {
            "tags": []
          },
          "execution_count": 45
        }
      ]
    },
    {
      "metadata": {
        "id": "Ir_4x2KM_NkY",
        "colab_type": "code",
        "colab": {}
      },
      "cell_type": "code",
      "source": [
        "from gensim.models.ldamodel import LdaModel"
      ],
      "execution_count": 0,
      "outputs": []
    },
    {
      "metadata": {
        "id": "x248QljL_AW-",
        "colab_type": "code",
        "colab": {}
      },
      "cell_type": "code",
      "source": [
        "lda = LdaModel(journals_corpus,num_topics=20,id2word=journals_dictionary,random_state=0)"
      ],
      "execution_count": 0,
      "outputs": []
    },
    {
      "metadata": {
        "id": "7fjpN9CT_dx7",
        "colab_type": "code",
        "colab": {
          "base_uri": "https://localhost:8080/",
          "height": 369
        },
        "outputId": "3424dccb-838d-46c2-fd0d-c14ffe63a555"
      },
      "cell_type": "code",
      "source": [
        "lda_topics = lda.print_topics(num_words=5)\n",
        "for topic in lda_topics:\n",
        "  print(topic)"
      ],
      "execution_count": 48,
      "outputs": [
        {
          "output_type": "stream",
          "text": [
            "(0, '0.154*\"review\" + 0.027*\"law\" + 0.021*\"sociological\" + 0.020*\"business\" + 0.015*\"modelling\"')\n",
            "(1, '0.187*\"science\" + 0.086*\"engineering\" + 0.062*\"materials\" + 0.038*\"applications\" + 0.030*\"physical\"')\n",
            "(2, '0.095*\"technology\" + 0.066*\"science\" + 0.044*\"international\" + 0.040*\"mathematics\" + 0.032*\"nursing\"')\n",
            "(3, '0.105*\"medicine\" + 0.069*\"molecular\" + 0.059*\"biology\" + 0.024*\"experimental\" + 0.022*\"physiology\"')\n",
            "(4, '0.088*\"physics\" + 0.063*\"quarterly\" + 0.042*\"oncology\" + 0.040*\"theoretical\" + 0.025*\"cancer\"')\n",
            "(5, '0.129*\"revista\" + 0.062*\"chemistry\" + 0.060*\"fur\" + 0.024*\"language\" + 0.017*\"statistics\"')\n",
            "(6, '0.120*\"society\" + 0.064*\"mathematical\" + 0.046*\"seminars\" + 0.037*\"nature\" + 0.027*\"communications\"')\n",
            "(7, '0.101*\"studies\" + 0.035*\"american\" + 0.034*\"russian\" + 0.034*\"new\" + 0.030*\"south\"')\n",
            "(8, '0.027*\"current\" + 0.023*\"natural\" + 0.020*\"topics\" + 0.018*\"microbiology\" + 0.018*\"disorders\"')\n",
            "(9, '0.033*\"tropical\" + 0.028*\"disease\" + 0.027*\"pediatric\" + 0.025*\"health\" + 0.024*\"psychiatry\"')\n",
            "(10, '0.092*\"reviews\" + 0.080*\"psychology\" + 0.056*\"management\" + 0.054*\"health\" + 0.044*\"world\"')\n",
            "(11, '0.059*\"transactions\" + 0.046*\"systems\" + 0.029*\"computing\" + 0.027*\"therapy\" + 0.022*\"e\"')\n",
            "(12, '0.046*\"und\" + 0.042*\"letters\" + 0.031*\"nutrition\" + 0.029*\"energy\" + 0.027*\"genetics\"')\n",
            "(13, '0.045*\"public\" + 0.040*\"ecology\" + 0.037*\"marine\" + 0.033*\"political\" + 0.030*\"sport\"')\n",
            "(14, '0.048*\"theory\" + 0.047*\"surgery\" + 0.039*\"methods\" + 0.038*\"practice\" + 0.037*\"clinical\"')\n",
            "(15, '0.075*\"education\" + 0.062*\"policy\" + 0.044*\"law\" + 0.036*\"international\" + 0.035*\"review\"')\n",
            "(16, '0.102*\"social\" + 0.042*\"european\" + 0.033*\"chemical\" + 0.032*\"immunology\" + 0.022*\"research\"')\n",
            "(17, '0.055*\"economic\" + 0.036*\"clinics\" + 0.035*\"north\" + 0.034*\"brasileira\" + 0.032*\"development\"')\n",
            "(18, '0.059*\"zeitschrift\" + 0.053*\"sciences\" + 0.027*\"veterinary\" + 0.027*\"dynamics\" + 0.025*\"environmental\"')\n",
            "(19, '0.269*\"research\" + 0.044*\"international\" + 0.030*\"progress\" + 0.024*\"human\" + 0.012*\"royal\"')\n"
          ],
          "name": "stdout"
        }
      ]
    },
    {
      "metadata": {
        "id": "y8naBqG1M-nA",
        "colab_type": "code",
        "colab": {}
      },
      "cell_type": "code",
      "source": [
        "def custom_preprocess(sentence):                         #Define a custom preprocess function for the test documents, this can also be applied to pandas dataframe series\n",
        "  sentence = sentence.lower()\n",
        "  no_stopwords = remove_stopwords(sentence)\n",
        "  tokens = tokenize(no_stopwords)\n",
        "  no_punctuation = strip_punctuation(no_stopwords)\n",
        "  unwanted = remove_unwanted(no_punctuation)\n",
        "  return unwanted"
      ],
      "execution_count": 0,
      "outputs": []
    },
    {
      "metadata": {
        "id": "M-_lfx5NYAUG",
        "colab_type": "code",
        "colab": {
          "base_uri": "https://localhost:8080/",
          "height": 34
        },
        "outputId": "8d0336d1-5d22-43f5-ad66-cfa18c512675"
      },
      "cell_type": "code",
      "source": [
        "test_doc = 'Health and Medicine'\n",
        "test_doc = custom_preprocess(test_doc)\n",
        "test_doc_bow = journals_dictionary.doc2bow(test_doc)\n",
        "print(test_doc_bow)"
      ],
      "execution_count": 50,
      "outputs": [
        {
          "output_type": "stream",
          "text": [
            "[(41, 1), (150, 1)]\n"
          ],
          "name": "stdout"
        }
      ]
    },
    {
      "metadata": {
        "id": "DSDNA7mQmaoA",
        "colab_type": "code",
        "colab": {
          "base_uri": "https://localhost:8080/",
          "height": 54
        },
        "outputId": "33cfc8be-572c-4c5b-cf7f-e55cc5ae953c"
      },
      "cell_type": "code",
      "source": [
        "print(lda[test_doc_bow])"
      ],
      "execution_count": 51,
      "outputs": [
        {
          "output_type": "stream",
          "text": [
            "[(0, 0.016666668), (1, 0.016666668), (2, 0.016666668), (3, 0.35434258), (4, 0.016666668), (5, 0.016666668), (6, 0.016666668), (7, 0.016666668), (8, 0.016666668), (9, 0.016666668), (10, 0.34565744), (11, 0.016666668), (12, 0.016666668), (13, 0.016666668), (14, 0.016666668), (15, 0.016666668), (16, 0.016666668), (17, 0.016666668), (18, 0.016666668), (19, 0.016666668)]\n"
          ],
          "name": "stdout"
        }
      ]
    },
    {
      "metadata": {
        "id": "SyjGzMBfr9LW",
        "colab_type": "code",
        "colab": {
          "base_uri": "https://localhost:8080/",
          "height": 34
        },
        "outputId": "8001cd62-25de-443a-eb0e-e4de53ba70b2"
      },
      "cell_type": "code",
      "source": [
        "test_doc2 = 'Material and physics'\n",
        "test_doc2 = custom_preprocess(test_doc2)\n",
        "test_doc_bow2 = journals_dictionary.doc2bow(test_doc2)\n",
        "print(test_doc_bow2)"
      ],
      "execution_count": 52,
      "outputs": [
        {
          "output_type": "stream",
          "text": [
            "[(126, 1), (3354, 1)]\n"
          ],
          "name": "stdout"
        }
      ]
    },
    {
      "metadata": {
        "id": "6sb129LIrtpw",
        "colab_type": "code",
        "colab": {
          "base_uri": "https://localhost:8080/",
          "height": 54
        },
        "outputId": "851d0b5e-140d-4596-9833-01cb4a7396e7"
      },
      "cell_type": "code",
      "source": [
        "print(lda[test_doc_bow2])"
      ],
      "execution_count": 53,
      "outputs": [
        {
          "output_type": "stream",
          "text": [
            "[(0, 0.016666668), (1, 0.016666668), (2, 0.016666668), (3, 0.016666668), (4, 0.33998513), (5, 0.016666668), (6, 0.016666668), (7, 0.016666668), (8, 0.016666668), (9, 0.016666668), (10, 0.016666668), (11, 0.016666668), (12, 0.016666668), (13, 0.016666668), (14, 0.016666668), (15, 0.016666668), (16, 0.016666668), (17, 0.016666668), (18, 0.016666668), (19, 0.3600149)]\n"
          ],
          "name": "stdout"
        }
      ]
    },
    {
      "metadata": {
        "id": "ymU_UMS22LRo",
        "colab_type": "code",
        "colab": {
          "base_uri": "https://localhost:8080/",
          "height": 545
        },
        "outputId": "30b0dbfc-392e-4b2f-ce20-1092516b289a"
      },
      "cell_type": "code",
      "source": [
        "!pip install pyLDAvis"
      ],
      "execution_count": 54,
      "outputs": [
        {
          "output_type": "stream",
          "text": [
            "Collecting pyLDAvis\n",
            "\u001b[?25l  Downloading https://files.pythonhosted.org/packages/a5/3a/af82e070a8a96e13217c8f362f9a73e82d61ac8fff3a2561946a97f96266/pyLDAvis-2.1.2.tar.gz (1.6MB)\n",
            "\u001b[K    100% |████████████████████████████████| 1.6MB 13.9MB/s \n",
            "\u001b[?25hRequirement already satisfied: wheel>=0.23.0 in /usr/local/lib/python3.6/dist-packages (from pyLDAvis) (0.32.3)\n",
            "Requirement already satisfied: numpy>=1.9.2 in /usr/local/lib/python3.6/dist-packages (from pyLDAvis) (1.14.6)\n",
            "Requirement already satisfied: scipy>=0.18.0 in /usr/local/lib/python3.6/dist-packages (from pyLDAvis) (1.1.0)\n",
            "Requirement already satisfied: pandas>=0.17.0 in /usr/local/lib/python3.6/dist-packages (from pyLDAvis) (0.22.0)\n",
            "Requirement already satisfied: joblib>=0.8.4 in /usr/local/lib/python3.6/dist-packages (from pyLDAvis) (0.13.1)\n",
            "Requirement already satisfied: jinja2>=2.7.2 in /usr/local/lib/python3.6/dist-packages (from pyLDAvis) (2.10)\n",
            "Requirement already satisfied: numexpr in /usr/local/lib/python3.6/dist-packages (from pyLDAvis) (2.6.9)\n",
            "Requirement already satisfied: pytest in /usr/local/lib/python3.6/dist-packages (from pyLDAvis) (3.10.1)\n",
            "Requirement already satisfied: future in /usr/local/lib/python3.6/dist-packages (from pyLDAvis) (0.16.0)\n",
            "Collecting funcy (from pyLDAvis)\n",
            "  Downloading https://files.pythonhosted.org/packages/47/a4/204fa23012e913839c2da4514b92f17da82bf5fc8c2c3d902fa3fa3c6eec/funcy-1.11-py2.py3-none-any.whl\n",
            "Requirement already satisfied: python-dateutil>=2 in /usr/local/lib/python3.6/dist-packages (from pandas>=0.17.0->pyLDAvis) (2.5.3)\n",
            "Requirement already satisfied: pytz>=2011k in /usr/local/lib/python3.6/dist-packages (from pandas>=0.17.0->pyLDAvis) (2018.9)\n",
            "Requirement already satisfied: MarkupSafe>=0.23 in /usr/local/lib/python3.6/dist-packages (from jinja2>=2.7.2->pyLDAvis) (1.1.0)\n",
            "Requirement already satisfied: six>=1.10.0 in /usr/local/lib/python3.6/dist-packages (from pytest->pyLDAvis) (1.11.0)\n",
            "Requirement already satisfied: more-itertools>=4.0.0 in /usr/local/lib/python3.6/dist-packages (from pytest->pyLDAvis) (5.0.0)\n",
            "Requirement already satisfied: pluggy>=0.7 in /usr/local/lib/python3.6/dist-packages (from pytest->pyLDAvis) (0.8.1)\n",
            "Requirement already satisfied: py>=1.5.0 in /usr/local/lib/python3.6/dist-packages (from pytest->pyLDAvis) (1.7.0)\n",
            "Requirement already satisfied: atomicwrites>=1.0 in /usr/local/lib/python3.6/dist-packages (from pytest->pyLDAvis) (1.2.1)\n",
            "Requirement already satisfied: attrs>=17.4.0 in /usr/local/lib/python3.6/dist-packages (from pytest->pyLDAvis) (18.2.0)\n",
            "Requirement already satisfied: setuptools in /usr/local/lib/python3.6/dist-packages (from pytest->pyLDAvis) (40.6.3)\n",
            "Building wheels for collected packages: pyLDAvis\n",
            "  Running setup.py bdist_wheel for pyLDAvis ... \u001b[?25l-\b \b\\\b \bdone\n",
            "\u001b[?25h  Stored in directory: /root/.cache/pip/wheels/98/71/24/513a99e58bb6b8465bae4d2d5e9dba8f0bef8179e3051ac414\n",
            "Successfully built pyLDAvis\n",
            "Installing collected packages: funcy, pyLDAvis\n",
            "Successfully installed funcy-1.11 pyLDAvis-2.1.2\n"
          ],
          "name": "stdout"
        }
      ]
    },
    {
      "metadata": {
        "id": "eaS52wl31_SW",
        "colab_type": "code",
        "colab": {
          "base_uri": "https://localhost:8080/",
          "height": 862
        },
        "outputId": "7b39a8f9-6941-4f8f-ac56-69fae601346c"
      },
      "cell_type": "code",
      "source": [
        "import pyLDAvis.gensim                             #Play around with the interactive pyLDAvis image\n",
        "pyLDAvis.enable_notebook()\n",
        "pyLDAvis.gensim.prepare(lda, journals_corpus, journals_dictionary)"
      ],
      "execution_count": 55,
      "outputs": [
        {
          "output_type": "execute_result",
          "data": {
            "text/html": [
              "\n",
              "<link rel=\"stylesheet\" type=\"text/css\" href=\"https://cdn.rawgit.com/bmabey/pyLDAvis/files/ldavis.v1.0.0.css\">\n",
              "\n",
              "\n",
              "<div id=\"ldavis_el7413965010717015290646351\"></div>\n",
              "<script type=\"text/javascript\">\n",
              "\n",
              "var ldavis_el7413965010717015290646351_data = {\"mdsDat\": {\"Freq\": [6.3984246253967285, 6.246359825134277, 6.014769077301025, 5.854873180389404, 5.713686943054199, 5.487562656402588, 5.434247016906738, 5.265355110168457, 4.929148197174072, 4.786618709564209, 4.730888366699219, 4.6154866218566895, 4.570150852203369, 4.564245700836182, 4.498946189880371, 4.358832359313965, 4.292309284210205, 4.2679524421691895, 4.186925888061523, 3.783210277557373], \"cluster\": [1, 1, 1, 1, 1, 1, 1, 1, 1, 1, 1, 1, 1, 1, 1, 1, 1, 1, 1, 1], \"topics\": [1, 2, 3, 4, 5, 6, 7, 8, 9, 10, 11, 12, 13, 14, 15, 16, 17, 18, 19, 20], \"x\": [-0.12019546533305545, 0.21885426033706637, -0.10491054678116538, -0.1429058412163512, 0.0918049314994462, 0.10693186406948006, -0.06200339641825813, -0.048654261068678574, 0.04771081713533977, -0.03330828293462286, 0.14064105596453247, -0.0851043749252473, -0.06743287719801987, -0.05456960805677047, -0.10992029415271586, 0.11034059013843553, 0.014546767898378013, 0.123985684046289, 0.0008144890920296105, -0.026625512096112493], \"y\": [0.08260827148928708, 0.16301609847130552, 0.1296459086763135, 0.08524734722132483, 0.024370241913478537, 0.1484544350525719, 0.0944508031816654, -0.007887261330804156, -0.07867820569249429, -0.016417536081011038, -0.1418129286518037, -0.04378176883760535, 0.06288482412072148, -0.06366454517842564, -0.10388561095799055, -0.06070930200114227, -0.08068942083459779, -0.003889503898419434, -0.018766671379005277, -0.17049517528336833]}, \"tinfo\": {\"Category\": [\"Default\", \"Default\", \"Default\", \"Default\", \"Default\", \"Default\", \"Default\", \"Default\", \"Default\", \"Default\", \"Default\", \"Default\", \"Default\", \"Default\", \"Default\", \"Default\", \"Default\", \"Default\", \"Default\", \"Default\", \"Default\", \"Default\", \"Default\", \"Default\", \"Default\", \"Default\", \"Default\", \"Default\", \"Default\", \"Default\", \"Topic1\", \"Topic1\", \"Topic1\", \"Topic1\", \"Topic1\", \"Topic1\", \"Topic1\", \"Topic1\", \"Topic1\", \"Topic1\", \"Topic1\", \"Topic1\", \"Topic1\", \"Topic1\", \"Topic1\", \"Topic1\", \"Topic1\", \"Topic1\", \"Topic1\", \"Topic1\", \"Topic1\", \"Topic1\", \"Topic1\", \"Topic1\", \"Topic1\", \"Topic1\", \"Topic1\", \"Topic1\", \"Topic1\", \"Topic1\", \"Topic1\", \"Topic1\", \"Topic1\", \"Topic1\", \"Topic1\", \"Topic1\", \"Topic1\", \"Topic1\", \"Topic1\", \"Topic1\", \"Topic1\", \"Topic1\", \"Topic1\", \"Topic1\", \"Topic2\", \"Topic2\", \"Topic2\", \"Topic2\", \"Topic2\", \"Topic2\", \"Topic2\", \"Topic2\", \"Topic2\", \"Topic2\", \"Topic2\", \"Topic2\", \"Topic2\", \"Topic2\", \"Topic2\", \"Topic2\", \"Topic2\", \"Topic2\", \"Topic2\", \"Topic2\", \"Topic2\", \"Topic2\", \"Topic2\", \"Topic2\", \"Topic2\", \"Topic2\", \"Topic2\", \"Topic2\", \"Topic2\", \"Topic2\", \"Topic2\", \"Topic2\", \"Topic2\", \"Topic2\", \"Topic2\", \"Topic2\", \"Topic2\", \"Topic2\", \"Topic2\", \"Topic2\", \"Topic2\", \"Topic2\", \"Topic2\", \"Topic3\", \"Topic3\", \"Topic3\", \"Topic3\", \"Topic3\", \"Topic3\", \"Topic3\", \"Topic3\", \"Topic3\", \"Topic3\", \"Topic3\", \"Topic3\", \"Topic3\", \"Topic3\", \"Topic3\", \"Topic3\", \"Topic3\", \"Topic3\", \"Topic3\", \"Topic3\", \"Topic3\", \"Topic3\", \"Topic3\", \"Topic3\", \"Topic3\", \"Topic3\", \"Topic3\", \"Topic3\", \"Topic3\", \"Topic3\", \"Topic3\", \"Topic3\", \"Topic3\", \"Topic3\", \"Topic3\", \"Topic3\", \"Topic3\", \"Topic3\", \"Topic3\", \"Topic3\", \"Topic3\", \"Topic3\", \"Topic3\", \"Topic3\", \"Topic3\", \"Topic4\", \"Topic4\", \"Topic4\", \"Topic4\", \"Topic4\", \"Topic4\", \"Topic4\", \"Topic4\", \"Topic4\", \"Topic4\", \"Topic4\", \"Topic4\", \"Topic4\", \"Topic4\", \"Topic4\", \"Topic4\", \"Topic4\", \"Topic4\", \"Topic4\", \"Topic4\", \"Topic4\", \"Topic4\", \"Topic4\", \"Topic4\", \"Topic4\", \"Topic4\", \"Topic4\", \"Topic4\", \"Topic4\", \"Topic4\", \"Topic4\", \"Topic4\", \"Topic4\", \"Topic4\", \"Topic4\", \"Topic4\", \"Topic4\", \"Topic4\", \"Topic4\", \"Topic4\", \"Topic4\", \"Topic4\", \"Topic4\", \"Topic4\", \"Topic4\", \"Topic5\", \"Topic5\", \"Topic5\", \"Topic5\", \"Topic5\", \"Topic5\", \"Topic5\", \"Topic5\", \"Topic5\", \"Topic5\", \"Topic5\", \"Topic5\", \"Topic5\", \"Topic5\", \"Topic5\", \"Topic5\", \"Topic5\", \"Topic5\", \"Topic5\", \"Topic5\", \"Topic5\", \"Topic5\", \"Topic5\", \"Topic5\", \"Topic5\", \"Topic5\", \"Topic5\", \"Topic5\", \"Topic5\", \"Topic5\", \"Topic5\", \"Topic5\", \"Topic5\", \"Topic5\", \"Topic5\", \"Topic5\", \"Topic5\", \"Topic5\", \"Topic5\", \"Topic5\", \"Topic5\", \"Topic5\", \"Topic5\", \"Topic6\", \"Topic6\", \"Topic6\", \"Topic6\", \"Topic6\", \"Topic6\", \"Topic6\", \"Topic6\", \"Topic6\", \"Topic6\", \"Topic6\", \"Topic6\", \"Topic6\", \"Topic6\", \"Topic6\", \"Topic6\", \"Topic6\", \"Topic6\", \"Topic6\", \"Topic6\", \"Topic6\", \"Topic6\", \"Topic6\", \"Topic6\", \"Topic6\", \"Topic6\", \"Topic6\", \"Topic6\", \"Topic6\", \"Topic6\", \"Topic6\", \"Topic6\", \"Topic6\", \"Topic6\", \"Topic6\", \"Topic6\", \"Topic6\", \"Topic6\", \"Topic6\", \"Topic6\", \"Topic6\", \"Topic6\", \"Topic6\", \"Topic7\", \"Topic7\", \"Topic7\", \"Topic7\", \"Topic7\", \"Topic7\", \"Topic7\", \"Topic7\", \"Topic7\", \"Topic7\", \"Topic7\", \"Topic7\", \"Topic7\", \"Topic7\", \"Topic7\", \"Topic7\", \"Topic7\", \"Topic7\", \"Topic7\", \"Topic7\", \"Topic7\", \"Topic7\", \"Topic7\", \"Topic7\", \"Topic7\", \"Topic7\", \"Topic7\", \"Topic7\", \"Topic7\", \"Topic7\", \"Topic7\", \"Topic7\", \"Topic7\", \"Topic7\", \"Topic7\", \"Topic7\", \"Topic7\", \"Topic7\", \"Topic7\", \"Topic7\", \"Topic7\", \"Topic7\", \"Topic7\", \"Topic7\", \"Topic8\", \"Topic8\", \"Topic8\", \"Topic8\", \"Topic8\", \"Topic8\", \"Topic8\", \"Topic8\", \"Topic8\", \"Topic8\", \"Topic8\", \"Topic8\", \"Topic8\", \"Topic8\", \"Topic8\", \"Topic8\", \"Topic8\", \"Topic8\", \"Topic8\", \"Topic8\", \"Topic8\", \"Topic8\", \"Topic8\", \"Topic8\", \"Topic8\", \"Topic8\", \"Topic8\", \"Topic8\", \"Topic8\", \"Topic8\", \"Topic8\", \"Topic8\", \"Topic8\", \"Topic8\", \"Topic8\", \"Topic8\", \"Topic8\", \"Topic8\", \"Topic8\", \"Topic8\", \"Topic8\", \"Topic8\", \"Topic8\", \"Topic8\", \"Topic9\", \"Topic9\", \"Topic9\", \"Topic9\", \"Topic9\", \"Topic9\", \"Topic9\", \"Topic9\", \"Topic9\", \"Topic9\", \"Topic9\", \"Topic9\", \"Topic9\", \"Topic9\", \"Topic9\", \"Topic9\", \"Topic9\", \"Topic9\", \"Topic9\", \"Topic9\", \"Topic9\", \"Topic9\", \"Topic9\", \"Topic9\", \"Topic9\", \"Topic9\", \"Topic9\", \"Topic9\", \"Topic9\", \"Topic9\", \"Topic9\", \"Topic9\", \"Topic9\", \"Topic9\", \"Topic9\", \"Topic9\", \"Topic9\", \"Topic9\", \"Topic9\", \"Topic9\", \"Topic9\", \"Topic10\", \"Topic10\", \"Topic10\", \"Topic10\", \"Topic10\", \"Topic10\", \"Topic10\", \"Topic10\", \"Topic10\", \"Topic10\", \"Topic10\", \"Topic10\", \"Topic10\", \"Topic10\", \"Topic10\", \"Topic10\", \"Topic10\", \"Topic10\", \"Topic10\", \"Topic10\", \"Topic10\", \"Topic10\", \"Topic10\", \"Topic10\", \"Topic10\", \"Topic10\", \"Topic10\", \"Topic10\", \"Topic10\", \"Topic10\", \"Topic10\", \"Topic10\", \"Topic10\", \"Topic10\", \"Topic10\", \"Topic10\", \"Topic10\", \"Topic10\", \"Topic10\", \"Topic10\", \"Topic10\", \"Topic11\", \"Topic11\", \"Topic11\", \"Topic11\", \"Topic11\", \"Topic11\", \"Topic11\", \"Topic11\", \"Topic11\", \"Topic11\", \"Topic11\", \"Topic11\", \"Topic11\", \"Topic11\", \"Topic11\", \"Topic11\", \"Topic11\", \"Topic11\", \"Topic11\", \"Topic11\", \"Topic11\", \"Topic11\", \"Topic11\", \"Topic11\", \"Topic11\", \"Topic11\", \"Topic11\", \"Topic11\", \"Topic11\", \"Topic11\", \"Topic11\", \"Topic11\", \"Topic11\", \"Topic11\", \"Topic11\", \"Topic11\", \"Topic11\", \"Topic11\", \"Topic12\", \"Topic12\", \"Topic12\", \"Topic12\", \"Topic12\", \"Topic12\", \"Topic12\", \"Topic12\", \"Topic12\", \"Topic12\", \"Topic12\", \"Topic12\", \"Topic12\", \"Topic12\", \"Topic12\", \"Topic12\", \"Topic12\", \"Topic12\", \"Topic12\", \"Topic12\", \"Topic12\", \"Topic12\", \"Topic12\", \"Topic12\", \"Topic12\", \"Topic12\", \"Topic12\", \"Topic12\", \"Topic12\", \"Topic12\", \"Topic12\", \"Topic12\", \"Topic12\", \"Topic12\", \"Topic12\", \"Topic12\", \"Topic12\", \"Topic12\", \"Topic12\", \"Topic12\", \"Topic12\", \"Topic12\", \"Topic12\", \"Topic13\", \"Topic13\", \"Topic13\", \"Topic13\", \"Topic13\", \"Topic13\", \"Topic13\", \"Topic13\", \"Topic13\", \"Topic13\", \"Topic13\", \"Topic13\", \"Topic13\", \"Topic13\", \"Topic13\", \"Topic13\", \"Topic13\", \"Topic13\", \"Topic13\", \"Topic13\", \"Topic13\", \"Topic13\", \"Topic13\", \"Topic13\", \"Topic13\", \"Topic13\", \"Topic13\", \"Topic13\", \"Topic13\", \"Topic13\", \"Topic13\", \"Topic13\", \"Topic13\", \"Topic13\", \"Topic13\", \"Topic13\", \"Topic13\", \"Topic13\", \"Topic13\", \"Topic13\", \"Topic13\", \"Topic13\", \"Topic13\", \"Topic13\", \"Topic13\", \"Topic14\", \"Topic14\", \"Topic14\", \"Topic14\", \"Topic14\", \"Topic14\", \"Topic14\", \"Topic14\", \"Topic14\", \"Topic14\", \"Topic14\", \"Topic14\", \"Topic14\", \"Topic14\", \"Topic14\", \"Topic14\", \"Topic14\", \"Topic14\", \"Topic14\", \"Topic14\", \"Topic14\", \"Topic14\", \"Topic14\", \"Topic14\", \"Topic14\", \"Topic14\", \"Topic14\", \"Topic14\", \"Topic14\", \"Topic14\", \"Topic14\", \"Topic14\", \"Topic14\", \"Topic14\", \"Topic14\", \"Topic14\", \"Topic14\", \"Topic14\", \"Topic14\", \"Topic14\", \"Topic15\", \"Topic15\", \"Topic15\", \"Topic15\", \"Topic15\", \"Topic15\", \"Topic15\", \"Topic15\", \"Topic15\", \"Topic15\", \"Topic15\", \"Topic15\", \"Topic15\", \"Topic15\", \"Topic15\", \"Topic15\", \"Topic15\", \"Topic15\", \"Topic15\", \"Topic15\", \"Topic15\", \"Topic15\", \"Topic15\", \"Topic15\", \"Topic15\", \"Topic15\", \"Topic15\", \"Topic15\", \"Topic15\", \"Topic15\", \"Topic15\", \"Topic15\", \"Topic15\", \"Topic15\", \"Topic15\", \"Topic15\", \"Topic15\", \"Topic15\", \"Topic15\", \"Topic15\", \"Topic15\", \"Topic16\", \"Topic16\", \"Topic16\", \"Topic16\", \"Topic16\", \"Topic16\", \"Topic16\", \"Topic16\", \"Topic16\", \"Topic16\", \"Topic16\", \"Topic16\", \"Topic16\", \"Topic16\", \"Topic16\", \"Topic16\", \"Topic16\", \"Topic16\", \"Topic16\", \"Topic16\", \"Topic16\", \"Topic16\", \"Topic16\", \"Topic16\", \"Topic16\", \"Topic16\", \"Topic16\", \"Topic16\", \"Topic16\", \"Topic16\", \"Topic16\", \"Topic16\", \"Topic16\", \"Topic16\", \"Topic16\", \"Topic16\", \"Topic16\", \"Topic16\", \"Topic16\", \"Topic16\", \"Topic17\", \"Topic17\", \"Topic17\", \"Topic17\", \"Topic17\", \"Topic17\", \"Topic17\", \"Topic17\", \"Topic17\", \"Topic17\", \"Topic17\", \"Topic17\", \"Topic17\", \"Topic17\", \"Topic17\", \"Topic17\", \"Topic17\", \"Topic17\", \"Topic17\", \"Topic17\", \"Topic17\", \"Topic17\", \"Topic17\", \"Topic17\", \"Topic17\", \"Topic17\", \"Topic17\", \"Topic17\", \"Topic17\", \"Topic17\", \"Topic17\", \"Topic17\", \"Topic17\", \"Topic17\", \"Topic17\", \"Topic17\", \"Topic17\", \"Topic17\", \"Topic17\", \"Topic17\", \"Topic17\", \"Topic17\", \"Topic17\", \"Topic17\", \"Topic17\", \"Topic17\", \"Topic17\", \"Topic18\", \"Topic18\", \"Topic18\", \"Topic18\", \"Topic18\", \"Topic18\", \"Topic18\", \"Topic18\", \"Topic18\", \"Topic18\", \"Topic18\", \"Topic18\", \"Topic18\", \"Topic18\", \"Topic18\", \"Topic18\", \"Topic18\", \"Topic18\", \"Topic18\", \"Topic18\", \"Topic18\", \"Topic18\", \"Topic18\", \"Topic18\", \"Topic18\", \"Topic18\", \"Topic18\", \"Topic18\", \"Topic18\", \"Topic18\", \"Topic18\", \"Topic18\", \"Topic18\", \"Topic18\", \"Topic18\", \"Topic18\", \"Topic18\", \"Topic18\", \"Topic18\", \"Topic18\", \"Topic18\", \"Topic18\", \"Topic18\", \"Topic18\", \"Topic19\", \"Topic19\", \"Topic19\", \"Topic19\", \"Topic19\", \"Topic19\", \"Topic19\", \"Topic19\", \"Topic19\", \"Topic19\", \"Topic19\", \"Topic19\", \"Topic19\", \"Topic19\", \"Topic19\", \"Topic19\", \"Topic19\", \"Topic19\", \"Topic19\", \"Topic19\", \"Topic19\", \"Topic19\", \"Topic19\", \"Topic19\", \"Topic19\", \"Topic19\", \"Topic19\", \"Topic19\", \"Topic19\", \"Topic19\", \"Topic19\", \"Topic19\", \"Topic19\", \"Topic19\", \"Topic19\", \"Topic19\", \"Topic19\", \"Topic19\", \"Topic19\", \"Topic19\", \"Topic19\", \"Topic19\", \"Topic19\", \"Topic20\", \"Topic20\", \"Topic20\", \"Topic20\", \"Topic20\", \"Topic20\", \"Topic20\", \"Topic20\", \"Topic20\", \"Topic20\", \"Topic20\", \"Topic20\", \"Topic20\", \"Topic20\", \"Topic20\", \"Topic20\", \"Topic20\", \"Topic20\", \"Topic20\", \"Topic20\", \"Topic20\", \"Topic20\", \"Topic20\", \"Topic20\", \"Topic20\", \"Topic20\", \"Topic20\", \"Topic20\", \"Topic20\", \"Topic20\", \"Topic20\", \"Topic20\", \"Topic20\", \"Topic20\", \"Topic20\", \"Topic20\", \"Topic20\", \"Topic20\"], \"Freq\": [653.0, 551.0, 351.0, 201.0, 206.0, 211.0, 283.0, 193.0, 220.0, 176.0, 255.0, 158.0, 162.0, 155.0, 144.0, 159.0, 104.0, 151.0, 220.0, 111.0, 97.0, 104.0, 106.0, 133.0, 180.0, 185.0, 115.0, 140.0, 80.0, 192.0, 37.15357208251953, 28.1795654296875, 24.869203567504883, 39.22806930541992, 18.660503387451172, 30.68895721435547, 15.983932495117188, 14.765325546264648, 14.194984436035156, 12.989487648010254, 20.521682739257812, 145.234130859375, 10.873923301696777, 10.767465591430664, 10.700438499450684, 10.58349895477295, 47.418453216552734, 9.785758018493652, 29.672109603881836, 8.576087951660156, 8.121540069580078, 15.581252098083496, 7.491383075714111, 51.7430305480957, 7.152228355407715, 30.974998474121094, 6.49354887008667, 6.1088666915893555, 15.298884391784668, 5.980910301208496, 40.86952209472656, 221.1974639892578, 125.69508361816406, 31.630393981933594, 36.61298370361328, 14.185916900634766, 12.14818000793457, 33.217857360839844, 15.656891822814941, 26.454509735107422, 17.942325592041016, 35.22523498535156, 15.887802124023438, 14.30252742767334, 25.612648010253906, 30.710617065429688, 14.746795654296875, 14.67147159576416, 25.010345458984375, 12.077932357788086, 11.102954864501953, 9.836661338806152, 31.95176887512207, 9.741069793701172, 9.414701461791992, 9.064460754394531, 8.527582168579102, 8.281115531921387, 7.7959160804748535, 78.51647186279297, 16.502653121948242, 11.323707580566406, 6.621778964996338, 62.17166519165039, 5.276764869689941, 4.851202011108398, 4.835474491119385, 5.993904113769531, 7.167834758758545, 4.465195178985596, 13.444172859191895, 9.21480941772461, 8.54179573059082, 128.0537109375, 62.92425537109375, 386.11041259765625, 176.67041015625, 7.706208229064941, 37.1812629699707, 20.450637817382812, 35.670433044433594, 20.98283576965332, 10.756182670593262, 14.486896514892578, 11.081180572509766, 10.18659496307373, 9.816523551940918, 59.87742614746094, 23.041702270507812, 24.37116813659668, 19.438220977783203, 16.879314422607422, 15.73913860321045, 16.711654663085938, 13.808480262756348, 14.092689514160156, 15.509926795959473, 15.334301948547363, 12.049102783203125, 11.605016708374023, 12.527286529541016, 8.782251358032227, 23.128538131713867, 8.005160331726074, 12.814509391784668, 6.824769496917725, 14.506247520446777, 5.7904744148254395, 5.763427734375, 5.662662982940674, 6.623773097991943, 5.578629016876221, 5.518614292144775, 5.310205459594727, 5.914775848388672, 5.194556713104248, 5.066744804382324, 19.922828674316406, 535.5103149414062, 47.648860931396484, 17.344783782958984, 13.971604347229004, 13.682085037231445, 86.55284118652344, 7.154618263244629, 6.239129543304443, 24.069246292114258, 18.389385223388672, 10.858380317687988, 7.8449835777282715, 9.20098876953125, 9.2879056930542, 66.61397552490234, 54.48759841918945, 65.15814208984375, 34.92369079589844, 21.896739959716797, 21.761377334594727, 21.552154541015625, 57.554931640625, 14.501324653625488, 33.473289489746094, 13.986546516418457, 19.108169555664062, 196.39297485351562, 15.392533302307129, 10.3047513961792, 13.801203727722168, 8.553091049194336, 9.496330261230469, 8.145055770874023, 7.634828567504883, 7.375839710235596, 7.267887115478516, 25.13245391845703, 11.592119216918945, 31.359373092651367, 53.64849090576172, 5.9021315574646, 15.574747085571289, 5.006155014038086, 4.947415828704834, 55.456260681152344, 11.273490905761719, 22.68671989440918, 68.65459442138672, 18.5552921295166, 22.135129928588867, 11.503030776977539, 38.949806213378906, 27.734664916992188, 18.657718658447266, 26.7302188873291, 27.06587028503418, 33.37360382080078, 18.92443084716797, 16.00303077697754, 35.53813934326172, 38.851863861083984, 22.062776565551758, 19.845613479614258, 42.374366760253906, 18.283763885498047, 18.161165237426758, 18.06131935119629, 17.12498664855957, 15.60490894317627, 14.268465995788574, 12.468109130859375, 12.227781295776367, 12.125927925109863, 11.630023956298828, 15.381925582885742, 20.092853546142578, 10.191727638244629, 20.750978469848633, 9.428421020507812, 55.257225036621094, 17.764049530029297, 50.32836151123047, 7.904248237609863, 7.701786994934082, 33.865478515625, 7.09297513961792, 6.7868242263793945, 8.385791778564453, 18.443944931030273, 110.95868682861328, 11.790071487426758, 20.377174377441406, 86.00426483154297, 20.257246017456055, 30.208087921142578, 14.820393562316895, 26.89234161376953, 29.29962921142578, 24.45872688293457, 31.80219268798828, 33.13968276977539, 17.922809600830078, 21.342191696166992, 19.0573787689209, 19.93878746032715, 16.23636245727539, 15.949751853942871, 17.875017166137695, 13.351134300231934, 18.538480758666992, 12.944472312927246, 10.71499252319336, 46.15629577636719, 27.649866104125977, 9.39421272277832, 9.21152400970459, 9.00097370147705, 14.444385528564453, 7.01256799697876, 6.949929714202881, 6.430798530578613, 6.265446662902832, 7.0729780197143555, 7.005414962768555, 6.020702362060547, 7.203670978546143, 5.670011043548584, 5.422034740447998, 5.319319725036621, 30.73875617980957, 5.088242053985596, 6.465322017669678, 72.6758804321289, 173.0252685546875, 15.03698444366455, 58.9462890625, 19.014873504638672, 23.725574493408203, 119.75672912597656, 79.77912902832031, 29.406200408935547, 33.242488861083984, 20.771495819091797, 9.372984886169434, 23.100521087646484, 79.79671478271484, 23.328956604003906, 18.11045265197754, 17.640155792236328, 22.19940185546875, 16.43022346496582, 12.675443649291992, 165.69493103027344, 10.346343994140625, 9.67994499206543, 9.316640853881836, 11.759064674377441, 144.1894989013672, 8.235760688781738, 9.396095275878906, 7.776314735412598, 8.568742752075195, 7.202268600463867, 23.799531936645508, 62.60591125488281, 5.11021614074707, 4.877352237701416, 4.877352237701416, 4.870344638824463, 4.797489166259766, 4.5528059005737305, 4.080111980438232, 3.738929033279419, 3.7340757846832275, 26.66064453125, 49.85891342163086, 9.986982345581055, 18.18450355529785, 101.18595123291016, 63.69295120239258, 12.301863670349121, 97.42594146728516, 6.089911460876465, 29.086231231689453, 18.25526237487793, 10.55974292755127, 8.90552806854248, 10.01060676574707, 9.176712036132812, 103.50946044921875, 42.566810607910156, 34.88119888305664, 30.345285415649414, 26.100271224975586, 28.630292892456055, 13.631803512573242, 12.100022315979004, 10.614398956298828, 12.061979293823242, 14.087105751037598, 9.784161567687988, 30.791152954101562, 37.947242736816406, 46.2593994140625, 8.183817863464355, 7.93125057220459, 7.948505878448486, 7.2264723777771, 7.1399407386779785, 15.51242733001709, 6.924219131469727, 6.687729358673096, 6.508852005004883, 6.198672771453857, 5.954031944274902, 5.680697441101074, 5.643852710723877, 6.282121181488037, 5.399211883544922, 5.399211883544922, 28.288373947143555, 12.10098648071289, 91.90351867675781, 47.00455856323242, 43.48875045776367, 7.606727600097656, 15.546550750732422, 11.920984268188477, 25.80245018005371, 12.21673583984375, 9.135775566101074, 8.173632621765137, 7.956109046936035, 74.79115295410156, 60.81911849975586, 27.970123291015625, 23.783571243286133, 22.945770263671875, 196.0202178955078, 13.85264778137207, 103.75116729736328, 24.5120792388916, 42.06925582885742, 9.186586380004883, 24.760299682617188, 13.746853828430176, 8.982479095458984, 8.46096420288086, 8.941399574279785, 7.216588497161865, 7.9692277908325195, 6.9243597984313965, 6.812530517578125, 44.580177307128906, 5.880977630615234, 6.437224864959717, 10.091474533081055, 35.962764739990234, 4.8196821212768555, 4.488914966583252, 4.351906776428223, 4.662134170532227, 6.665274620056152, 36.00241470336914, 7.886876106262207, 13.394150733947754, 13.112983703613281, 8.608794212341309, 9.440773963928223, 8.601483345031738, 8.054078102111816, 19.537546157836914, 14.55180549621582, 10.670333862304688, 49.3875617980957, 42.986534118652344, 20.111631393432617, 17.710769653320312, 27.07347297668457, 17.0839900970459, 20.294654846191406, 18.238035202026367, 31.35015296936035, 33.222900390625, 12.562451362609863, 13.578852653503418, 9.179939270019531, 8.935578346252441, 18.26921844482422, 9.024819374084473, 15.085103034973145, 7.150572299957275, 7.05824613571167, 7.046940803527832, 11.068805694580078, 5.5845746994018555, 5.350568771362305, 5.437122344970703, 5.541374206542969, 75.98216247558594, 4.6644978523254395, 6.036639213562012, 61.197933197021484, 4.994443416595459, 59.80709457397461, 75.0639877319336, 7.88440465927124, 45.369510650634766, 58.260406494140625, 18.36864471435547, 19.747230529785156, 31.3647518157959, 14.27782154083252, 20.657148361206055, 11.639348983764648, 201.13751220703125, 94.576904296875, 15.641135215759277, 14.1323823928833, 16.79582977294922, 14.31852912902832, 12.835699081420898, 15.268350601196289, 9.063067436218262, 8.959634780883789, 9.674118041992188, 13.133810043334961, 9.145933151245117, 9.04720687866211, 9.727730751037598, 7.572467803955078, 6.6716532707214355, 6.372758865356445, 6.221254825592041, 5.8818864822387695, 5.828242301940918, 5.8206586837768555, 7.982694625854492, 15.902748107910156, 13.276972770690918, 5.416444778442383, 5.259212017059326, 27.061695098876953, 4.80690860748291, 16.5457763671875, 37.621849060058594, 97.61919403076172, 7.85490083694458, 8.893223762512207, 12.456975936889648, 9.393911361694336, 8.51639461517334, 6.593998432159424, 35.29472732543945, 18.241085052490234, 15.096393585205078, 14.909319877624512, 12.417465209960938, 12.305013656616211, 11.370752334594727, 9.742056846618652, 9.425715446472168, 95.20233154296875, 8.262106895446777, 12.614501953125, 7.776552677154541, 10.277202606201172, 7.417447090148926, 46.49386978149414, 6.358464241027832, 18.726398468017578, 5.911235332489014, 5.645040512084961, 8.35830307006836, 4.956401824951172, 4.944133281707764, 4.890868186950684, 6.061638355255127, 4.79538631439209, 5.328891754150391, 8.343192100524902, 5.552128791809082, 4.318832874298096, 113.89676666259766, 67.49893188476562, 51.41267776489258, 6.331170082092285, 10.25070571899414, 8.501847267150879, 53.96770477294922, 55.08005905151367, 6.929556846618652, 13.167612075805664, 12.4125337600708, 8.742843627929688, 11.76223087310791, 26.809898376464844, 21.58321762084961, 18.38969612121582, 31.206499099731445, 15.915953636169434, 13.179673194885254, 11.594926834106445, 11.119413375854492, 20.193679809570312, 47.95304489135742, 10.360105514526367, 9.80693531036377, 24.289520263671875, 14.252706527709961, 8.053716659545898, 7.556154251098633, 6.706421375274658, 7.424728870391846, 10.277337074279785, 6.4193854331970215, 6.877936840057373, 6.5307111740112305, 5.626120567321777, 5.357355117797852, 4.732102870941162, 3.953650951385498, 3.814527988433838, 3.6570885181427, 3.5693647861480713, 154.7582244873047, 50.29432678222656, 8.158218383789062, 63.58317947387695, 11.4923677444458, 15.960257530212402, 16.151458740234375, 18.514541625976562, 15.196859359741211, 9.4212064743042, 22.268020629882812, 33.29991912841797, 14.581964492797852, 20.897939682006836, 17.184019088745117, 15.38647747039795, 50.16851043701172, 27.478580474853516, 23.979768753051758, 17.95237922668457, 17.794448852539062, 15.952085494995117, 13.73074722290039, 13.438324928283691, 13.095174789428711, 12.983968734741211, 12.366894721984863, 12.027091979980469, 10.858141899108887, 10.683652877807617, 11.50264835357666, 10.131197929382324, 16.90578842163086, 8.671834945678711, 8.531073570251465, 25.008970260620117, 8.001300811767578, 7.50631856918335, 7.501014232635498, 23.91313934326172, 42.38957595825195, 15.671684265136719, 11.520724296569824, 10.222606658935547, 6.412844181060791, 20.575084686279297, 21.959373474121094, 20.360607147216797, 11.768550872802734, 36.10102462768555, 40.624488830566406, 30.576566696166992, 16.654735565185547, 37.06452178955078, 12.983968734741211, 14.370473861694336, 31.262781143188477, 22.488847732543945, 17.071012496948242, 15.630534172058105, 15.842232704162598, 13.357056617736816, 13.881016731262207, 11.910560607910156, 13.062538146972656, 9.437396049499512, 13.308570861816406, 8.885499000549316, 8.133544921875, 30.370241165161133, 21.413114547729492, 8.868237495422363, 6.414007186889648, 5.865840911865234, 5.865840911865234, 6.578782558441162, 7.322293758392334, 21.12308692932129, 5.022710800170898, 4.979724407196045, 4.918338775634766, 18.48841094970703, 4.688490867614746, 4.354269981384277, 13.528973579406738, 3.5590829849243164, 5.497318744659424, 229.2041778564453, 20.299585342407227, 9.927626609802246, 20.193708419799805, 39.977848052978516, 11.310868263244629, 17.301105499267578, 8.372446060180664, 13.39980697631836, 8.168427467346191, 57.72645950317383, 28.69040870666504, 19.39866065979004, 29.38238525390625, 16.381555557250977, 30.323410034179688, 16.064062118530273, 14.06784725189209, 11.712844848632812, 13.118083953857422, 11.39120101928711, 12.768155097961426, 15.158191680908203, 10.530680656433105, 9.802213668823242, 8.978912353515625, 9.188700675964355, 7.563685417175293, 5.945662498474121, 9.03675651550293, 24.488122940063477, 5.281843185424805, 5.278555870056152, 91.53779602050781, 5.093325138092041, 5.093325138092041, 4.876735210418701, 5.720019817352295, 4.516386032104492, 5.073166370391846, 127.25341033935547, 60.96230697631836, 11.26231575012207, 35.60023498535156, 30.67029571533203, 8.248041152954102, 8.35817813873291, 15.938465118408203, 9.829919815063477, 8.576228141784668, 38.02192306518555, 22.10230255126953, 15.957855224609375, 13.428205490112305, 11.120076179504395, 10.01929759979248, 9.119548797607422, 9.119548797607422, 7.96150016784668, 7.179786682128906, 7.138728141784668, 13.301658630371094, 12.65896224975586, 5.7621073722839355, 5.654019355773926, 6.972097873687744, 4.903461933135986, 5.435705184936523, 12.555660247802734, 5.580809116363525, 5.407378673553467, 21.37204933166504, 4.021674156188965, 4.021674156188965, 4.021674156188965, 4.021674156188965, 4.021674156188965, 4.021674156188965, 4.021674156188965, 4.021674156188965, 33.24686813354492, 27.969432830810547, 12.119601249694824, 25.406251907348633, 14.266533851623535, 4.403181076049805, 19.74928855895996, 24.12057876586914, 25.812660217285156, 15.803779602050781, 13.812158584594727, 8.399738311767578, 5.953166961669922, 7.801944255828857, 8.063921928405762, 7.617615222930908, 7.521603584289551, 64.8438949584961, 37.413673400878906, 37.193904876708984, 32.15498352050781, 17.254323959350586, 31.38174057006836, 14.283937454223633, 12.91602611541748, 23.557865142822266, 9.969490051269531, 9.442838668823242, 9.102448463439941, 9.422560691833496, 16.174396514892578, 7.2996697425842285, 7.275846004486084, 6.726064205169678, 7.217202663421631, 6.352109432220459, 6.249739646911621, 6.135737419128418, 10.038056373596191, 38.54119110107422, 5.676173686981201, 5.290024280548096, 6.9305644035339355, 4.93648099899292, 4.919719219207764, 4.914827823638916, 4.8126983642578125, 7.8781256675720215, 41.32472229003906, 9.255339622497559, 43.91035842895508, 12.520442962646484, 59.476627349853516, 9.699029922485352, 8.800666809082031, 29.964345932006836, 9.602863311767578, 13.632027626037598, 12.080318450927734, 8.390195846557617, 10.725707054138184, 41.12472915649414, 37.40141677856445, 51.85820770263672, 19.996641159057617, 16.95771026611328, 31.08919906616211, 8.902122497558594, 8.721513748168945, 12.556703567504883, 8.561955451965332, 13.779706954956055, 62.908164978027344, 6.849294662475586, 8.654107093811035, 6.742739677429199, 19.384004592895508, 8.140544891357422, 6.4416069984436035, 54.87302017211914, 8.499287605285645, 5.682337760925293, 5.540763854980469, 17.15969467163086, 5.3235955238342285, 7.380756855010986, 12.515406608581543, 6.94664192199707, 4.188096523284912, 4.054935932159424, 3.925790309906006, 46.023563385009766, 37.97146987915039, 6.037725925445557, 8.912327766418457, 10.654864311218262, 7.036049842834473, 32.381568908691406, 11.33397388458252, 26.20733070373535, 15.508907318115234, 16.046640396118164, 14.1065092086792, 9.524356842041016, 45.114559173583984, 42.07565689086914, 18.260351181030273, 14.116568565368652, 12.527887344360352, 10.78605842590332, 68.84871673583984, 19.25809097290039, 9.288223266601562, 8.603412628173828, 8.193380355834961, 43.24154281616211, 7.631129741668701, 7.520009994506836, 7.479617118835449, 6.574554920196533, 12.322392463684082, 6.022172927856445, 8.517139434814453, 8.291452407836914, 4.956284523010254, 4.679126739501953, 10.477913856506348, 4.458495140075684, 4.091426849365234, 5.315609931945801, 6.511776447296143, 3.6132380962371826, 3.4584481716156006, 12.71756649017334, 6.667969703674316, 5.305412292480469, 40.41763687133789, 6.088320255279541, 8.462652206420898, 16.214420318603516, 9.082906723022461, 6.874881744384766], \"Term\": [\"research\", \"science\", \"review\", \"revista\", \"society\", \"studies\", \"medicine\", \"social\", \"technology\", \"reviews\", \"engineering\", \"psychology\", \"physics\", \"molecular\", \"education\", \"materials\", \"zeitschrift\", \"chemistry\", \"health\", \"mathematical\", \"fur\", \"policy\", \"quarterly\", \"transactions\", \"biology\", \"management\", \"law\", \"systems\", \"world\", \"sciences\", \"industrial\", \"medicina\", \"safety\", \"structural\", \"remote\", \"sports\", \"sensing\", \"sleep\", \"diabetes\", \"stochastic\", \"respiratory\", \"molecular\", \"heat\", \"decision\", \"transfer\", \"tribology\", \"physiology\", \"high\", \"biotechnology\", \"psychopharmacology\", \"za\", \"relations\", \"based\", \"experimental\", \"ceramics\", \"biochemistry\", \"industry\", \"nanomedicine\", \"manufacturing\", \"concrete\", \"neuroscience\", \"medicine\", \"biology\", \"toxicology\", \"pathology\", \"data\", \"transplantation\", \"veterinary\", \"therapeutic\", \"clinical\", \"microbiology\", \"international\", \"pharmacology\", \"applied\", \"ciencias\", \"solid\", \"spanish\", \"regional\", \"state\", \"virology\", \"ocean\", \"saudi\", \"urban\", \"quaternary\", \"rivista\", \"da\", \"italiana\", \"monitoring\", \"australia\", \"applications\", \"software\", \"di\", \"biomedicine\", \"information\", \"seed\", \"crystal\", \"morphology\", \"coastal\", \"english\", \"fields\", \"section\", \"macromolecular\", \"regenerative\", \"materials\", \"physical\", \"science\", \"engineering\", \"infection\", \"plant\", \"mechanics\", \"systems\", \"b\", \"animal\", \"management\", \"series\", \"analysis\", \"medical\", \"progress\", \"radiation\", \"royal\", \"school\", \"tissue\", \"security\", \"tourism\", \"wildlife\", \"reproduction\", \"sustainable\", \"emergency\", \"reading\", \"sensors\", \"production\", \"stroke\", \"surgical\", \"forecasting\", \"general\", \"pure\", \"logic\", \"tobacco\", \"rights\", \"crops\", \"maritime\", \"rubber\", \"mutation\", \"strength\", \"movement\", \"meteorological\", \"material\", \"finance\", \"research\", \"human\", \"metals\", \"accounting\", \"therapeutics\", \"international\", \"geophysical\", \"j\", \"development\", \"economics\", \"practice\", \"small\", \"proceedings\", \"medicine\", \"russian\", \"turkish\", \"new\", \"association\", \"stem\", \"nonlinear\", \"simulation\", \"south\", \"polish\", \"soil\", \"abuse\", \"legal\", \"studies\", \"zealand\", \"integrative\", \"papers\", \"neurological\", \"methodology\", \"liver\", \"community\", \"psychoanalytic\", \"hiv\", \"academy\", \"gynecology\", \"resources\", \"care\", \"sea\", \"critical\", \"post\", \"resuscitation\", \"african\", \"obstetrics\", \"sociology\", \"american\", \"media\", \"quality\", \"qualitative\", \"plant\", \"medical\", \"cell\", \"sciences\", \"health\", \"international\", \"medicine\", \"water\", \"culture\", \"design\", \"cultural\", \"techniques\", \"e\", \"cognition\", \"systematic\", \"magnetic\", \"resonance\", \"interaction\", \"programming\", \"soft\", \"petroleum\", \"emerging\", \"metallurgy\", \"asme\", \"signal\", \"innovation\", \"networks\", \"palaeontology\", \"computing\", \"occupational\", \"therapy\", \"investigacion\", \"composites\", \"institution\", \"psychologica\", \"circuits\", \"linguistica\", \"neural\", \"transactions\", \"geometry\", \"teaching\", \"systems\", \"civil\", \"processing\", \"service\", \"revue\", \"ieee\", \"b\", \"engineering\", \"international\", \"management\", \"geography\", \"quantum\", \"optimization\", \"psychiatric\", \"personality\", \"library\", \"inorganic\", \"der\", \"network\", \"zoological\", \"food\", \"linguistics\", \"wood\", \"oil\", \"symbolic\", \"east\", \"psychiatrie\", \"internet\", \"medizin\", \"products\", \"psychotherapy\", \"photonics\", \"herpetology\", \"dental\", \"synthesis\", \"physik\", \"compass\", \"computational\", \"stochastics\", \"product\", \"mathematics\", \"technology\", \"services\", \"nursing\", \"radiology\", \"bulletin\", \"science\", \"international\", \"european\", \"chemistry\", \"applied\", \"agricultural\", \"research\", \"world\", \"organization\", \"optical\", \"population\", \"spectroscopy\", \"measurement\", \"process\", \"reviews\", \"geographical\", \"music\", \"computers\", \"resource\", \"psychology\", \"mediterranean\", \"sexuality\", \"middle\", \"naturalist\", \"personnel\", \"psychological\", \"proceedings\", \"effectiveness\", \"enfermagem\", \"marina\", \"maxillofacial\", \"foods\", \"managerial\", \"f\", \"eastern\", \"dosimetry\", \"biological\", \"water\", \"disabilities\", \"perspectives\", \"management\", \"economics\", \"chinese\", \"health\", \"supply\", \"medical\", \"environmental\", \"b\", \"developmental\", \"international\", \"mathematics\", \"zeitschrift\", \"transportation\", \"engineers\", \"interdisciplinary\", \"modern\", \"statistical\", \"ultrasound\", \"protection\", \"reliability\", \"heart\", \"agriculture\", \"fluid\", \"institute\", \"politics\", \"dynamics\", \"traffic\", \"separation\", \"pharmacological\", \"waves\", \"shock\", \"mathematica\", \"coatings\", \"rare\", \"powder\", \"toxicological\", \"planetary\", \"motor\", \"southeast\", \"insect\", \"crystals\", \"netherlands\", \"behavior\", \"electronic\", \"sciences\", \"veterinary\", \"environmental\", \"user\", \"china\", \"therapeutic\", \"international\", \"medical\", \"economics\", \"energy\", \"revue\", \"seminars\", \"nature\", \"espanola\", \"japan\", \"electronics\", \"society\", \"solar\", \"mathematical\", \"la\", \"america\", \"argentina\", \"oral\", \"fisheries\", \"counseling\", \"medecine\", \"healthcare\", \"intellectual\", \"protein\", \"sante\", \"entomological\", \"communications\", \"ecological\", \"express\", \"drugs\", \"communication\", \"pollution\", \"monographs\", \"employment\", \"publique\", \"publications\", \"reports\", \"india\", \"conservation\", \"c\", \"rapid\", \"obesity\", \"iranian\", \"brazilian\", \"sciences\", \"physics\", \"international\", \"trends\", \"y\", \"change\", \"related\", \"reproductive\", \"southern\", \"del\", \"sexual\", \"translational\", \"work\", \"robotics\", \"trauma\", \"steel\", \"orthopaedic\", \"numerical\", \"solids\", \"botany\", \"interface\", \"orthopaedics\", \"hypertension\", \"affairs\", \"war\", \"apheresis\", \"ve\", \"biomaterials\", \"theory\", \"surgeon\", \"spine\", \"methods\", \"tecnologia\", \"practice\", \"surgery\", \"neurosciences\", \"history\", \"clinical\", \"mechanics\", \"pediatric\", \"social\", \"oncology\", \"international\", \"health\", \"revista\", \"fur\", \"forum\", \"pain\", \"scientific\", \"technical\", \"geophysics\", \"operations\", \"investigation\", \"polymers\", \"nano\", \"psychologie\", \"speech\", \"metal\", \"latin\", \"iberoamericana\", \"francaise\", \"serie\", \"ceramic\", \"geriatric\", \"religion\", \"chilena\", \"medicinal\", \"pharmaceutical\", \"cells\", \"hospitality\", \"records\", \"statistics\", \"stratigraphy\", \"gastroenterology\", \"language\", \"chemistry\", \"psychotherapie\", \"analytical\", \"romanian\", \"quarterly\", \"management\", \"applied\", \"university\", \"modeling\", \"record\", \"nanotechnology\", \"strategic\", \"image\", \"teacher\", \"spatial\", \"intelligent\", \"policy\", \"travail\", \"dermatology\", \"musculoskeletal\", \"plastic\", \"report\", \"diseases\", \"freshwater\", \"open\", \"soziologie\", \"non\", \"electrical\", \"pennsylvania\", \"access\", \"endocrine\", \"borne\", \"topology\", \"low\", \"metabolic\", \"administrative\", \"gerontology\", \"education\", \"law\", \"analysis\", \"dialysis\", \"infectious\", \"laboratory\", \"review\", \"international\", \"real\", \"economics\", \"medical\", \"et\", \"systems\", \"transport\", \"computation\", \"problems\", \"child\", \"performance\", \"psicologia\", \"publica\", \"mass\", \"global\", \"immunology\", \"thermal\", \"spectrometry\", \"life\", \"special\", \"race\", \"internal\", \"canada\", \"animals\", \"allergy\", \"kinetics\", \"patient\", \"wound\", \"saude\", \"biologia\", \"action\", \"affective\", \"thought\", \"value\", \"psychopathology\", \"social\", \"chemical\", \"waste\", \"european\", \"administration\", \"cognitive\", \"comparative\", \"planning\", \"behavioral\", \"ethics\", \"sciences\", \"research\", \"development\", \"international\", \"medicine\", \"management\", \"tropical\", \"marketing\", \"evaluation\", \"parasitology\", \"financial\", \"internacional\", \"web\", \"testing\", \"oceanography\", \"scientia\", \"survey\", \"knowledge\", \"mechanisms\", \"sociales\", \"en\", \"astronomical\", \"higher\", \"mathematik\", \"logistics\", \"risk\", \"genes\", \"early\", \"nondestructive\", \"neurology\", \"disease\", \"assessment\", \"discovery\", \"womens\", \"monthly\", \"pacific\", \"drug\", \"mental\", \"aging\", \"psychiatry\", \"pediatric\", \"control\", \"evolution\", \"health\", \"mexicana\", \"education\", \"sociological\", \"modelling\", \"quantitative\", \"organizational\", \"justice\", \"vision\", \"rheumatology\", \"weather\", \"historical\", \"biosciences\", \"visual\", \"primary\", \"washington\", \"business\", \"space\", \"geosciences\", \"limnology\", \"synthetic\", \"telecommunications\", \"proteomics\", \"criminology\", \"family\", \"skin\", \"physiotherapy\", \"semiconductors\", \"endocrinology\", \"choice\", \"pulmonary\", \"ophthalmology\", \"young\", \"hydrology\", \"review\", \"earth\", \"epidemiology\", \"d\", \"law\", \"metabolism\", \"cell\", \"small\", \"international\", \"biology\", \"theoretical\", \"surface\", \"vascular\", \"geology\", \"neurosurgery\", \"polymer\", \"treatment\", \"urology\", \"power\", \"women\", \"national\", \"forestry\", \"medica\", \"plasma\", \"pakistan\", \"renewable\", \"mining\", \"college\", \"pragmatics\", \"professional\", \"imaging\", \"metallurgical\", \"surgeons\", \"quarterly\", \"mexico\", \"sociedade\", \"semiconductor\", \"ultrasonics\", \"united\", \"infrared\", \"physics\", \"oncology\", \"prevention\", \"cancer\", \"nuclear\", \"intelligence\", \"issues\", \"letters\", \"applied\", \"science\", \"current\", \"economy\", \"transfusion\", \"nephrology\", \"wireless\", \"chemie\", \"zhurnal\", \"psicologica\", \"politica\", \"postepy\", \"medizinische\", \"entomology\", \"genomics\", \"angewandte\", \"lasers\", \"head\", \"nematology\", \"mathematicae\", \"cardiology\", \"neck\", \"economia\", \"dergisi\", \"palynology\", \"electronica\", \"palaeobotany\", \"srodowiska\", \"ochrona\", \"materiale\", \"biologii\", \"nefrologia\", \"natural\", \"topics\", \"functional\", \"disorders\", \"optics\", \"peptide\", \"cardiovascular\", \"series\", \"microbiology\", \"acta\", \"pharmacology\", \"opinion\", \"sinica\", \"mexicana\", \"surgery\", \"letters\", \"applied\", \"und\", \"mechanical\", \"learning\", \"philosophy\", \"pediatrics\", \"rehabilitation\", \"thoracic\", \"structure\", \"zoology\", \"praxis\", \"rural\", \"today\", \"translation\", \"probability\", \"singapore\", \"vibration\", \"spectrum\", \"autism\", \"minerals\", \"purification\", \"central\", \"meteorology\", \"genetics\", \"function\", \"london\", \"leadership\", \"signaling\", \"earthquake\", \"redox\", \"ausgabe\", \"du\", \"energy\", \"sustainability\", \"nutrition\", \"korean\", \"letters\", \"catalysis\", \"biophysics\", \"technology\", \"educational\", \"surgery\", \"engineering\", \"animal\", \"science\", \"sport\", \"structures\", \"marine\", \"processes\", \"violence\", \"indian\", \"scripta\", \"interventional\", \"exercise\", \"particle\", \"physica\", \"public\", \"sex\", \"microbial\", \"surveys\", \"organic\", \"systematics\", \"mineral\", \"ecology\", \"composite\", \"entomologist\", \"chronic\", \"informatics\", \"multimedia\", \"west\", \"biomedical\", \"characterization\", \"neuroendocrinology\", \"differences\", \"ornitologia\", \"political\", \"environment\", \"conflict\", \"evolutionary\", \"physiological\", \"anthropology\", \"health\", \"evolution\", \"review\", \"materials\", \"management\", \"chemistry\", \"biology\", \"clinics\", \"brasileira\", \"magazine\", \"salud\", \"dentistry\", \"stress\", \"economic\", \"cellular\", \"thrombosis\", \"pharmacy\", \"nova\", \"north\", \"lung\", \"clinique\", \"linguistic\", \"genetic\", \"hematology\", \"orthodontics\", \"regulation\", \"veterinaria\", \"ambiental\", \"microscopy\", \"neurobiology\", \"preventive\", \"polska\", \"endoscopy\", \"growth\", \"pharmacognosy\", \"perinatology\", \"inquiry\", \"geological\", \"western\", \"development\", \"des\", \"et\", \"review\", \"american\", \"molecular\"], \"Total\": [653.0, 551.0, 351.0, 201.0, 206.0, 211.0, 283.0, 193.0, 220.0, 176.0, 255.0, 158.0, 162.0, 155.0, 144.0, 159.0, 104.0, 151.0, 220.0, 111.0, 97.0, 104.0, 106.0, 133.0, 180.0, 185.0, 115.0, 140.0, 80.0, 192.0, 38.07088088989258, 28.991697311401367, 25.68133544921875, 40.8970947265625, 19.47263526916504, 32.070396423339844, 16.796064376831055, 15.577455520629883, 15.00711441040039, 13.801619529724121, 21.854169845581055, 155.9192657470703, 11.686053276062012, 11.579595565795898, 11.512568473815918, 11.395628929138184, 51.346343994140625, 10.597887992858887, 32.172157287597656, 9.38821792602539, 8.933670043945312, 17.243038177490234, 8.303512573242188, 57.41551971435547, 7.964356422424316, 34.593929290771484, 7.3056769371032715, 6.920994758605957, 17.36421012878418, 6.793038368225098, 47.59230041503906, 283.1045227050781, 180.8843994140625, 41.35232162475586, 49.92068099975586, 19.263456344604492, 16.441757202148438, 85.57086181640625, 28.952409744262695, 113.01448059082031, 53.22005081176758, 444.13739013671875, 37.47952651977539, 109.70404052734375, 26.43081283569336, 32.11486053466797, 15.564958572387695, 15.48963451385498, 26.433385848999023, 13.001275062561035, 12.023247718811035, 10.654824256896973, 34.61699676513672, 10.559232711791992, 10.232864379882812, 9.8826265335083, 9.345745086669922, 9.099278450012207, 8.614079475402832, 86.98828125, 18.41568946838379, 12.729935646057129, 7.550947189331055, 71.68526458740234, 6.094925880432129, 5.669363021850586, 5.653635501861572, 7.05674934387207, 8.467842102050781, 5.283356189727783, 16.05141258239746, 11.194141387939453, 10.56683349609375, 159.81800842285156, 80.6536636352539, 551.0923461914062, 255.69886779785156, 10.106990814208984, 85.39079284667969, 46.305728912353516, 140.0560760498047, 69.8243637084961, 35.34164810180664, 185.8809356689453, 42.966304779052734, 91.5466079711914, 126.38142395019531, 60.69533157348633, 23.85961151123047, 25.28870391845703, 20.25613021850586, 17.697223663330078, 16.55704689025879, 17.639480590820312, 14.626388549804688, 15.006189346313477, 16.526142120361328, 16.34198570251465, 12.867011070251465, 12.422924995422363, 13.447324752807617, 9.600159645080566, 25.42316246032715, 8.823068618774414, 14.264302253723145, 7.642675399780273, 16.326488494873047, 6.608380317687988, 6.581333637237549, 6.480568885803223, 7.592923164367676, 6.3965349197387695, 6.336520195007324, 6.128111362457275, 6.844480514526367, 6.012462615966797, 5.884650707244873, 23.24591064453125, 653.6389770507812, 57.237335205078125, 20.811429977416992, 17.040311813354492, 17.207006454467773, 444.13739013671875, 9.324230194091797, 7.5469794273376465, 92.26802062988281, 122.95601654052734, 77.06903839111328, 16.99138069152832, 72.58212280273438, 283.1045227050781, 67.43033599853516, 55.303955078125, 66.47669982910156, 36.2810173034668, 22.803184509277344, 22.679868698120117, 22.487436294555664, 60.285404205322266, 15.3176851272583, 35.41984176635742, 14.80290699005127, 20.442949295043945, 211.24887084960938, 16.624608993530273, 11.22629165649414, 15.08963394165039, 9.369451522827148, 10.415406227111816, 8.961416244506836, 8.451188087463379, 8.192198753356934, 8.084244728088379, 28.002666473388672, 13.003737449645996, 35.25700378417969, 60.912269592285156, 6.820994853973389, 18.104324340820312, 5.822512626647949, 5.7637739181518555, 65.51158142089844, 13.313460350036621, 28.79676055908203, 96.6540756225586, 24.852027893066406, 31.52042579650879, 14.212160110473633, 85.39079284667969, 126.38142395019531, 52.402130126953125, 192.25103759765625, 220.64413452148438, 444.13739013671875, 283.1045227050781, 66.74549102783203, 36.34774398803711, 40.10234832763672, 22.87238311767578, 20.65522003173828, 44.1942253112793, 19.09337043762207, 18.97077178955078, 18.870925903320312, 17.934593200683594, 16.41451644897461, 15.078072547912598, 13.277715682983398, 13.03738784790039, 12.935534477233887, 12.439630508422852, 16.470577239990234, 21.54755401611328, 11.001334190368652, 22.46409797668457, 10.238027572631836, 60.04728698730469, 19.320314407348633, 55.46090316772461, 8.713854789733887, 8.511391639709473, 37.673728942871094, 7.902578353881836, 7.5964274406433105, 9.386743545532227, 20.684724807739258, 133.26412963867188, 13.355088233947754, 25.719951629638672, 140.0560760498047, 26.33070182800293, 42.541385650634766, 18.58349609375, 54.78990173339844, 76.25629425048828, 69.8243637084961, 255.69886779785156, 444.13739013671875, 185.8809356689453, 22.1573543548584, 19.872541427612305, 20.855300903320312, 17.051525115966797, 16.764915466308594, 18.796361923217773, 14.166297912597656, 19.684898376464844, 13.759635925292969, 11.530156135559082, 49.740055084228516, 29.896142959594727, 10.209376335144043, 10.026687622070312, 9.816137313842773, 15.779742240905762, 7.827728271484375, 7.765089988708496, 7.2459588050842285, 7.080606937408447, 7.998007774353027, 7.949339866638184, 6.835862636566162, 8.227733612060547, 6.485171794891357, 6.237195014953613, 6.134479999542236, 35.65804672241211, 5.903402328491211, 7.509045600891113, 88.02662658691406, 220.8032684326172, 17.84242820739746, 73.42015838623047, 26.484378814697266, 42.41785430908203, 551.0923461914062, 444.13739013671875, 93.75765228271484, 151.27015686035156, 109.70404052734375, 22.099397659301758, 653.6389770507812, 80.75662231445312, 24.14469337463379, 19.02238655090332, 18.56576156616211, 23.493051528930664, 17.434223175048828, 13.491181373596191, 176.5452423095703, 11.162081718444824, 10.495682716369629, 10.132378578186035, 12.825634002685547, 158.21022033691406, 9.051498413085938, 10.36589241027832, 8.592052459716797, 9.480677604675293, 8.018003463745117, 26.586471557617188, 72.58212280273438, 5.92595100402832, 5.693088054656982, 5.693089008331299, 5.686079502105713, 5.613224029541016, 5.3685407638549805, 4.895846843719482, 4.554664134979248, 4.549810886383057, 32.53771209716797, 66.74549102783203, 12.921125411987305, 25.170101165771484, 185.8809356689453, 122.95601654052734, 17.24739646911621, 220.64413452148438, 8.01175594329834, 126.38142395019531, 87.40501403808594, 69.8243637084961, 29.764240264892578, 444.13739013671875, 88.02662658691406, 104.32662200927734, 43.38397979736328, 35.698368072509766, 31.162452697753906, 26.917438507080078, 29.838153839111328, 14.448969841003418, 12.91718864440918, 11.431565284729004, 12.99635124206543, 15.24974250793457, 10.601327896118164, 33.384033203125, 41.179325103759766, 50.30573272705078, 9.000984191894531, 8.748416900634766, 8.81153678894043, 8.0436372756958, 7.9571051597595215, 17.308773040771484, 7.7413835525512695, 7.504893779754639, 7.326016426086426, 7.0158371925354, 6.771196365356445, 6.497861862182617, 6.46101713180542, 7.204465389251709, 6.216376304626465, 6.216376304626465, 37.21587371826172, 15.172760963439941, 192.25103759765625, 85.57086181640625, 87.40501403808594, 9.389371871948242, 27.73272132873535, 28.952409744262695, 444.13739013671875, 126.38142395019531, 122.95601654052734, 51.8311767578125, 54.78990173339844, 75.60877227783203, 61.97141647338867, 28.787744522094727, 24.601192474365234, 23.763391494750977, 206.05133056640625, 14.670268058776855, 111.35258483886719, 26.642906188964844, 45.72796630859375, 10.004207611083984, 26.993953704833984, 14.991251945495605, 9.80009937286377, 9.278584480285645, 9.861149787902832, 8.034207344055176, 8.893403053283691, 7.741979122161865, 7.6301493644714355, 50.160072326660156, 6.698596477508545, 7.334701061248779, 11.655228614807129, 41.5803108215332, 5.637300968170166, 5.3065338134765625, 5.169525623321533, 5.591079235076904, 8.016671180725098, 44.61933517456055, 9.574642181396484, 17.22711753845215, 18.497230529785156, 11.340520858764648, 12.869833946228027, 11.57957649230957, 10.938153266906738, 192.25103759765625, 162.71688842773438, 444.13739013671875, 50.205162048339844, 44.72091293334961, 20.92923355102539, 18.528371810913086, 28.36403465270996, 17.901592254638672, 21.308326721191406, 19.153593063354492, 33.00712585449219, 35.0824089050293, 13.380050659179688, 14.506321907043457, 9.997538566589355, 9.753177642822266, 20.07126235961914, 9.97472858428955, 16.724031448364258, 7.968170642852783, 7.875844478607178, 7.86453914642334, 12.597762107849121, 6.402173042297363, 6.1681671142578125, 6.31274938583374, 6.468888759613037, 89.05230712890625, 5.482097148895264, 7.1022138595581055, 72.2004165649414, 5.893178462982178, 77.06903839111328, 100.94967651367188, 9.565306663513184, 68.37041473388672, 113.01448059082031, 46.305728912353516, 61.92115020751953, 193.5676727294922, 76.77984619140625, 444.13739013671875, 220.64413452148438, 201.96231079101562, 97.77684020996094, 16.465925216674805, 14.957172393798828, 17.864686965942383, 15.258795738220215, 13.77035903930664, 16.434127807617188, 9.887857437133789, 9.784424781799316, 10.60877799987793, 14.46425724029541, 10.077278137207031, 9.980640411376953, 10.77371597290039, 8.397257804870605, 7.49644136428833, 7.19754695892334, 7.0460429191589355, 6.706674575805664, 6.6530303955078125, 6.64544677734375, 9.124195098876953, 18.232357025146484, 15.291728973388672, 6.241232872009277, 6.084000110626221, 31.481884002685547, 5.631696701049805, 19.470409393310547, 51.32374954223633, 151.27015686035156, 9.611235618591309, 12.67265796661377, 24.390748977661133, 106.10525512695312, 185.8809356689453, 109.70404052734375, 36.108848571777344, 19.05521011352539, 15.910518646240234, 15.723444938659668, 13.231590270996094, 13.119138717651367, 12.282949447631836, 10.556181907653809, 10.239840507507324, 104.48443603515625, 9.076231956481934, 13.892401695251465, 8.590677261352539, 11.36397647857666, 8.231572151184082, 51.82577896118164, 7.1725873947143555, 21.161834716796875, 6.725358486175537, 6.459163665771484, 9.639084815979004, 5.770524978637695, 5.758256435394287, 5.704991340637207, 7.0906596183776855, 5.609509468078613, 6.2636613845825195, 9.816912651062012, 6.580513000488281, 5.132956027984619, 144.01739501953125, 115.15042114257812, 91.5466079711914, 8.572056770324707, 18.763574600219727, 14.176936149597168, 351.22515869140625, 444.13739013671875, 11.821065902709961, 122.95601654052734, 126.38142395019531, 33.24784851074219, 140.0560760498047, 27.621437072753906, 22.394756317138672, 19.201234817504883, 32.664268493652344, 16.72749137878418, 14.096388816833496, 12.406462669372559, 11.930949211120605, 21.66777229309082, 51.60951232910156, 11.17164134979248, 10.618471145629883, 26.716814041137695, 15.750876426696777, 8.918683052062988, 8.367690086364746, 7.517955780029297, 8.337615966796875, 11.573685646057129, 7.23091983795166, 7.8053812980651855, 7.446617603302002, 6.437654972076416, 6.267241477966309, 5.543637275695801, 4.765185356140137, 4.626062393188477, 4.468623161315918, 4.380899429321289, 193.5676727294922, 66.6412124633789, 10.310606956481934, 93.75765228271484, 15.345677375793457, 23.209245681762695, 24.431814193725586, 31.149181365966797, 23.960430145263672, 15.060770034790039, 192.25103759765625, 653.6389770507812, 92.26802062988281, 444.13739013671875, 283.1045227050781, 185.8809356689453, 51.19624328613281, 28.29073143005371, 24.791919708251953, 18.764530181884766, 18.606599807739258, 16.764236450195312, 14.54289722442627, 14.25047492980957, 13.90732479095459, 13.79611873626709, 13.179044723510742, 12.839241981506348, 11.670291900634766, 11.495802879333496, 12.416150093078613, 10.943347930908203, 18.29639434814453, 9.48398494720459, 9.343223571777344, 27.400869369506836, 8.813450813293457, 8.31846809387207, 8.313163757324219, 26.76848030090332, 47.55549621582031, 17.58741569519043, 12.93154239654541, 11.517146110534668, 7.224991798400879, 23.699962615966797, 25.95319366455078, 24.401676177978516, 13.563090324401855, 49.294586181640625, 61.92115020751953, 47.28110122680664, 28.7559814453125, 220.64413452148438, 21.552091598510742, 144.01739501953125, 32.077247619628906, 23.303314208984375, 17.885478973388672, 16.44499969482422, 16.76656723022461, 14.171521186828613, 14.885758399963379, 12.814665794372559, 14.088737487792969, 10.251860618591309, 14.472450256347656, 9.699963569641113, 8.948009490966797, 33.78189468383789, 23.84945297241211, 9.897873878479004, 7.228470325469971, 6.680304050445557, 6.680304050445557, 7.498425483703613, 8.348259925842285, 24.239673614501953, 5.837174892425537, 5.794187545776367, 5.732801914215088, 21.637828826904297, 5.502954006195068, 5.1687331199646, 16.525270462036133, 4.373546123504639, 6.760436534881592, 351.22515869140625, 28.261184692382812, 12.846847534179688, 31.916147232055664, 115.15042114257812, 20.086652755737305, 52.402130126953125, 16.99138069152832, 444.13739013671875, 180.8843994140625, 58.65937042236328, 29.507410049438477, 20.313732147216797, 30.7818660736084, 17.198556900024414, 32.21199417114258, 17.111175537109375, 14.991402626037598, 12.529845237731934, 14.046409606933594, 12.20820140838623, 13.685765266418457, 16.304826736450195, 11.347681045532227, 10.619214057922363, 9.795912742614746, 10.107831001281738, 8.380685806274414, 6.762661933898926, 10.339845657348633, 28.080257415771484, 6.098842620849609, 6.095555305480957, 106.10525512695312, 5.9103240966796875, 5.910324573516846, 5.693734169006348, 6.724469184875488, 5.333385467529297, 6.001316547393799, 162.71688842773438, 76.77984619140625, 13.728931427001953, 48.9857063293457, 45.3085823059082, 11.345601081848145, 15.279443740844727, 95.17675018310547, 109.70404052734375, 551.0923461914062, 38.83436965942383, 22.914752960205078, 16.770305633544922, 14.347208976745605, 11.932524681091309, 10.831746101379395, 9.931997299194336, 9.931998252868652, 8.773948669433594, 7.992234706878662, 7.951176166534424, 14.86958122253418, 14.419246673583984, 6.574555397033691, 6.466467380523682, 8.035480499267578, 5.715909957885742, 6.346504211425781, 14.94544506072998, 6.644556999206543, 6.4563164710998535, 25.520898818969727, 4.834122180938721, 4.834122180938721, 4.834122180938721, 4.834122180938721, 4.834122180938721, 4.834122180938721, 4.834122180938721, 4.834122180938721, 41.77021789550781, 35.01411437988281, 15.277087211608887, 34.25632095336914, 19.08513641357422, 5.349409580230713, 31.595932006835938, 42.966304779052734, 53.22005081176758, 36.4659538269043, 37.47952651977539, 16.276466369628906, 8.043866157531738, 21.552091598510742, 100.94967651367188, 95.17675018310547, 109.70404052734375, 65.9923324584961, 38.33823776245117, 38.14872741699219, 33.07954788208008, 18.069732666015625, 33.418514251708984, 15.306351661682129, 13.84276008605957, 25.461944580078125, 10.784897804260254, 10.258246421813965, 9.917856216430664, 10.27522087097168, 17.882888793945312, 8.115078926086426, 8.091254234313965, 7.5414719581604, 8.130682945251465, 7.167517185211182, 7.065147399902344, 6.951145172119141, 11.40893268585205, 43.894126892089844, 6.491581439971924, 6.105432033538818, 8.014737129211426, 5.751888751983643, 5.735126972198486, 5.730236053466797, 5.628106117248535, 9.249073028564453, 51.8311767578125, 11.03497314453125, 57.17295455932617, 16.145090103149414, 95.17675018310547, 12.121058464050293, 10.849526405334473, 220.8032684326172, 23.064138412475586, 100.94967651367188, 255.69886779785156, 35.34164810180664, 551.0923461914062, 41.93827438354492, 38.214962005615234, 53.95643615722656, 20.8101863861084, 17.771255493164062, 33.59360122680664, 9.715666770935059, 9.53505802154541, 13.747200012207031, 9.375499725341797, 15.17859935760498, 69.46189880371094, 7.662838935852051, 9.692119598388672, 7.556283950805664, 21.72892189025879, 9.168350219726562, 7.255151271820068, 61.93278503417969, 9.658867835998535, 6.495882034301758, 6.354308128356934, 19.754995346069336, 6.137139797210693, 8.593533515930176, 14.580540657043457, 8.291359901428223, 5.001640796661377, 4.868480205535889, 4.739334583282471, 56.35292434692383, 47.52973175048828, 7.318537712097168, 11.425180435180664, 14.294172286987305, 9.04006290435791, 220.64413452148438, 28.7559814453125, 351.22515869140625, 159.81800842285156, 185.8809356689453, 151.27015686035156, 180.8843994140625, 45.93167495727539, 43.120121002197266, 19.077468872070312, 14.933686256408691, 13.34500503540039, 11.60317611694336, 74.18051147460938, 20.804153442382812, 10.105340957641602, 9.420530319213867, 9.010498046875, 47.82012939453125, 8.448246955871582, 8.337127685546875, 8.296734809875488, 7.391672134399414, 13.916601181030273, 6.839290142059326, 9.790884017944336, 9.549551010131836, 5.773401737213135, 5.496243953704834, 12.32900619506836, 5.2756123542785645, 4.908544063568115, 6.401492118835449, 7.907189846038818, 4.430355548858643, 4.2755656242370605, 15.816314697265625, 8.545909881591797, 6.745169639587402, 92.26802062988281, 12.107213973999023, 33.24784851074219, 351.22515869140625, 96.6540756225586, 155.9192657470703], \"loglift\": [30.0, 29.0, 28.0, 27.0, 26.0, 25.0, 24.0, 23.0, 22.0, 21.0, 20.0, 19.0, 18.0, 17.0, 16.0, 15.0, 14.0, 13.0, 12.0, 11.0, 10.0, 9.0, 8.0, 7.0, 6.0, 5.0, 4.0, 3.0, 2.0, 1.0, 2.7246999740600586, 2.7207000255584717, 2.7170000076293945, 2.7074999809265137, 2.7065000534057617, 2.7051000595092773, 2.6995999813079834, 2.6956000328063965, 2.69350004196167, 2.688499927520752, 2.686199903488159, 2.678100109100342, 2.6770999431610107, 2.6763999462127686, 2.6760001182556152, 2.6751999855041504, 2.6695001125335693, 2.6693999767303467, 2.6682000160217285, 2.658600091934204, 2.6538000106811523, 2.6477999687194824, 2.646199941635132, 2.6451001167297363, 2.6415998935699463, 2.6386001110076904, 2.6312999725341797, 2.624300003051758, 2.622499942779541, 2.621799945831299, 2.5968000888824463, 2.5023999214172363, 2.3850998878479004, 2.481100082397461, 2.4391000270843506, 2.44320011138916, 2.446500062942505, 1.802899956703186, 2.134399890899658, 1.2970000505447388, 1.6618000268936157, 0.21469999849796295, 1.8909000158309937, 0.7117999792098999, 2.7416999340057373, 2.7284998893737793, 2.7191998958587646, 2.718899965286255, 2.7177999019622803, 2.69950008392334, 2.69350004196167, 2.6933000087738037, 2.6930999755859375, 2.692500114440918, 2.6898000240325928, 2.686800003051758, 2.6816000938415527, 2.678999900817871, 2.6733999252319336, 2.6707000732421875, 2.6635000705718994, 2.656100034713745, 2.641900062561035, 2.6308000087738037, 2.628999948501587, 2.617300033569336, 2.6168999671936035, 2.6098999977111816, 2.6064999103546143, 2.6048998832702637, 2.595900058746338, 2.5785999298095703, 2.5604000091552734, 2.5515999794006348, 2.524899959564209, 2.4173998832702637, 2.4035000801086426, 2.502000093460083, 1.9416999816894531, 1.955899953842163, 1.405500054359436, 1.5708999633789062, 1.5836000442504883, 0.22130000591278076, 1.4179999828338623, 0.5774000287055969, 0.21789999306201935, 2.7973999977111816, 2.776099920272827, 2.7739999294281006, 2.769700050354004, 2.7636001110076904, 2.7602999210357666, 2.7569000720977783, 2.7534000873565674, 2.7481000423431396, 2.747499942779541, 2.747299909591675, 2.745300054550171, 2.742799997329712, 2.7400999069213867, 2.72189998626709, 2.716399908065796, 2.71370005607605, 2.7037999629974365, 2.6977999210357666, 2.692699909210205, 2.678800106048584, 2.6782000064849854, 2.6760001182556152, 2.6744000911712646, 2.674099922180176, 2.6726999282836914, 2.6677000522613525, 2.6649999618530273, 2.6647000312805176, 2.66129994392395, 2.6566998958587646, 2.611599922180176, 2.6275999546051025, 2.628700017929077, 2.6124000549316406, 2.581700086593628, 1.1756000518798828, 2.546099901199341, 2.6205999851226807, 1.4672000408172607, 0.9108999967575073, 0.8511999845504761, 2.038100004196167, 0.7455000281333923, -0.6061999797821045, 2.825700044631958, 2.822999954223633, 2.8178999423980713, 2.799799919128418, 2.797300100326538, 2.796600103378296, 2.7953999042510986, 2.7915000915527344, 2.783099889755249, 2.781399965286255, 2.7811999320983887, 2.770400047302246, 2.765000104904175, 2.7609000205993652, 2.75219988822937, 2.7486000061035156, 2.7467000484466553, 2.745500087738037, 2.7423999309539795, 2.736299991607666, 2.7328999042510986, 2.7314000129699707, 2.72979998588562, 2.7230000495910645, 2.7207000255584717, 2.710900068283081, 2.69320011138916, 2.6874001026153564, 2.686800003051758, 2.6851999759674072, 2.671299934387207, 2.671600103378296, 2.599400043487549, 2.495800018310547, 2.5457000732421875, 2.4844000339508057, 2.6263999938964844, 2.0529000759124756, 1.3213000297546387, 1.8051999807357788, 0.8648999929428101, 0.7396000027656555, 0.24950000643730164, 0.13249999284744263, 1.4098000526428223, 2.8397998809814453, 2.8306000232696533, 2.8262999057769775, 2.8222999572753906, 2.8203001022338867, 2.819000005722046, 2.818700075149536, 2.81850004196167, 2.8160998821258545, 2.8117001056671143, 2.8071000576019287, 2.7994000911712646, 2.7981998920440674, 2.7976999282836914, 2.7950000762939453, 2.7939000129699707, 2.7923998832702637, 2.785900115966797, 2.7829999923706055, 2.779900074005127, 2.7792000770568848, 2.7783000469207764, 2.765199899673462, 2.7648000717163086, 2.762399911880493, 2.75570011138916, 2.754199981689453, 2.7495999336242676, 2.749500036239624, 2.7476000785827637, 2.6791000366210938, 2.7376999855041504, 2.629499912261963, 2.3747000694274902, 2.600100040435791, 2.51990008354187, 2.635999917984009, 2.150599956512451, 1.9057999849319458, 1.8133000135421753, 0.7778000235557556, 0.2669000029563904, 0.5232999920845032, 2.8652000427246094, 2.86080002784729, 2.8577001094818115, 2.8536999225616455, 2.852799892425537, 2.852400064468384, 2.843400001525879, 2.8427000045776367, 2.841599941253662, 2.829400062561035, 2.827899932861328, 2.8245999813079834, 2.819499969482422, 2.8178999423980713, 2.815999984741211, 2.814300060272217, 2.7927000522613525, 2.791800022125244, 2.7832999229431152, 2.780400037765503, 2.7797999382019043, 2.7762999534606934, 2.775700092315674, 2.7697999477386475, 2.768399953842163, 2.7625999450683594, 2.7600998878479004, 2.754199981689453, 2.7541000843048096, 2.753000020980835, 2.7111001014709473, 2.658900022506714, 2.731600046157837, 2.6830999851226807, 2.5713999271392822, 2.321700096130371, 1.3761999607086182, 1.1857999563217163, 1.7431999444961548, 1.3874000310897827, 1.2384999990463257, 2.0450000762939453, -0.4399999976158142, 2.9005000591278076, 2.8780999183654785, 2.863300085067749, 2.861299991607666, 2.855799913406372, 2.853100061416626, 2.850100040435791, 2.8489999771118164, 2.8366000652313232, 2.8315000534057617, 2.8285000324249268, 2.8255999088287354, 2.819700002670288, 2.818000078201294, 2.814199924468994, 2.812700033187866, 2.811300039291382, 2.8052000999450684, 2.8017001152038574, 2.7646000385284424, 2.7643001079559326, 2.7578001022338867, 2.7578001022338867, 2.7576000690460205, 2.7553999423980713, 2.7476000785827637, 2.7302000522613525, 2.715100049972534, 2.714900016784668, 2.713200092315674, 2.620800018310547, 2.654900074005127, 2.587399959564209, 2.30430006980896, 2.254699945449829, 2.57450008392334, 2.0950000286102295, 2.638200044631958, 1.4434000253677368, 1.3464000225067139, 1.0234999656677246, 1.7058000564575195, -0.8799999952316284, 0.6514999866485596, 2.936199903488159, 2.924999952316284, 2.9209001064300537, 2.9173998832702637, 2.9131999015808105, 2.9026999473571777, 2.8857998847961426, 2.878700017929077, 2.8698999881744385, 2.8694000244140625, 2.8647000789642334, 2.863800048828125, 2.8631999492645264, 2.862299919128418, 2.8601999282836914, 2.84879994392395, 2.8459999561309814, 2.84089994430542, 2.836899995803833, 2.835700035095215, 2.834399938583374, 2.8324999809265137, 2.828700065612793, 2.8257999420166016, 2.820199966430664, 2.8153998851776123, 2.8096001148223877, 2.808799982070923, 2.806999921798706, 2.803100109100342, 2.803100109100342, 2.6696999073028564, 2.7177999019622803, 2.2060000896453857, 2.344899892807007, 2.246000051498413, 2.7335000038146973, 2.3652000427246094, 2.0566999912261963, 0.09839999675750732, 0.6075000166893005, 0.34439998865127563, 1.0968999862670898, 1.0145000219345093, 2.9990999698638916, 2.9911999702453613, 2.9811999797821045, 2.9762001037597656, 2.9749999046325684, 2.960099935531616, 2.952699899673462, 2.939300060272217, 2.9265999794006348, 2.9265999794006348, 2.9247000217437744, 2.9235999584198, 2.92330002784729, 2.9228999614715576, 2.917799949645996, 2.912100076675415, 2.9026999473571777, 2.9003000259399414, 2.898400068283081, 2.896699905395508, 2.8921000957489014, 2.8798000812530518, 2.879499912261963, 2.8659000396728516, 2.8649001121520996, 2.853300094604492, 2.8427000045776367, 2.8378000259399414, 2.8282999992370605, 2.8254001140594482, 2.7953999042510986, 2.8160998821258545, 2.7583000659942627, 2.6659998893737793, 2.7344000339508057, 2.700200080871582, 2.7126998901367188, 2.703900098800659, 0.7235000133514404, 0.5957000255584717, -0.7186999917030334, 3.022900104522705, 2.999799966812134, 2.999500036239624, 2.9941999912261963, 2.992799997329712, 2.9925999641418457, 2.990600109100342, 2.9904000759124756, 2.987799882888794, 2.9848999977111816, 2.976300001144409, 2.973299980163574, 2.9539999961853027, 2.9518001079559326, 2.9453001022338867, 2.939300060272217, 2.936199903488159, 2.9310998916625977, 2.9296998977661133, 2.9296000003814697, 2.9100000858306885, 2.9026999473571777, 2.8970999717712402, 2.890000104904175, 2.8845999240875244, 2.8805999755859375, 2.8777999877929688, 2.876800060272217, 2.874000072479248, 2.8738999366760254, 2.785799980163574, 2.7430999279022217, 2.846100091934204, 2.629199981689453, 2.376800060272217, 2.1147000789642334, 1.8964999914169312, 1.2194000482559204, 1.357100009918213, -0.028699999675154686, 0.09719999879598618, 3.046999931335449, 3.0178000926971436, 2.9997000694274902, 2.99429988861084, 2.9893999099731445, 2.987499952316284, 2.980799913406372, 2.9774999618530273, 2.9639999866485596, 2.9630000591278076, 2.9588000774383545, 2.9546000957489014, 2.9540998935699463, 2.952899932861328, 2.948899984359741, 2.947700023651123, 2.934499979019165, 2.92930006980896, 2.9265999794006348, 2.919800043106079, 2.9186999797821045, 2.9184999465942383, 2.9173998832702637, 2.914400100708008, 2.9098000526428223, 2.9093000888824463, 2.905400037765503, 2.8998000621795654, 2.892699956893921, 2.8882999420166016, 2.740499973297119, 2.613100051879883, 2.849299907684326, 2.696899890899658, 2.3791000843048096, 0.6266999840736389, -0.032099999487400055, 0.2393999993801117, 3.0529000759124756, 3.032099962234497, 3.023200035095215, 3.022599935531616, 3.012200117111206, 3.011699914932251, 2.9986000061035156, 2.995500087738037, 2.9928998947143555, 2.9827001094818115, 2.981800079345703, 2.979300022125244, 2.9762001037597656, 2.9751999378204346, 2.97160005569458, 2.9672000408172607, 2.9553000926971436, 2.9535000324249268, 2.946700096130371, 2.940999984741211, 2.933199882507324, 2.9237000942230225, 2.92330002784729, 2.921799898147583, 2.9189999103546143, 2.9189000129699707, 2.914099931716919, 2.913100004196167, 2.9058001041412354, 2.90310001373291, 2.841099977493286, 2.541599988937378, 2.498800039291382, 2.772700071334839, 2.4711999893188477, 2.5643999576568604, 1.2027000188827515, 0.9883999824523926, 2.5416998863220215, 0.84170001745224, 0.7552000284194946, 1.7400000095367432, 0.5985999703407288, 3.055799961090088, 3.0487000942230225, 3.0423998832702637, 3.0399999618530273, 3.035900115966797, 3.018399953842163, 3.0179998874664307, 3.015199899673462, 3.015199899673462, 3.0120999813079834, 3.010200023651123, 3.0060999393463135, 2.9904000759124756, 2.9856998920440674, 2.983599901199341, 2.983599901199341, 2.971400022506714, 2.9697000980377197, 2.9667999744415283, 2.966599941253662, 2.9591000080108643, 2.954400062561035, 2.950900077819824, 2.928800106048584, 2.927299976348877, 2.898900032043457, 2.892699956893921, 2.885200023651123, 2.8808000087738037, 2.8619000911712646, 2.8041999340057373, 2.8515000343322754, 2.6972999572753906, 2.7964999675750732, 2.711199998855591, 2.6717000007629395, 2.5653998851776123, 2.6303000450134277, 2.616499900817871, 0.9300000071525574, 0.10859999805688858, 1.2407000064849854, 0.029100000858306885, 0.28380000591278076, 0.593999981880188, 3.0666000843048096, 3.057800054550171, 3.0536000728607178, 3.0427000522613525, 3.04229998588562, 3.0373001098632812, 3.0295000076293945, 3.0281999111175537, 3.026700019836426, 3.02620005607605, 3.0232999324798584, 3.0216000080108643, 3.0148000717163086, 3.0136001110076904, 3.010499954223633, 3.0097999572753906, 3.0078999996185303, 2.9974000453948975, 2.996000051498413, 2.9955999851226807, 2.9902000427246094, 2.9842000007629395, 2.984100103378296, 2.974100112915039, 2.97189998626709, 2.97160005569458, 2.971400022506714, 2.9677000045776367, 2.9677000045776367, 2.945499897003174, 2.919800043106079, 2.905900001525879, 2.944999933242798, 2.775399923324585, 2.6654000282287598, 2.6510000228881836, 2.540800094604492, 1.3029999732971191, 2.580199956893921, 0.7821999788284302, 3.0755999088287354, 3.0657999515533447, 3.0546998977661133, 3.05049991607666, 3.044600009918213, 3.042099952697754, 3.031399965286255, 3.0281999111175537, 3.025700092315674, 3.0185000896453857, 3.0174999237060547, 3.0136001110076904, 3.0058999061584473, 2.9948999881744385, 2.9935998916625977, 2.991499900817871, 2.981800079345703, 2.971299886703491, 2.971299886703491, 2.9704999923706055, 2.9702000617980957, 2.96370005607605, 2.9509999752044678, 2.9498000144958496, 2.9481000900268555, 2.944000005722046, 2.941200017929077, 2.9298999309539795, 2.9012999534606934, 2.8952999114990234, 2.8945000171661377, 2.674499988555908, 2.770400047302246, 2.843600034713745, 2.6435999870300293, 2.0434000492095947, 2.5269999504089355, 1.9931999444961548, 2.3935999870300293, -0.39959999918937683, 0.003700000001117587, 3.1168999671936035, 3.1048998832702637, 3.086899995803833, 3.086400032043457, 3.0843000411987305, 3.072499990463257, 3.0697999000549316, 3.0694000720977783, 3.065500020980835, 3.0645999908447266, 3.063699960708618, 3.0636000633239746, 3.059999942779541, 3.058199882507324, 3.0529000759124756, 3.0459001064300537, 3.037600040435791, 3.030400037765503, 3.004199981689453, 2.998300075531006, 2.9960999488830566, 2.9890999794006348, 2.9890999794006348, 2.985300064086914, 2.9842000007629395, 2.9842000007629395, 2.978100061416626, 2.9711999893188477, 2.9667000770568848, 2.9649999141693115, 2.8870999813079834, 2.9022998809814453, 2.9349000453948975, 2.813800096511841, 2.742799997329712, 2.8141000270843506, 2.5297000408172607, 1.3459999561309814, 0.7206000089645386, -1.0298999547958374, 3.12719988822937, 3.1122000217437744, 3.0987000465393066, 3.0820999145507812, 3.0778000354766846, 3.0703999996185303, 3.062999963760376, 3.062999963760376, 3.0511999130249023, 3.041100025177002, 3.040600061416626, 3.036900043487549, 3.0181000232696533, 3.016400098800659, 3.0141000747680664, 3.0064001083374023, 2.994999885559082, 2.9934000968933105, 2.974100112915039, 2.973900079727173, 2.971100091934204, 2.970900058746338, 2.9642999172210693, 2.9642999172210693, 2.9642999172210693, 2.9642999172210693, 2.9642999172210693, 2.9642999172210693, 2.9642999172210693, 2.9642999172210693, 2.920099973678589, 2.9237000942230225, 2.916800022125244, 2.8494999408721924, 2.8573999404907227, 2.953700065612793, 2.6784000396728516, 2.571000099182129, 2.424799919128418, 2.3122000694274902, 2.150099992752075, 2.486799955368042, 2.847399950027466, 2.132200002670288, 0.6211000084877014, 0.6230999827384949, 0.4683000147342682, 3.1364998817443848, 3.1296000480651855, 3.128700017929077, 3.125699996948242, 3.1078999042510986, 3.091200113296509, 3.08489990234375, 3.084700107574463, 3.0762999057769775, 3.0754001140594482, 3.071199893951416, 3.06820011138916, 3.0673999786376953, 3.0536000728607178, 3.048099994659424, 3.047800064086914, 3.039599895477295, 3.034899950027466, 3.0332999229431152, 3.031399965286255, 3.0292999744415283, 3.0260000228881836, 3.0239999294281006, 3.0197999477386475, 3.010699987411499, 3.008699893951416, 3.001199960708618, 3.000699996948242, 3.000499963760376, 2.997499942779541, 2.9935998916625977, 2.927500009536743, 2.9781999588012695, 2.8901000022888184, 2.8998000621795654, 2.6839001178741455, 2.9310998916625977, 2.944700002670288, 1.1568000316619873, 2.2778000831604004, 1.1518000364303589, 0.10159999877214432, 1.715999960899353, -0.7851999998092651, 3.153599977493286, 3.151700019836426, 3.133500099182129, 3.1333000659942627, 3.126300096511841, 3.0957000255584717, 3.0857999324798584, 3.0840001106262207, 3.0826001167297363, 3.08240008354187, 3.0764999389648438, 3.0741000175476074, 3.061000108718872, 3.0599000453948975, 3.059299945831299, 3.059000015258789, 3.05430006980896, 3.05430006980896, 3.0522000789642334, 3.045300006866455, 3.039400100708008, 3.0362000465393066, 3.032399892807007, 3.0309998989105225, 3.0211000442504883, 3.0204999446868896, 2.9962000846862793, 2.995699882507324, 2.9904000759124756, 2.9848999977111816, 2.9707000255584717, 2.948699951171875, 2.980799913406372, 2.924799919128418, 2.8794000148773193, 2.922600030899048, 1.2541999816894531, 2.2421998977661133, 0.5777999758720398, 0.8406000137329102, 0.7235999703407288, 0.8008000254631042, 0.22920000553131104, 3.2565999031066895, 3.2500998973846436, 3.230799913406372, 3.2183001041412354, 3.211400032043457, 3.2016000747680664, 3.200000047683716, 3.1974000930786133, 3.1902999877929688, 3.1839001178741455, 3.179500102996826, 3.1740000247955322, 3.1728999614715576, 3.1714000701904297, 3.1709001064300537, 3.1575000286102295, 3.152899980545044, 3.14739990234375, 3.135200023651123, 3.1333000659942627, 3.121999979019165, 3.113600015640259, 3.1119000911712646, 3.106300115585327, 3.0924999713897705, 3.08870005607605, 3.080399990081787, 3.07069993019104, 3.0625, 3.05649995803833, 3.0264999866485596, 3.0344998836517334, 2.449199914932251, 2.5871999263763428, 1.9062999486923218, 0.19910000264644623, 0.9099000096321106, 0.15309999883174896], \"logprob\": [30.0, 29.0, 28.0, 27.0, 26.0, 25.0, 24.0, 23.0, 22.0, 21.0, 20.0, 19.0, 18.0, 17.0, 16.0, 15.0, 14.0, 13.0, 12.0, 11.0, 10.0, 9.0, 8.0, 7.0, 6.0, 5.0, 4.0, 3.0, 2.0, 1.0, -4.042300224304199, -4.31879997253418, -4.443699836730957, -3.98799991607666, -4.730899810791016, -4.233399868011475, -4.885799884796143, -4.965099811553955, -5.004499912261963, -5.093200206756592, -4.635900020599365, -2.678999900817871, -5.270999908447266, -5.280799865722656, -5.287099838256836, -5.298099994659424, -3.79830002784729, -5.376399993896484, -4.267099857330322, -5.508399963378906, -5.56279993057251, -4.911300182342529, -5.643599987030029, -3.7111001014709473, -5.689899921417236, -4.2241997718811035, -5.786499977111816, -5.847599983215332, -4.929599761962891, -5.868800163269043, -3.947000026702881, -2.2583000659942627, -2.823499917984009, -4.203199863433838, -4.0569000244140625, -5.005099773406982, -5.160200119018555, -4.154300212860107, -4.906400203704834, -4.381899833679199, -4.770199775695801, -4.095600128173828, -4.8917999267578125, -4.9969000816345215, -4.390200138092041, -4.208700180053711, -4.942299842834473, -4.947400093078613, -4.414000034332275, -5.141900062561035, -5.226099967956543, -5.3471999168396, -4.169099807739258, -5.356900215148926, -5.390999794006348, -5.428899765014648, -5.489999771118164, -5.5192999839782715, -5.579699993133545, -3.2699999809265137, -4.829800128936768, -5.206399917602539, -5.7428998947143555, -3.5034000873565674, -5.96999979019165, -6.054100036621094, -6.057300090789795, -5.842599868774414, -5.663700103759766, -6.13700008392334, -5.034800052642822, -5.412499904632568, -5.48829984664917, -2.7808001041412354, -3.4914000034332275, -1.6771999597549438, -2.4590001106262207, -5.591300010681152, -4.017499923706055, -4.615300178527832, -4.059000015258789, -4.589600086212158, -5.257800102233887, -4.960100173950195, -5.228000164031982, -5.31220006942749, -5.3491997718811035, -3.503200054168701, -4.458199977874756, -4.402100086212158, -4.628300189971924, -4.769400119781494, -4.839399814605713, -4.779399871826172, -4.970200061798096, -4.949900150299072, -4.854000091552734, -4.8653998374938965, -5.106500148773193, -5.144100189208984, -5.067599773406982, -5.422800064086914, -4.454400062561035, -5.515399932861328, -5.044899940490723, -5.675000190734863, -4.920899868011475, -5.839300155639648, -5.843999862670898, -5.861599922180176, -5.704899787902832, -5.8765997886657715, -5.887400150299072, -5.925899982452393, -5.8180999755859375, -5.94789981842041, -5.972799777984619, -4.603600025177002, -1.3122999668121338, -3.7316999435424805, -4.742199897766113, -4.958499908447266, -4.979400157928467, -3.1347999572753906, -5.627799987792969, -5.764699935913086, -4.414599895477295, -4.683700084686279, -5.210599899291992, -5.535600185394287, -5.376200199127197, -5.366799831390381, -3.3696999549865723, -3.5706000328063965, -3.3917999267578125, -4.015399932861328, -4.4822001457214355, -4.488399982452393, -4.4980998039245605, -3.5157999992370605, -4.8942999839782715, -4.057799816131592, -4.930500030517578, -4.618500232696533, -2.2885000705718994, -4.834700107574463, -5.236000061035156, -4.94379997253418, -5.422299861907959, -5.317699909210205, -5.471199989318848, -5.535900115966797, -5.570400238037109, -5.585100173950195, -4.344399929046631, -5.118199825286865, -4.1230998039245605, -3.5861001014709473, -5.793300151824951, -4.82289981842041, -5.957900047302246, -5.969699859619141, -3.552999973297119, -5.146100044250488, -4.446800231933594, -3.3394999504089355, -4.647799968719482, -4.471399784088135, -5.125999927520752, -3.9063000679016113, -4.2459001541137695, -4.642300128936768, -4.282800197601318, -4.270299911499023, -4.060800075531006, -4.6280999183654785, -4.79580020904541, -3.973599910736084, -3.884399890899658, -4.450300216674805, -4.55620002746582, -3.797600030899048, -4.6381001472473145, -4.644899845123291, -4.650400161743164, -4.70359992980957, -4.796599864959717, -4.886099815368652, -5.020999908447266, -5.040500164031982, -5.048799991607666, -5.09060001373291, -4.810999870300293, -4.543799877166748, -5.222599983215332, -4.511600017547607, -5.3003997802734375, -3.5322000980377197, -4.666999816894531, -3.6256000995635986, -5.476799964904785, -5.502699851989746, -4.0218000411987305, -5.585100173950195, -5.629199981689453, -5.417600154876709, -4.62939977645874, -2.8350000381469727, -5.076900005340576, -4.529699802398682, -3.0897998809814453, -4.535699844360352, -4.136099815368652, -4.848199844360352, -4.252299785614014, -4.166600227355957, -4.3471999168396, -4.08459997177124, -4.043399810791016, -4.658100128173828, -4.4430999755859375, -4.556300163269043, -4.511099815368652, -4.7164998054504395, -4.734300136566162, -4.6203999519348145, -4.912199974060059, -4.583899974822998, -4.9430999755859375, -5.1321001052856445, -3.6717000007629395, -4.184199810028076, -5.263700008392334, -5.283299922943115, -5.306399822235107, -4.833499908447266, -5.556099891662598, -5.565100193023682, -5.6427001953125, -5.668700218200684, -5.547500133514404, -5.55709981918335, -5.708600044250488, -5.529200077056885, -5.768599987030029, -5.813300132751465, -5.832399845123291, -4.0782999992370605, -5.8769001960754395, -5.63730001449585, -3.2177999019622803, -2.3503000736236572, -4.793300151824951, -3.4272000789642334, -4.558599948883057, -4.337200164794922, -2.7183001041412354, -3.124500036239624, -4.122600078582764, -4.0, -4.470200061798096, -5.265999794006348, -4.363900184631348, -3.114500045776367, -4.344299793243408, -4.597499847412109, -4.623799800872803, -4.394000053405762, -4.694900035858154, -4.954400062561035, -2.3838999271392822, -5.157400131225586, -5.223999977111816, -5.262199878692627, -5.029399871826172, -2.522900104522705, -5.385499954223633, -5.253699779510498, -5.44290018081665, -5.345900058746338, -5.519599914550781, -4.324399948120117, -3.3571999073028564, -5.862800121307373, -5.90939998626709, -5.90939998626709, -5.910900115966797, -5.925899982452393, -5.978300094604492, -6.087900161743164, -6.17519998550415, -6.176499843597412, -4.2108001708984375, -3.5848000049591064, -5.192699909210205, -4.593400001525879, -2.8770999908447266, -3.339900016784668, -4.984300136566162, -2.914900064468384, -5.687399864196777, -4.123799800872803, -4.589600086212158, -5.13700008392334, -5.307300090789795, -5.190400123596191, -5.277400016784668, -2.8227999210357666, -3.711400032043457, -3.9105000495910645, -4.049799919128418, -4.200500011444092, -4.107999801635742, -4.849999904632568, -4.969200134277344, -5.100200176239014, -4.972400188446045, -4.817200183868408, -5.181700229644775, -4.035200119018555, -3.8262999057769775, -3.628200054168701, -5.360300064086914, -5.391600131988525, -5.389500141143799, -5.4847002029418945, -5.496699810028076, -4.720799922943115, -5.527400016784668, -5.56220006942749, -5.589300155639648, -5.6381001472473145, -5.678400039672852, -5.725399971008301, -5.731900215148926, -5.62470006942749, -5.776199817657471, -5.776199817657471, -4.119999885559082, -4.969200134277344, -2.941699981689453, -3.6122000217437744, -3.6898999214172363, -5.4334001541137695, -4.718599796295166, -4.984099864959717, -4.211999893188477, -4.95959997177124, -5.250199794769287, -5.361499786376953, -5.388500213623047, -3.0817999839782715, -3.288599967956543, -4.065299987792969, -4.227499961853027, -4.263299942016602, -2.1182000637054443, -4.76800012588501, -2.754499912261963, -4.197299957275391, -3.657099962234497, -5.178699970245361, -4.18720006942749, -4.775700092315674, -5.201200008392334, -5.261000156402588, -5.2058000564575195, -5.420100212097168, -5.320899963378906, -5.461400032043457, -5.477700233459473, -3.5992000102996826, -5.62470006942749, -5.53439998626709, -5.084799766540527, -3.813999891281128, -5.823800086975098, -5.894899845123291, -5.925899982452393, -5.85699987411499, -5.499599933624268, -3.8129000663757324, -5.331299781799316, -4.801599979400635, -4.82289981842041, -5.24370002746582, -5.151400089263916, -5.244500160217285, -5.310299873352051, -4.424099922180176, -4.718699932098389, -5.0289998054504395, -3.467400074005127, -3.6061999797821045, -4.365799903869629, -4.493000030517578, -4.068600177764893, -4.5289998054504395, -4.356800079345703, -4.463600158691406, -3.9219000339508057, -3.8638999462127686, -4.836400032043457, -4.758600234985352, -5.150100231170654, -5.17710018157959, -4.461900234222412, -5.167099952697754, -4.65339994430542, -5.399899959564209, -5.412899971008301, -5.4145002365112305, -4.9629998207092285, -5.64709997177124, -5.689899921417236, -5.673900127410889, -5.654900074005127, -3.036600112915039, -5.827099800109863, -5.569300174713135, -3.253000020980835, -5.758800029754639, -3.2760000228881836, -3.048799991607666, -5.302199840545654, -3.552299976348877, -3.3022000789642334, -4.456500053405762, -4.384099960327148, -3.9214000701904297, -4.708399772644043, -4.339099884033203, -4.912700176239014, -2.0513999462127686, -2.805999994277954, -4.605500221252441, -4.706900119781494, -4.534299850463867, -4.693900108337402, -4.803199768066406, -4.6296000480651855, -5.151199817657471, -5.162700176239014, -5.085999965667725, -4.780200004577637, -5.142099857330322, -5.1529998779296875, -5.080399990081787, -5.330900192260742, -5.457499980926514, -5.503399848937988, -5.527400016784668, -5.583499908447266, -5.592700004577637, -5.593999862670898, -5.27810001373291, -4.588900089263916, -4.769400119781494, -5.665999889373779, -5.695400238037109, -4.057300090789795, -5.785399913787842, -4.549300193786621, -3.727799892425537, -2.7743000984191895, -5.294300079345703, -5.170100212097168, -4.833099842071533, -5.115300178527832, -5.213399887084961, -5.469299793243408, -3.7669999599456787, -4.427000045776367, -4.616300106048584, -4.628699779510498, -4.811600208282471, -4.820700168609619, -4.899700164794922, -5.054299831390381, -5.087299823760986, -2.7746999263763428, -5.218999862670898, -4.795899868011475, -5.279600143432617, -5.000800132751465, -5.326900005340576, -3.4914000034332275, -5.480899810791016, -4.4008002281188965, -5.553899765014648, -5.599899768829346, -5.207499980926514, -5.730000019073486, -5.732500076293945, -5.743299961090088, -5.52869987487793, -5.7631001472473145, -5.657599925994873, -5.2093000411987305, -5.616499900817871, -5.867700099945068, -2.595400094985962, -3.1185998916625977, -3.3907999992370605, -5.485199928283691, -5.003399848937988, -5.190400123596191, -3.3422999382019043, -3.321899890899658, -5.394899845123291, -4.752999782562256, -4.811999797821045, -5.162499904632568, -4.865799903869629, -4.032100200653076, -4.248899936676025, -4.40910005569458, -3.880199909210205, -4.553500175476074, -4.742199897766113, -4.870299816131592, -4.912199974060059, -4.315499782562256, -3.4505999088287354, -4.982900142669678, -5.037799835205078, -4.130799770355225, -4.663899898529053, -5.2347002029418945, -5.298500061035156, -5.417799949645996, -5.315999984741211, -4.990900039672852, -5.46150016784668, -5.392499923706055, -5.444300174713135, -5.593400001525879, -5.642399787902832, -5.766499996185303, -5.946199893951416, -5.98199987411499, -6.024199962615967, -6.048500061035156, -2.2790000438690186, -3.4030001163482666, -5.221799850463867, -3.1684999465942383, -4.879199981689453, -4.5507001876831055, -4.53879976272583, -4.402299880981445, -4.599800109863281, -5.077899932861328, -4.217700004577637, -3.8152999877929688, -4.64109992980957, -4.281199932098389, -4.476900100708008, -4.587399959564209, -3.4042000770568848, -4.006100177764893, -4.142300128936768, -4.43179988861084, -4.440700054168701, -4.550000190734863, -4.699900150299072, -4.721399784088135, -4.747300148010254, -4.755799770355225, -4.804500102996826, -4.832399845123291, -4.934599876403809, -4.950799942016602, -4.876999855041504, -5.003900051116943, -4.4918999671936035, -5.1595001220703125, -5.17579984664917, -4.100299835205078, -5.2399001121521, -5.303800106048584, -5.304500102996826, -4.145100116729736, -3.5725998878479004, -4.567699909210205, -4.875400066375732, -4.994999885559082, -5.46120023727417, -4.295499801635742, -4.230400085449219, -4.3059000968933105, -4.854100227355957, -3.7332000732421875, -3.6152000427246094, -3.8993000984191895, -4.506899833679199, -3.706899881362915, -4.755799770355225, -4.654399871826172, -3.8626999855041504, -4.1921000480651855, -4.467800140380859, -4.5559000968933105, -4.542500019073486, -4.713099956512451, -4.674600124359131, -4.827700138092041, -4.735400199890137, -5.060500144958496, -4.716700077056885, -5.120699882507324, -5.209099769592285, -3.891700029373169, -4.241099834442139, -5.122700214385986, -5.446700096130371, -5.535999774932861, -5.535999774932861, -5.421299934387207, -5.314199924468994, -4.254799842834473, -5.691199779510498, -5.69980001449585, -5.712200164794922, -4.388000011444092, -5.760000228881836, -5.834000110626221, -4.700300216674805, -6.035600185394287, -5.600900173187256, -1.8704999685287476, -4.29449987411499, -5.009799957275391, -4.299799919128418, -3.61680006980896, -4.87939977645874, -4.454400062561035, -5.180200099945068, -4.70989990234375, -5.204899787902832, -3.2177999019622803, -3.9168999195098877, -4.308300018310547, -3.8931000232696533, -4.47730016708374, -3.861599922180176, -4.4969000816345215, -4.6296000480651855, -4.81279993057251, -4.69950008392334, -4.840700149536133, -4.726500034332275, -4.554999828338623, -4.9191999435424805, -4.990900039672852, -5.07859992980957, -5.055500030517578, -5.250100135803223, -5.490799903869629, -5.072199821472168, -4.075300216674805, -5.6092000007629395, -5.609899997711182, -2.7567999362945557, -5.645599842071533, -5.645599842071533, -5.689000129699707, -5.5295000076293945, -5.7657999992370605, -5.649499893188477, -2.427299976348877, -3.1631999015808105, -4.8520002365112305, -3.701200008392334, -3.8501999378204346, -5.16349983215332, -5.150300025939941, -4.504799842834473, -4.988100051879883, -5.124499797821045, -3.619999885559082, -4.162399768829346, -4.4882001876831055, -4.660799980163574, -4.849400043487549, -4.95359992980957, -5.047699928283691, -5.047699928283691, -5.183499813079834, -5.286900043487549, -5.292600154876709, -4.670199871063232, -4.719799995422363, -5.506800174713135, -5.5258002281188965, -5.316199779510498, -5.6682000160217285, -5.565100193023682, -4.728000164031982, -5.53879976272583, -5.570400238037109, -4.196000099182129, -5.866399765014648, -5.866399765014648, -5.866399765014648, -5.866399765014648, -5.866399765014648, -5.866399765014648, -5.866399765014648, -5.866399765014648, -3.754199981689453, -3.927000045776367, -4.763299942016602, -4.023099899291992, -4.600200176239014, -5.7758002281188965, -4.275000095367432, -4.075099945068359, -4.007299900054932, -4.497900009155273, -4.632599830627441, -5.129899978637695, -5.4741997718811035, -5.203800201416016, -5.1707000732421875, -5.227700233459473, -5.240300178527832, -3.080399990081787, -3.6303999423980713, -3.6363000869750977, -3.781899929046631, -4.404399871826172, -3.8062000274658203, -4.593299865722656, -4.693999767303467, -4.0929999351501465, -4.952899932861328, -5.007199764251709, -5.043900012969971, -5.009300231933594, -4.468999862670898, -5.264599800109863, -5.267899990081787, -5.346399784088135, -5.276000022888184, -5.403600215911865, -5.419899940490723, -5.438300132751465, -4.946000099182129, -3.6006999015808105, -5.516200065612793, -5.586599826812744, -5.316500186920166, -5.655799865722656, -5.659200191497803, -5.660200119018555, -5.68120002746582, -5.188300132751465, -3.5309998989105225, -5.027200222015381, -3.4702999591827393, -4.725100040435791, -3.166800022125244, -4.980400085449219, -5.077600002288818, -3.852400064468384, -4.9903998374938965, -4.639999866485596, -4.760900020599365, -5.125400066375732, -4.879799842834473, -3.516700029373169, -3.611599922180176, -3.2848000526428223, -4.23769998550415, -4.402500152587891, -3.7964000701904297, -5.046999931335449, -5.067500114440918, -4.703000068664551, -5.085899829864502, -4.610099792480469, -3.091599941253662, -5.309100151062012, -5.075200080871582, -5.32480001449585, -4.268799781799316, -5.13640022277832, -5.370500087738037, -3.2281999588012695, -5.093299865722656, -5.4959001541137695, -5.521100044250488, -4.390699863433838, -5.561100006103516, -5.234399795532227, -4.706299781799316, -5.295000076293945, -5.801000118255615, -5.8333001136779785, -5.865699768066406, -3.404099941253662, -3.596400022506714, -5.435200214385986, -5.04580020904541, -4.867199897766113, -5.282199859619141, -3.75570011138916, -4.805500030517578, -3.9672000408172607, -4.4918999671936035, -4.457799911499023, -4.586599826812744, -4.979400157928467, -3.322700023651123, -3.392400026321411, -4.227099895477295, -4.484499931335449, -4.603899955749512, -4.753600120544434, -2.9000000953674316, -4.173900127410889, -4.90310001373291, -4.979700088500977, -5.028500080108643, -3.3650999069213867, -5.099599838256836, -5.114299774169922, -5.119699954986572, -5.248700141906738, -4.620500087738037, -5.336400032043457, -4.989799976348877, -5.016600131988525, -5.531199932098389, -5.588799953460693, -4.782599925994873, -5.6371002197265625, -5.7230000495910645, -5.46120023727417, -5.258299827575684, -5.847300052642822, -5.89109992980957, -4.588900089263916, -5.234600067138672, -5.463099956512451, -3.4326000213623047, -5.325500011444092, -4.996200084686279, -4.3460001945495605, -4.92549991607666, -5.203999996185303]}, \"token.table\": {\"Topic\": [4, 4, 18, 12, 3, 8, 2, 5, 7, 11, 12, 14, 17, 19, 20, 13, 12, 13, 12, 10, 12, 13, 4, 6, 19, 14, 6, 7, 8, 14, 20, 8, 13, 20, 9, 18, 1, 3, 4, 5, 6, 9, 10, 11, 12, 14, 15, 19, 20, 1, 2, 5, 7, 12, 13, 14, 17, 18, 19, 11, 19, 17, 2, 3, 9, 18, 19, 13, 10, 19, 10, 2, 4, 11, 13, 19, 1, 2, 3, 5, 6, 7, 8, 10, 11, 12, 13, 15, 16, 17, 18, 9, 5, 12, 14, 4, 14, 18, 2, 18, 2, 4, 5, 7, 17, 19, 1, 7, 8, 15, 18, 1, 2, 10, 13, 17, 1, 18, 19, 13, 6, 7, 17, 1, 3, 4, 6, 7, 9, 12, 15, 17, 19, 20, 10, 19, 2, 18, 19, 15, 1, 12, 10, 20, 9, 4, 6, 9, 13, 15, 18, 6, 7, 15, 9, 11, 13, 1, 4, 5, 6, 10, 13, 15, 16, 17, 17, 3, 7, 8, 17, 1, 4, 10, 13, 3, 6, 9, 18, 1, 4, 15, 16, 19, 20, 11, 18, 11, 20, 18, 11, 1, 10, 19, 2, 3, 4, 9, 13, 17, 6, 9, 10, 11, 13, 15, 16, 18, 19, 13, 11, 2, 8, 16, 20, 1, 7, 15, 19, 2, 5, 5, 17, 1, 3, 4, 6, 7, 10, 12, 13, 15, 17, 18, 20, 20, 2, 8, 5, 4, 6, 7, 13, 16, 9, 16, 4, 7, 9, 19, 4, 4, 13, 6, 19, 5, 13, 5, 6, 10, 11, 7, 2, 4, 5, 12, 1, 19, 7, 9, 19, 1, 2, 7, 10, 14, 9, 15, 4, 10, 3, 2, 8, 5, 5, 17, 3, 8, 15, 2, 1, 14, 1, 10, 6, 20, 6, 14, 17, 12, 8, 20, 5, 3, 7, 13, 14, 18, 20, 1, 7, 9, 16, 18, 2, 1, 12, 17, 19, 7, 9, 6, 14, 12, 14, 19, 2, 12, 9, 12, 17, 7, 4, 7, 14, 9, 17, 18, 8, 15, 16, 5, 20, 14, 8, 15, 19, 18, 6, 7, 9, 1, 4, 5, 13, 17, 19, 17, 7, 12, 13, 15, 20, 1, 2, 3, 4, 5, 7, 8, 12, 17, 4, 7, 8, 9, 10, 12, 14, 17, 3, 4, 9, 13, 18, 7, 12, 5, 8, 17, 9, 3, 5, 9, 14, 12, 3, 15, 20, 1, 8, 18, 7, 1, 2, 3, 5, 6, 8, 9, 10, 12, 13, 14, 18, 19, 8, 2, 17, 9, 19, 17, 3, 7, 8, 9, 19, 2, 3, 6, 7, 8, 9, 13, 17, 3, 5, 15, 9, 12, 14, 19, 20, 9, 13, 6, 13, 14, 14, 19, 12, 19, 19, 1, 3, 12, 13, 9, 7, 1, 4, 15, 2, 3, 6, 14, 9, 8, 2, 3, 6, 7, 3, 16, 11, 11, 12, 18, 2, 17, 11, 12, 3, 11, 20, 3, 14, 20, 2, 3, 9, 18, 17, 7, 6, 6, 20, 16, 19, 5, 13, 3, 11, 15, 11, 12, 13, 18, 20, 4, 18, 17, 1, 4, 6, 7, 10, 14, 18, 19, 20, 9, 8, 1, 3, 20, 6, 1, 14, 18, 15, 3, 6, 10, 13, 15, 17, 19, 20, 4, 11, 3, 4, 5, 13, 20, 15, 10, 11, 1, 2, 3, 5, 6, 7, 8, 9, 10, 11, 12, 14, 15, 16, 17, 18, 19, 20, 12, 4, 7, 16, 13, 14, 17, 9, 20, 14, 19, 1, 1, 2, 8, 12, 14, 1, 12, 19, 1, 2, 6, 9, 15, 16, 16, 5, 6, 4, 8, 20, 8, 8, 16, 4, 5, 4, 9, 6, 16, 12, 5, 8, 10, 14, 13, 1, 3, 4, 5, 6, 7, 8, 9, 10, 12, 13, 14, 15, 16, 17, 19, 6, 19, 5, 11, 1, 9, 4, 13, 16, 2, 3, 9, 15, 13, 14, 13, 18, 9, 14, 1, 12, 13, 5, 8, 11, 18, 17, 11, 4, 12, 13, 15, 16, 18, 18, 4, 2, 5, 7, 16, 17, 18, 6, 7, 13, 15, 20, 5, 1, 6, 20, 4, 3, 5, 14, 18, 12, 20, 2, 3, 6, 20, 5, 1, 2, 3, 5, 7, 11, 12, 13, 19, 7, 1, 16, 7, 12, 19, 3, 14, 13, 3, 17, 2, 5, 6, 7, 8, 16, 18, 19, 8, 14, 17, 6, 8, 9, 15, 16, 1, 6, 7, 10, 13, 16, 14, 7, 7, 18, 2, 8, 10, 17, 14, 9, 4, 5, 16, 1, 2, 3, 4, 6, 7, 8, 9, 12, 14, 17, 18, 19, 1, 11, 1, 2, 3, 4, 5, 6, 7, 8, 11, 13, 14, 15, 18, 20, 7, 6, 17, 1, 10, 14, 12, 4, 15, 16, 11, 16, 5, 2, 3, 3, 18, 20, 4, 8, 10, 19, 14, 17, 16, 19, 1, 2, 7, 12, 13, 17, 19, 20, 7, 19, 18, 16, 12, 15, 8, 1, 4, 11, 15, 20, 2, 9, 14, 2, 8, 3, 19, 12, 7, 3, 11, 1, 12, 16, 10, 15, 17, 7, 9, 17, 17, 17, 17, 8, 6, 5, 20, 2, 5, 1, 20, 19, 4, 9, 10, 14, 1, 13, 1, 10, 16, 4, 12, 14, 4, 9, 20, 20, 1, 16, 10, 15, 4, 6, 16, 1, 4, 5, 18, 9, 14, 4, 18, 5, 9, 2, 14, 17, 6, 1, 10, 16, 12, 16, 11, 3, 15, 1, 2, 4, 8, 9, 10, 14, 15, 17, 18, 7, 9, 17, 6, 4, 9, 13, 15, 19, 7, 15, 19, 20, 10, 10, 1, 14, 11, 16, 17, 5, 17, 4, 14, 19, 1, 3, 4, 5, 11, 13, 10, 13, 14, 18, 12, 17, 13, 20, 6, 7, 4, 7, 5, 6, 11, 20, 8, 1, 8, 10, 17, 19, 20, 18, 6, 7, 19, 2, 8, 14, 19, 1, 2, 3, 9, 11, 16, 17, 6, 3, 8, 19, 1, 4, 15, 8, 6, 8, 13, 14, 15, 2, 3, 4, 11, 19, 16, 12, 3, 5, 7, 10, 12, 16, 20, 4, 17, 2, 16, 19, 20, 4, 8, 12, 9, 20, 16, 18, 11, 7, 4, 17, 8, 16, 3, 7, 10, 12, 15, 16, 18, 9, 16, 20, 15, 9, 18, 13, 3, 7, 7, 19, 2, 5, 11, 6, 3, 6, 16, 5, 3, 8, 9, 15, 13, 17, 6, 6, 3, 6, 7, 11, 14, 17, 4, 5, 4, 7, 11, 3, 4, 5, 6, 7, 11, 12, 13, 15, 13, 1, 11, 17, 6, 3, 10, 16, 18, 19, 13, 9, 9, 15, 3, 18, 4, 8, 4, 6, 15, 6, 6, 9, 11, 14, 16, 2, 13, 3, 1, 6, 19, 7, 9, 8, 3, 3, 12, 12, 11, 18, 2, 3, 2, 20, 2, 18, 10, 1, 12, 8, 11, 1, 16, 12, 9, 15, 16, 3, 10, 1, 3, 4, 6, 7, 8, 9, 10, 11, 12, 13, 14, 15, 16, 17, 19, 5, 7, 4, 14, 19, 20, 1, 4, 1, 3, 5, 6, 8, 12, 13, 15, 16, 19, 20, 1, 5, 6, 7, 15, 20, 11, 3, 5, 6, 8, 9, 11, 15, 18, 20, 15, 3, 6, 14, 2, 10, 2, 4, 7, 11, 3, 3, 18, 4, 1, 20, 9, 13, 2, 3, 2, 3, 6, 7, 9, 10, 11, 12, 13, 15, 16, 17, 18, 19, 1, 2, 4, 5, 8, 9, 11, 12, 13, 14, 15, 16, 17, 19, 14, 11, 19, 4, 2, 11, 3, 2, 16, 15, 9, 1, 3, 8, 11, 1, 2, 7, 17, 5, 10, 6, 12, 19, 10, 7, 8, 5, 11, 18, 4, 18, 17, 15, 1, 3, 15, 10, 12, 13, 14, 16, 3, 4, 6, 9, 12, 13, 17, 18, 15, 4, 12, 19, 5, 2, 6, 1, 4, 9, 2, 10, 4, 5, 14, 8, 10, 12, 6, 15, 2, 12, 13, 13, 7, 18, 11, 10, 19, 1, 3, 17, 2, 8, 9, 11, 10, 4, 1, 6, 12, 11, 3, 20, 3, 1, 18, 19, 2, 4, 6, 7, 12, 13, 14, 18, 3, 7, 16, 10, 16, 10, 12, 16, 17, 18, 3, 5, 14, 19, 18, 20, 3, 6, 6, 15, 5, 19, 2, 5, 6, 12, 16, 20, 12, 2, 5, 11, 5, 3, 5, 6, 8, 9, 12, 13, 16, 18, 10, 15, 14, 16, 6, 9, 10, 11, 20, 1, 8, 3, 8, 4, 5, 7, 8, 14, 13, 18, 13, 20, 3, 3, 18, 9, 11, 17, 12, 3, 8, 1, 6, 7, 8, 8, 1, 2, 3, 5, 6, 9, 12, 14, 16, 19, 1, 17, 18, 10, 13, 1, 3, 17, 13, 8, 10, 12, 16, 10, 1, 14, 4, 16, 8, 18, 16, 12, 2, 13, 16, 8, 15, 13, 16, 10, 20, 1, 4, 8, 18, 19, 2, 15, 15, 10, 15, 7, 13, 4, 7, 8, 15, 14, 19, 18, 20, 3, 17, 16, 14, 6, 10, 13, 7, 13, 10, 20, 15, 1, 4, 8, 17, 6, 17, 18], \"Freq\": [0.945760190486908, 0.8927721381187439, 0.035710886120796204, 0.8683183789253235, 0.8215811848640442, 0.058684371411800385, 0.027422839775681496, 0.027422839775681496, 0.13711419701576233, 0.05484567955136299, 0.027422839775681496, 0.10969135910272598, 0.43876543641090393, 0.05484567955136299, 0.027422839775681496, 0.9019349217414856, 0.13032986223697662, 0.7168142199516296, 0.9117830395698547, 0.8731709718704224, 0.07937917858362198, 0.8394216895103455, 0.8395462036132812, 0.015264476649463177, 0.10685133934020996, 0.8847541213035583, 0.40725091099739075, 0.18100041151046753, 0.2262505143880844, 0.04525010287761688, 0.04525010287761688, 0.9180482625961304, 0.8640289902687073, 0.8660405278205872, 0.9184751510620117, 0.043736912310123444, 0.01034617517143488, 0.01034617517143488, 0.7138860821723938, 0.01034617517143488, 0.01034617517143488, 0.031038526445627213, 0.02069235034286976, 0.02069235034286976, 0.01034617517143488, 0.04138470068573952, 0.01034617517143488, 0.01034617517143488, 0.09311557561159134, 0.03277019411325455, 0.10923397541046143, 0.07646378129720688, 0.021846795454621315, 0.5570932626724243, 0.021846795454621315, 0.08738718181848526, 0.04369359090924263, 0.010923397727310658, 0.021846795454621315, 0.7101904153823853, 0.15782009065151215, 0.9126092195510864, 0.31124749779701233, 0.22636182606220245, 0.11318091303110123, 0.22636182606220245, 0.08488568663597107, 0.839568555355072, 0.1106186956167221, 0.7743309140205383, 0.8106135725975037, 0.9081683158874512, 0.011495801620185375, 0.0459832064807415, 0.02299160324037075, 0.011495801620185375, 0.12761607766151428, 0.06380803883075714, 0.05469260737299919, 0.036461737006902695, 0.19142413139343262, 0.07292347401380539, 0.009115434251725674, 0.06380803883075714, 0.06380803883075714, 0.018230868503451347, 0.036461737006902695, 0.018230868503451347, 0.09115434437990189, 0.07292347401380539, 0.07292347401380539, 0.8996214866638184, 0.910714864730835, 0.056858837604522705, 0.9097414016723633, 0.9646918177604675, 0.91379714012146, 0.888398289680481, 0.9287121295928955, 0.8609362840652466, 0.3007546067237854, 0.04296494647860527, 0.34371957182884216, 0.15753813087940216, 0.08592989295721054, 0.04296494647860527, 0.8430167436599731, 0.13435126841068268, 0.7523671388626099, 0.026870254427194595, 0.026870254427194595, 0.08347095549106598, 0.12520644068717957, 0.08347095549106598, 0.6260321736335754, 0.04173547774553299, 0.896111011505127, 0.0289068054407835, 0.0289068054407835, 0.7977991700172424, 0.12293427437543869, 0.8298063278198242, 0.8274511694908142, 0.6965774893760681, 0.038698747754096985, 0.06634071469306946, 0.011056785471737385, 0.011056785471737385, 0.038698747754096985, 0.005528392735868692, 0.04422714188694954, 0.02211357094347477, 0.05528392642736435, 0.011056785471737385, 0.9275163412094116, 0.8915992975234985, 0.9270359873771667, 0.8295292854309082, 0.09216991811990738, 0.8778893947601318, 0.9324833154678345, 0.8461835980415344, 0.8969129323959351, 0.9740232229232788, 0.7313848733901978, 0.02357497811317444, 0.5657994747161865, 0.16502484679222107, 0.09429991245269775, 0.04714995622634888, 0.04714995622634888, 0.029601655900478363, 0.029601655900478363, 0.8880496621131897, 0.7028079032897949, 0.27031072974205017, 0.9311041831970215, 0.020414117723703384, 0.020414117723703384, 0.020414117723703384, 0.020414117723703384, 0.08165647089481354, 0.020414117723703384, 0.020414117723703384, 0.7349082827568054, 0.06124235317111015, 0.8698302507400513, 0.25319716334342957, 0.031649645417928696, 0.031649645417928696, 0.6329928636550903, 0.01641705445945263, 0.8865209221839905, 0.06566821783781052, 0.03283410891890526, 0.08250104635953903, 0.08250104635953903, 0.08250104635953903, 0.8250104784965515, 0.2480815201997757, 0.36258068680763245, 0.32441428303718567, 0.019083194434642792, 0.019083194434642792, 0.019083194434642792, 0.8501327633857727, 0.065394826233387, 0.04806732386350632, 0.9132791757583618, 0.8631671071052551, 0.8515418171882629, 0.8789159655570984, 0.955601155757904, 0.844252347946167, 0.13505156338214874, 0.015005729161202908, 0.015005729161202908, 0.07502865046262741, 0.7502864599227905, 0.9232121706008911, 0.2181527465581894, 0.006610689219087362, 0.006610689219087362, 0.6478475332260132, 0.006610689219087362, 0.006610689219087362, 0.006610689219087362, 0.006610689219087362, 0.0925496518611908, 0.9490492939949036, 0.9028738141059875, 0.2884679138660431, 0.5769358277320862, 0.036058489233255386, 0.036058489233255386, 0.231919065117836, 0.6957572102546692, 0.9086028933525085, 0.9442412853240967, 0.9837003350257874, 0.9214857816696167, 0.7595695853233337, 0.18989239633083344, 0.23005901277065277, 0.07078739255666733, 0.026545271277427673, 0.008848424069583416, 0.017696848139166832, 0.5132085680961609, 0.008848424069583416, 0.06193896383047104, 0.026545271277427673, 0.008848424069583416, 0.008848424069583416, 0.9797160625457764, 0.9595630764961243, 0.8502498269081116, 0.9042311310768127, 0.9427356123924255, 0.043086279183626175, 0.21543139219284058, 0.043086279183626175, 0.6893804669380188, 0.9545758366584778, 0.8657944202423096, 0.09619937837123871, 0.019936176016926765, 0.05980852618813515, 0.8971278667449951, 0.019936176016926765, 0.9466124773025513, 0.32744190096855164, 0.6548838019371033, 0.8150650262832642, 0.8282544016838074, 0.9399167895317078, 0.9823728203773499, 0.028044160455465317, 0.8693689703941345, 0.028044160455465317, 0.056088320910930634, 0.8882415890693665, 0.01665354147553444, 0.01665354147553444, 0.9159448146820068, 0.03330708295106888, 0.8832572102546692, 0.819835901260376, 0.05804801732301712, 0.7546241879463196, 0.11609603464603424, 0.021150099113583565, 0.16920079290866852, 0.10575050115585327, 0.021150099113583565, 0.6556530594825745, 0.9183580279350281, 0.8384981155395508, 0.883766770362854, 0.055235423147678375, 0.925844669342041, 0.8819332718849182, 0.804327130317688, 0.9618586897850037, 0.990432858467102, 0.9785146713256836, 0.1879926174879074, 0.1253284066915512, 0.6266420483589172, 0.9106890559196472, 0.7267646789550781, 0.20764705538749695, 0.9499468207359314, 0.9386002421379089, 0.8507810831069946, 0.9741472601890564, 0.9652069211006165, 0.11755071580410004, 0.8228550553321838, 0.9357632994651794, 0.3303815424442291, 0.4955722987651825, 0.9725116491317749, 0.2601117789745331, 0.010837990790605545, 0.16256986558437347, 0.0975419208407402, 0.032513972371816635, 0.4335196614265442, 0.30237627029418945, 0.30237627029418945, 0.1343894600868225, 0.10079208761453629, 0.16798681020736694, 0.8641049265861511, 0.9328908920288086, 0.6999487280845642, 0.11665811389684677, 0.8216116428375244, 0.7739263772964478, 0.15478527545928955, 0.07733029872179031, 0.9279635548591614, 0.0210280641913414, 0.8831786513328552, 0.0841122567653656, 0.07718166708946228, 0.887589156627655, 0.058383386582136154, 0.17515015602111816, 0.7297922968864441, 0.8791574239730835, 0.11559271067380905, 0.03853090479969978, 0.847679853439331, 0.8579840064048767, 0.08579840511083603, 0.8649515509605408, 0.9144086837768555, 0.01987845078110695, 0.01987845078110695, 0.9503504037857056, 0.022627390921115875, 0.9617155194282532, 0.21230532228946686, 0.7076843976974487, 0.03538421913981438, 0.8718202710151672, 0.8872134685516357, 0.8782206177711487, 0.8957100510597229, 0.01614653691649437, 0.01614653691649437, 0.01614653691649437, 0.01614653691649437, 0.04843961074948311, 0.8880595564842224, 0.7744354009628296, 0.01348062977194786, 0.01348062977194786, 0.02696125954389572, 0.01348062977194786, 0.9301634430885315, 0.02439896948635578, 0.008132989518344402, 0.1463938057422638, 0.05693092569708824, 0.05693092569708824, 0.5205113291740417, 0.0731969028711319, 0.1057288646697998, 0.9600801467895508, 0.006943605840206146, 0.03471802920103073, 0.006943605840206146, 0.006943605840206146, 0.03471802920103073, 0.7915710210800171, 0.09721048176288605, 0.006943605840206146, 0.3035014867782593, 0.043357353657484055, 0.043357353657484055, 0.13007205724716187, 0.43357354402542114, 0.8437464237213135, 0.8299543261528015, 0.13181516528129578, 0.7908909916877747, 0.8274511694908142, 0.9678753018379211, 0.9178811311721802, 0.9276771545410156, 0.7737653851509094, 0.9664831757545471, 0.8764255046844482, 0.0924307182431221, 0.8318764567375183, 0.7810679078102112, 0.01929340697824955, 0.1543472558259964, 0.791029691696167, 0.8782579898834229, 0.023465102538466454, 0.6922205090522766, 0.007821700535714626, 0.12514720857143402, 0.011732551269233227, 0.003910850267857313, 0.003910850267857313, 0.011732551269233227, 0.027375951409339905, 0.031286802142858505, 0.003910850267857313, 0.04693020507693291, 0.011732551269233227, 0.9804369807243347, 0.8266568779945374, 0.11809384077787399, 0.9174132347106934, 0.9236620664596558, 0.8742680549621582, 0.10519731044769287, 0.021039461717009544, 0.04207892343401909, 0.021039461717009544, 0.7994995713233948, 0.10296892374753952, 0.03432297334074974, 0.04576396569609642, 0.20593784749507904, 0.49196261167526245, 0.03432297334074974, 0.03432297334074974, 0.03432297334074974, 0.07784010469913483, 0.07784010469913483, 0.7784010767936707, 0.9726361036300659, 0.27069419622421265, 0.1804628074169159, 0.2406170666217804, 0.2406170666217804, 0.3319883346557617, 0.5975790023803711, 0.30930808186531067, 0.6826109290122986, 0.9680573344230652, 0.5911813378334045, 0.3825291097164154, 0.17505194246768951, 0.7877337336540222, 0.945647120475769, 0.9056784510612488, 0.03483378887176514, 0.01741689443588257, 0.03483378887176514, 0.8180292248725891, 0.8170190453529358, 0.0412546806037426, 0.0412546806037426, 0.8663483262062073, 0.7570945024490356, 0.8603664040565491, 0.08603663742542267, 0.9673987030982971, 0.9338779449462891, 0.9432780742645264, 0.02010452188551426, 0.02010452188551426, 0.9248079657554626, 0.8907536864280701, 0.9067140221595764, 0.9498921036720276, 0.9717036485671997, 0.9337763786315918, 0.8365182280540466, 0.9242740273475647, 0.13091500103473663, 0.7854900360107422, 0.9716002345085144, 0.02045474201440811, 0.05135998874902725, 0.8731198310852051, 0.05135998874902725, 0.9113659858703613, 0.9077034592628479, 0.9470117092132568, 0.045564182102680206, 0.022782091051340103, 0.045564182102680206, 0.8885015845298767, 0.9015727639198303, 0.8958902359008789, 0.9477666020393372, 0.117015041410923, 0.8191052675247192, 0.9421131014823914, 0.03248665854334831, 0.8985339403152466, 0.07487782835960388, 0.7507322430610657, 0.9440567493438721, 0.9092862010002136, 0.8946311473846436, 0.779278039932251, 0.9230298399925232, 0.04615149274468422, 0.8852702379226685, 0.9228116273880005, 0.07690096646547318, 0.8711364269256592, 0.013596554286777973, 0.12236899137496948, 0.027193108573555946, 0.4396219253540039, 0.05438621714711189, 0.16769084334373474, 0.02266092412173748, 0.1450299173593521, 0.0045321849174797535, 0.9126724600791931, 0.9233360886573792, 0.9412930011749268, 0.07185662537813187, 0.8622795343399048, 0.8777238726615906, 0.9435842037200928, 0.9291447997093201, 0.05465557798743248, 0.9227228760719299, 0.014626209624111652, 0.014626209624111652, 0.6581794023513794, 0.1316358894109726, 0.08775725960731506, 0.014626209624111652, 0.014626209624111652, 0.04387862980365753, 0.8658817410469055, 0.8011237978935242, 0.8386134505271912, 0.017471114173531532, 0.08735556900501251, 0.034942228347063065, 0.017471114173531532, 0.7395972013473511, 0.8900712132453918, 0.9526919722557068, 0.026227343827486038, 0.052454687654972076, 0.026227343827486038, 0.3802964687347412, 0.03934101387858391, 0.026227343827486038, 0.013113671913743019, 0.06556835770606995, 0.013113671913743019, 0.026227343827486038, 0.052454687654972076, 0.026227343827486038, 0.013113671913743019, 0.052454687654972076, 0.026227343827486038, 0.052454687654972076, 0.03934101387858391, 0.06556835770606995, 0.9146941900253296, 0.035612210631370544, 0.07122442126274109, 0.8546929955482483, 0.9300611019134521, 0.019376272335648537, 0.019376272335648537, 0.8355403542518616, 0.1044425442814827, 0.05953514575958252, 0.922794759273529, 0.9718713760375977, 0.8212791085243225, 0.7915313243865967, 0.19788283109664917, 0.5329474806785583, 0.4263579845428467, 0.05062010884284973, 0.05062010884284973, 0.860541820526123, 0.013949868269264698, 0.8648918271064758, 0.04184960573911667, 0.04184960573911667, 0.013949868269264698, 0.013949868269264698, 0.8331505060195923, 0.908980667591095, 0.9176709651947021, 0.12645170092582703, 0.06322585046291351, 0.8219360709190369, 0.8328168392181396, 0.9285876154899597, 0.059908878058195114, 0.07963109016418457, 0.9024856686592102, 0.8907660841941833, 0.8712745308876038, 0.17627976834774017, 0.7051190733909607, 0.8789199590682983, 0.9747469425201416, 0.9626970291137695, 0.8784952163696289, 0.9544126987457275, 0.9560583233833313, 0.07880444079637527, 0.1958853304386139, 0.0743013322353363, 0.0743013322353363, 0.1801244467496872, 0.0225155558437109, 0.05854044482111931, 0.024767110124230385, 0.047282665967941284, 0.12383555620908737, 0.047282665967941284, 0.01350933313369751, 0.029270222410559654, 0.01350933313369751, 0.0022515554446727037, 0.015760889276862144, 0.9014705419540405, 0.9438852071762085, 0.9180781841278076, 0.9102072715759277, 0.17271788418293, 0.7772305011749268, 0.06544741243124008, 0.3272370398044586, 0.5235792994499207, 0.9630050659179688, 0.7950200438499451, 0.9755624532699585, 0.9542800188064575, 0.8297699689865112, 0.9346346259117126, 0.1858150064945221, 0.8051983714103699, 0.9383360743522644, 0.03753344342112541, 0.2116113007068634, 0.6348339319229126, 0.14107421040534973, 0.1363891065120697, 0.05845247209072113, 0.7403979897499084, 0.05845247209072113, 0.9278636574745178, 0.9281848669052124, 0.008684293366968632, 0.581847608089447, 0.043421465903520584, 0.3473717272281647, 0.008684293366968632, 0.8733910918235779, 0.9698882102966309, 0.9294158220291138, 0.0840541422367096, 0.0105067677795887, 0.0105067677795887, 0.1681082844734192, 0.0840541422367096, 0.6198992729187012, 0.9576321244239807, 0.07485922425985336, 0.8983107209205627, 0.8300511240959167, 0.843705415725708, 0.8522657752037048, 0.03344913199543953, 0.9365756511688232, 0.03344913199543953, 0.8927160501480103, 0.9187523722648621, 0.06125015765428543, 0.9632650017738342, 0.8189428448677063, 0.7982551455497742, 0.9469420313835144, 0.803991973400116, 0.0893324464559555, 0.0893324464559555, 0.9435213804244995, 0.9538482427597046, 0.026898939162492752, 0.07531703263521194, 0.021519150584936142, 0.09683617949485779, 0.543358564376831, 0.048418089747428894, 0.0053797876462340355, 0.08069682121276855, 0.08607660233974457, 0.9313517808914185, 0.8638458251953125, 0.05758972093462944, 0.8782578110694885, 0.01853347010910511, 0.9637404680252075, 0.9219110608100891, 0.9543761610984802, 0.9219719171524048, 0.8496680855751038, 0.8274511694908142, 0.800911009311676, 0.012514234520494938, 0.05005693808197975, 0.006257117260247469, 0.006257117260247469, 0.012514234520494938, 0.012514234520494938, 0.1001138761639595, 0.924386739730835, 0.057774171233177185, 0.7878352999687195, 0.008980482816696167, 0.017960965633392334, 0.9339702129364014, 0.017960965633392334, 0.008980482816696167, 0.022720398381352425, 0.8292945027351379, 0.10224179178476334, 0.011360199190676212, 0.011360199190676212, 0.011360199190676212, 0.9489681720733643, 0.8793405294418335, 0.9177351593971252, 0.9650939106941223, 0.43191200494766235, 0.12957359850406647, 0.3887208104133606, 0.021595599129796028, 0.9425642490386963, 0.8622004985809326, 0.7645251154899597, 0.20119082927703857, 0.9199729561805725, 0.09495066106319427, 0.0791255533695221, 0.03165022283792496, 0.2215515524148941, 0.01582511141896248, 0.2294640988111496, 0.09495066106319427, 0.03956277668476105, 0.09495066106319427, 0.00791255570948124, 0.03165022283792496, 0.04747533053159714, 0.00791255570948124, 0.9657937288284302, 0.8767896890640259, 0.7806304097175598, 0.01766132190823555, 0.03179037943482399, 0.06711301952600479, 0.00353226438164711, 0.00706452876329422, 0.00706452876329422, 0.00706452876329422, 0.00353226438164711, 0.06004849448800087, 0.00353226438164711, 0.00353226438164711, 0.00706452876329422, 0.00353226438164711, 0.8838315606117249, 0.8280477523803711, 0.8803728818893433, 0.08196157962083817, 0.04098078981041908, 0.8196158409118652, 0.8149201273918152, 0.3484901189804077, 0.547627329826355, 0.049784302711486816, 0.9017457365989685, 0.819827675819397, 0.9646588563919067, 0.14415155351161957, 0.8168588280677795, 0.8316060304641724, 0.8765061497688293, 0.08765061944723129, 0.8641045689582825, 0.05540134385228157, 0.8448704481124878, 0.08310201019048691, 0.6031897068023682, 0.37119367718696594, 0.8459773063659668, 0.9285894632339478, 0.3382183909416199, 0.037579819560050964, 0.037579819560050964, 0.07515963912010193, 0.018789909780025482, 0.48853766918182373, 0.018789909780025482, 0.9097121953964233, 0.9310930371284485, 0.8269985914230347, 0.8371099829673767, 0.8903987407684326, 0.9446235299110413, 0.9440717101097107, 0.9659165740013123, 0.9299684762954712, 0.006413575727492571, 0.006413575727492571, 0.006413575727492571, 0.04489503055810928, 0.8791905641555786, 0.7537876963615417, 0.8304507732391357, 0.8843867182731628, 0.9233806729316711, 0.8766187429428101, 0.8147117495536804, 0.931242048740387, 0.9527726769447327, 0.9468919634819031, 0.9426156282424927, 0.8669273853302002, 0.9539893865585327, 0.9010336399078369, 0.11970251053571701, 0.07182151079177856, 0.7900365591049194, 0.9492992162704468, 0.9843247532844543, 0.9029947519302368, 0.8274511694908142, 0.8747513294219971, 0.9060995578765869, 0.804327130317688, 0.9447924494743347, 0.9348250031471252, 0.04451547563076019, 0.04834485426545143, 0.8702073693275452, 0.08110953867435455, 0.8110953569412231, 0.7997375726699829, 0.9605684876441956, 0.03735736757516861, 0.03735736757516861, 0.8965768814086914, 0.8614838719367981, 0.1260708123445511, 0.10454447567462921, 0.8363558053970337, 0.9303106069564819, 0.9777861833572388, 0.9289128184318542, 0.9623291492462158, 0.9700232744216919, 0.04182339087128639, 0.8992029428482056, 0.8878532648086548, 0.3089922368526459, 0.6841970682144165, 0.8968045711517334, 0.049822475761175156, 0.12258213758468628, 0.8035939931869507, 0.0681011900305748, 0.01749078743159771, 0.19239866733551025, 0.01749078743159771, 0.769594669342041, 0.6993097066879272, 0.15540215373039246, 0.8262314796447754, 0.07511195540428162, 0.93166184425354, 0.05175899341702461, 0.9148942232131958, 0.9347591996192932, 0.8274511694908142, 0.8976045250892639, 0.013024250976741314, 0.18233951926231384, 0.7944793105125427, 0.8978427648544312, 0.09450976550579071, 0.9127348065376282, 0.12102676182985306, 0.847187340259552, 0.06143839657306671, 0.06143839657306671, 0.06143839657306671, 0.06143839657306671, 0.06143839657306671, 0.06143839657306671, 0.06143839657306671, 0.06143839657306671, 0.4915071725845337, 0.06143839657306671, 0.9462534785270691, 0.15719038248062134, 0.7335551381111145, 0.9589887857437134, 0.03704533353447914, 0.9261333346366882, 0.046021610498428345, 0.046021610498428345, 0.8744106292724609, 0.95259028673172, 0.9729401469230652, 0.8440003395080566, 0.877284049987793, 0.9227761626243591, 0.8887935876846313, 0.04219415783882141, 0.886077344417572, 0.9360057711601257, 0.9416892528533936, 0.8274511694908142, 0.8790755867958069, 0.8274511694908142, 0.9277892112731934, 0.959256649017334, 0.9599488377571106, 0.7411757707595825, 0.16025422513484955, 0.04006355628371239, 0.020031778141856194, 0.04006355628371239, 0.896817147731781, 0.32299143075942993, 0.016149571165442467, 0.6621323823928833, 0.9407997727394104, 0.8664723038673401, 0.7477460503578186, 0.9565092325210571, 0.7016615271568298, 0.9543740153312683, 0.8730353116989136, 0.23837806284427643, 0.7151342034339905, 0.9204297661781311, 0.05484754219651222, 0.8775606751441956, 0.9028620719909668, 0.9079006314277649, 0.4268997311592102, 0.08004370331764221, 0.08004370331764221, 0.3735372722148895, 0.026681233197450638, 0.9553602337837219, 0.9673650860786438, 0.8805762529373169, 0.06588222831487656, 0.9223512411117554, 0.7811176180839539, 0.0371960774064064, 0.0743921548128128, 0.08679085224866867, 0.024582574144005775, 0.030728217214345932, 0.030728217214345932, 0.0921846553683281, 0.030728217214345932, 0.7804967164993286, 0.006145643536001444, 0.8016424179077148, 0.13991716504096985, 0.06995858252048492, 0.7695443630218506, 0.9153524041175842, 0.019475582987070084, 0.8629337549209595, 0.8861063122749329, 0.03210357204079628, 0.06420714408159256, 0.6099678874015808, 0.19262143969535828, 0.06420714408159256, 0.43330198526382446, 0.07026518881320953, 0.45672371983528137, 0.02342172898352146, 0.01171086449176073, 0.9693610668182373, 0.8799736499786377, 0.019141606986522675, 0.009570803493261337, 0.028712410479784012, 0.009570803493261337, 0.9092262983322144, 0.009570803493261337, 0.009570803493261337, 0.979260265827179, 0.911790132522583, 0.141962468624115, 0.017745308578014374, 0.8162841796875, 0.017745308578014374, 0.048568062484264374, 0.9227931499481201, 0.024284031242132187, 0.8869493007659912, 0.81490558385849, 0.9313300848007202, 0.031044336035847664, 0.919829249382019, 0.9695265889167786, 0.8587357997894287, 0.8758501410484314, 0.9554988145828247, 0.9577133655548096, 0.14272917807102203, 0.0389261394739151, 0.7785227298736572, 0.012975378893315792, 0.012975378893315792, 0.8872246146202087, 0.927222490310669, 0.07283888012170792, 0.8012276887893677, 0.7582058310508728, 0.9278385639190674, 0.05591937527060509, 0.8947100043296814, 0.9374397397041321, 0.12399747222661972, 0.8679823279380798, 0.9635924100875854, 0.961067795753479, 0.21155869960784912, 0.7051956653594971, 0.07051956653594971, 0.7990363240242004, 0.9667350649833679, 0.8473849892616272, 0.8704192042350769, 0.9285006523132324, 0.9885439276695251, 0.9289947152137756, 0.8995431661605835, 0.9335293173789978, 0.9222220182418823, 0.9061620831489563, 0.9383324980735779, 0.8942568898200989, 0.040572408586740494, 0.12171722203493118, 0.06085861101746559, 0.020286204293370247, 0.7303033471107483, 0.020286204293370247, 0.8544714450836182, 0.8857868313789368, 0.07522623240947723, 0.902714729309082, 0.8987671732902527, 0.006320704240351915, 0.006320704240351915, 0.006320704240351915, 0.006320704240351915, 0.9101814031600952, 0.006320704240351915, 0.018962113186717033, 0.018962113186717033, 0.018962113186717033, 0.9130545258522034, 0.9586483836174011, 0.8323591351509094, 0.10404489189386368, 0.8752179741859436, 0.028792763128876686, 0.014396381564438343, 0.014396381564438343, 0.014396381564438343, 0.9069720506668091, 0.9672378301620483, 0.8731803894042969, 0.8942817449569702, 0.7738839983940125, 0.9159096479415894, 0.8492391705513, 0.844347357749939, 0.1407245546579361, 0.6979601383209229, 0.25380367040634155, 0.950491726398468, 0.9560931324958801, 0.01884920708835125, 0.009424603544175625, 0.0848214328289032, 0.009424603544175625, 0.867063581943512, 0.9470385313034058, 0.8969933986663818, 0.9639720916748047, 0.11327432096004486, 0.7174040079116821, 0.1510324329137802, 0.17635874450206757, 0.7936143279075623, 0.9327247142791748, 0.9326175451278687, 0.3383789658546448, 0.5921632051467896, 0.9427725076675415, 0.8218277096748352, 0.8725643754005432, 0.8517215847969055, 0.0946357324719429, 0.9683895111083984, 0.9192224144935608, 0.029923532158136368, 0.9276295304298401, 0.9714831113815308, 0.9279107451438904, 0.05799442157149315, 0.962247908115387, 0.9018446803092957, 0.9757282137870789, 0.918750524520874, 0.8503843545913696, 0.8068251013755798, 0.022411808371543884, 0.1568826586008072, 0.9329483509063721, 0.9519097208976746, 0.012239172123372555, 0.8200245499610901, 0.021418550983071327, 0.03518762066960335, 0.004589689429849386, 0.0030597930308431387, 0.010709275491535664, 0.009179378859698772, 0.0015298965154215693, 0.0015298965154215693, 0.05048658698797226, 0.0015298965154215693, 0.009179378859698772, 0.009179378859698772, 0.009179378859698772, 0.0030597930308431387, 0.9478887915611267, 0.9356262683868408, 0.8792579174041748, 0.02836315892636776, 0.02836315892636776, 0.02836315892636776, 0.9609150290489197, 0.8674871921539307, 0.0028471765108406544, 0.005694353021681309, 0.011388706043362617, 0.011388706043362617, 0.022777412086725235, 0.1537475287914276, 0.014235882088541985, 0.6520034074783325, 0.0028471765108406544, 0.07402658462524414, 0.04555482417345047, 0.022657081484794617, 0.005664270371198654, 0.022657081484794617, 0.940268874168396, 0.005664270371198654, 0.005664270371198654, 0.9952352046966553, 0.018251538276672363, 0.4927915334701538, 0.10950922966003418, 0.1460123062133789, 0.018251538276672363, 0.09125769138336182, 0.018251538276672363, 0.018251538276672363, 0.09125769138336182, 0.9404962658882141, 0.9116693139076233, 0.07299038767814636, 0.912379801273346, 0.8795191049575806, 0.9715957045555115, 0.3279932141304016, 0.0409991517663002, 0.1229974552989006, 0.4919898211956024, 0.9490403532981873, 0.9380078315734863, 0.877342939376831, 0.9936180710792542, 0.973469614982605, 0.9374778270721436, 0.9041615724563599, 0.9320163726806641, 0.9385420083999634, 0.9379876255989075, 0.7004270553588867, 0.003629155922681093, 0.21774934232234955, 0.0018145779613405466, 0.0018145779613405466, 0.010887467302381992, 0.0018145779613405466, 0.0018145779613405466, 0.005443733651190996, 0.005443733651190996, 0.016331201419234276, 0.0018145779613405466, 0.01996035687625408, 0.010887467302381992, 0.010403065010905266, 0.02600766159594059, 0.14044137299060822, 0.010403065010905266, 0.47854098677635193, 0.10403064638376236, 0.02600766159594059, 0.02080613002181053, 0.11443371325731277, 0.015604597516357899, 0.031209195032715797, 0.005201532505452633, 0.005201532505452633, 0.015604597516357899, 0.9422940015792847, 0.9515979886054993, 0.9263389110565186, 0.8796370625495911, 0.8098975419998169, 0.06229981407523155, 0.9663559198379517, 0.8203545212745667, 0.8781583309173584, 0.8721738457679749, 0.9919483661651611, 0.9526041150093079, 0.9659560918807983, 0.9144511818885803, 0.8336173295974731, 0.04654810205101967, 0.25601455569267273, 0.11637026071548462, 0.5585772395133972, 0.8071678280830383, 0.10762237757444382, 0.8406927585601807, 0.11209236830472946, 0.9134995341300964, 0.9397714734077454, 0.8682320713996887, 0.8797169327735901, 0.9281796216964722, 0.04640898108482361, 0.869279682636261, 0.9783240556716919, 0.8625917434692383, 0.7459099888801575, 0.8565787672996521, 0.9629300236701965, 0.4708269536495209, 0.4708269536495209, 0.1601507067680359, 0.030996911227703094, 0.8007535338401794, 0.956870973110199, 0.845977246761322, 0.0048531596548855305, 0.0048531596548855305, 0.014559478498995304, 0.9512192606925964, 0.0048531596548855305, 0.0048531596548855305, 0.0048531596548855305, 0.0048531596548855305, 0.9664170742034912, 0.7987009286880493, 0.03472612798213959, 0.13890451192855835, 0.9037699103355408, 0.9231259226799011, 0.05430152267217636, 0.028232762590050697, 0.9316811561584473, 0.9543111324310303, 0.9652852416038513, 0.9022802114486694, 0.962090253829956, 0.016587762162089348, 0.016587762162089348, 0.9286463260650635, 0.9496362209320068, 0.8921457529067993, 0.041929684579372406, 0.8805233240127563, 0.9637031555175781, 0.9473122358322144, 0.8888394236564636, 0.9417551755905151, 0.9364470839500427, 0.9282007813453674, 0.8930982947349548, 0.8448070287704468, 0.9776272773742676, 0.9666235446929932, 0.03118140436708927, 0.8274511694908142, 0.9457736611366272, 0.9719099998474121, 0.09529289603233337, 0.8576360940933228, 0.900221586227417, 0.9647775292396545, 0.9419184327125549, 0.8469691872596741, 0.9069204926490784, 0.8878319263458252, 0.8159120678901672, 0.9480162858963013, 0.9374843835830688, 0.9536129832267761, 0.9391191005706787, 0.9682071805000305, 0.004733752924948931, 0.9278156161308289, 0.004733752924948931, 0.01420125924050808, 0.004733752924948931, 0.01420125924050808, 0.018935011699795723, 0.004733752924948931, 0.12481658160686493, 0.748899519443512, 0.982804000377655, 0.9120597243309021, 0.8202698230743408, 0.7429444193840027, 0.019811851903796196, 0.009905925951898098, 0.07924740761518478, 0.13868296146392822, 0.9046868085861206, 0.03933420777320862, 0.9105364084243774, 0.9263812899589539, 0.8155887722969055, 0.0906209722161293, 0.968163013458252, 0.9168576002120972, 0.9251875281333923, 0.8981627225875854, 0.9488280415534973, 0.8725669980049133, 0.2570399045944214, 0.6140397787094116, 0.014279994182288647, 0.08567997068166733, 0.007139997091144323, 0.021419992670416832, 0.8955503702163696, 0.15552128851413727, 0.7776064276695251, 0.9175035953521729, 0.9682782292366028, 0.00452891830354929, 0.0317024290561676, 0.7835028767585754, 0.00452891830354929, 0.013586755841970444, 0.00452891830354929, 0.00452891830354929, 0.013586755841970444, 0.13586755096912384, 0.848438560962677, 0.8981627225875854, 0.912250280380249, 0.9887593388557434, 0.02245870977640152, 0.02245870977640152, 0.853430986404419, 0.02245870977640152, 0.06737612932920456, 0.5526310205459595, 0.4144732654094696, 0.8136220574378967, 0.11623172461986542, 0.03606143966317177, 0.9015359878540039, 0.018030719831585884, 0.018030719831585884, 0.018030719831585884, 0.8951236009597778, 0.914652943611145, 0.864666223526001, 0.8906181454658508, 0.9606026411056519, 0.9079380631446838, 0.9074541926383972, 0.08567973226308823, 0.08567973226308823, 0.7996774911880493, 0.8913435339927673, 0.9637472033500671, 0.8552079796791077, 0.7738380432128906, 0.024182438850402832, 0.12091219425201416, 0.048364877700805664, 0.8887916803359985, 0.0075038946233689785, 0.0075038946233689785, 0.022511683404445648, 0.8329322934150696, 0.0075038946233689785, 0.022511683404445648, 0.03751947358250618, 0.015007789246737957, 0.022511683404445648, 0.022511683404445648, 0.9554774761199951, 0.9540672898292542, 0.8758935928344727, 0.9391911625862122, 0.030296487733721733, 0.7298489809036255, 0.12164150178432465, 0.12164150178432465, 0.977501630783081, 0.9911492466926575, 0.9650964736938477, 0.8814230561256409, 0.9350613951683044, 0.9759952425956726, 0.9652823805809021, 0.97663414478302, 0.9764220118522644, 0.8922637104988098, 0.9689272046089172, 0.9849629402160645, 0.9374908208847046, 0.9692915081977844, 0.9244014024734497, 0.028887543827295303, 0.9338685870170593, 0.852027177810669, 0.10650339722633362, 0.8951302766799927, 0.9353278875350952, 0.792047917842865, 0.8377357125282288, 0.3856453001499176, 0.04674488306045532, 0.5492523908615112, 0.8651316165924072, 0.9566009640693665, 0.9229863882064819, 0.9173327088356018, 0.89825838804245, 0.9371817708015442, 0.89405357837677, 0.09698750078678131, 0.7759000062942505, 0.239716574549675, 0.7491142749786377, 0.8702530860900879, 0.9364270567893982, 0.9626692533493042, 0.8145659565925598, 0.14825424551963806, 0.7412711977958679, 0.9571740627288818, 0.9218502044677734, 0.9255034327507019, 0.8682706356048584, 0.8815425634384155, 0.9406423568725586, 0.02850431390106678, 0.9906308054924011, 0.9400240778923035, 0.9615188241004944, 0.022360902279615402, 0.9145896434783936, 0.8954886198043823, 0.902276873588562, 0.9968692064285278, 0.9061621427536011, 0.9540200233459473, 0.039274297654628754, 0.9425831437110901], \"Term\": [\"abuse\", \"academy\", \"academy\", \"access\", \"accounting\", \"accounting\", \"acta\", \"acta\", \"acta\", \"acta\", \"acta\", \"acta\", \"acta\", \"acta\", \"acta\", \"action\", \"administration\", \"administration\", \"administrative\", \"affairs\", \"affairs\", \"affective\", \"african\", \"african\", \"african\", \"aging\", \"agricultural\", \"agricultural\", \"agricultural\", \"agricultural\", \"agricultural\", \"agriculture\", \"allergy\", \"ambiental\", \"america\", \"america\", \"american\", \"american\", \"american\", \"american\", \"american\", \"american\", \"american\", \"american\", \"american\", \"american\", \"american\", \"american\", \"american\", \"analysis\", \"analysis\", \"analysis\", \"analysis\", \"analysis\", \"analysis\", \"analysis\", \"analysis\", \"analysis\", \"analysis\", \"analytical\", \"analytical\", \"angewandte\", \"animal\", \"animal\", \"animal\", \"animal\", \"animal\", \"animals\", \"anthropology\", \"anthropology\", \"apheresis\", \"applications\", \"applications\", \"applications\", \"applications\", \"applications\", \"applied\", \"applied\", \"applied\", \"applied\", \"applied\", \"applied\", \"applied\", \"applied\", \"applied\", \"applied\", \"applied\", \"applied\", \"applied\", \"applied\", \"applied\", \"argentina\", \"asme\", \"assessment\", \"assessment\", \"association\", \"astronomical\", \"ausgabe\", \"australia\", \"autism\", \"b\", \"b\", \"b\", \"b\", \"b\", \"b\", \"based\", \"behavior\", \"behavior\", \"behavior\", \"behavior\", \"behavioral\", \"behavioral\", \"behavioral\", \"behavioral\", \"behavioral\", \"biochemistry\", \"biochemistry\", \"biochemistry\", \"biologia\", \"biological\", \"biological\", \"biologii\", \"biology\", \"biology\", \"biology\", \"biology\", \"biology\", \"biology\", \"biology\", \"biology\", \"biology\", \"biology\", \"biology\", \"biomaterials\", \"biomedical\", \"biomedicine\", \"biophysics\", \"biophysics\", \"biosciences\", \"biotechnology\", \"borne\", \"botany\", \"brasileira\", \"brazilian\", \"bulletin\", \"bulletin\", \"bulletin\", \"bulletin\", \"bulletin\", \"bulletin\", \"business\", \"business\", \"business\", \"c\", \"c\", \"canada\", \"cancer\", \"cancer\", \"cancer\", \"cancer\", \"cancer\", \"cancer\", \"cancer\", \"cancer\", \"cancer\", \"cardiology\", \"cardiovascular\", \"cardiovascular\", \"cardiovascular\", \"cardiovascular\", \"care\", \"care\", \"care\", \"care\", \"catalysis\", \"catalysis\", \"catalysis\", \"catalysis\", \"cell\", \"cell\", \"cell\", \"cell\", \"cell\", \"cell\", \"cells\", \"cells\", \"cellular\", \"cellular\", \"central\", \"ceramic\", \"ceramics\", \"change\", \"characterization\", \"chemical\", \"chemical\", \"chemical\", \"chemical\", \"chemical\", \"chemie\", \"chemistry\", \"chemistry\", \"chemistry\", \"chemistry\", \"chemistry\", \"chemistry\", \"chemistry\", \"chemistry\", \"chemistry\", \"child\", \"chilena\", \"china\", \"china\", \"china\", \"china\", \"chinese\", \"chinese\", \"choice\", \"chronic\", \"ciencias\", \"circuits\", \"civil\", \"civil\", \"clinical\", \"clinical\", \"clinical\", \"clinical\", \"clinical\", \"clinical\", \"clinical\", \"clinical\", \"clinical\", \"clinical\", \"clinical\", \"clinics\", \"clinique\", \"coastal\", \"coatings\", \"cognition\", \"cognitive\", \"cognitive\", \"cognitive\", \"cognitive\", \"college\", \"communication\", \"communication\", \"communications\", \"communications\", \"communications\", \"communications\", \"community\", \"comparative\", \"comparative\", \"compass\", \"composite\", \"composites\", \"computation\", \"computational\", \"computational\", \"computational\", \"computational\", \"computers\", \"computing\", \"computing\", \"computing\", \"computing\", \"concrete\", \"conflict\", \"conservation\", \"conservation\", \"conservation\", \"control\", \"control\", \"control\", \"control\", \"control\", \"counseling\", \"criminology\", \"critical\", \"critical\", \"crops\", \"crystal\", \"crystals\", \"cultural\", \"culture\", \"current\", \"d\", \"d\", \"d\", \"da\", \"data\", \"data\", \"decision\", \"del\", \"dental\", \"dentistry\", \"der\", \"dergisi\", \"dergisi\", \"dermatology\", \"des\", \"des\", \"design\", \"development\", \"development\", \"development\", \"development\", \"development\", \"development\", \"developmental\", \"developmental\", \"developmental\", \"developmental\", \"developmental\", \"di\", \"diabetes\", \"dialysis\", \"dialysis\", \"differences\", \"disabilities\", \"disabilities\", \"discovery\", \"discovery\", \"disease\", \"disease\", \"disease\", \"diseases\", \"diseases\", \"disorders\", \"disorders\", \"disorders\", \"dosimetry\", \"drug\", \"drug\", \"drug\", \"drugs\", \"drugs\", \"du\", \"dynamics\", \"dynamics\", \"dynamics\", \"e\", \"e\", \"early\", \"earth\", \"earth\", \"earth\", \"earthquake\", \"east\", \"eastern\", \"ecological\", \"ecology\", \"ecology\", \"ecology\", \"ecology\", \"ecology\", \"ecology\", \"economia\", \"economic\", \"economic\", \"economic\", \"economic\", \"economic\", \"economics\", \"economics\", \"economics\", \"economics\", \"economics\", \"economics\", \"economics\", \"economics\", \"economy\", \"education\", \"education\", \"education\", \"education\", \"education\", \"education\", \"education\", \"education\", \"educational\", \"educational\", \"educational\", \"educational\", \"educational\", \"effectiveness\", \"electrical\", \"electronic\", \"electronic\", \"electronica\", \"electronics\", \"emergency\", \"emerging\", \"employment\", \"en\", \"endocrine\", \"endocrinology\", \"endocrinology\", \"endoscopy\", \"energy\", \"energy\", \"energy\", \"enfermagem\", \"engineering\", \"engineering\", \"engineering\", \"engineering\", \"engineering\", \"engineering\", \"engineering\", \"engineering\", \"engineering\", \"engineering\", \"engineering\", \"engineering\", \"engineering\", \"engineers\", \"english\", \"english\", \"entomological\", \"entomologist\", \"entomology\", \"environment\", \"environment\", \"environment\", \"environment\", \"environment\", \"environmental\", \"environmental\", \"environmental\", \"environmental\", \"environmental\", \"environmental\", \"environmental\", \"environmental\", \"epidemiology\", \"epidemiology\", \"epidemiology\", \"espanola\", \"et\", \"et\", \"et\", \"et\", \"ethics\", \"ethics\", \"european\", \"european\", \"evaluation\", \"evolution\", \"evolution\", \"evolutionary\", \"evolutionary\", \"exercise\", \"experimental\", \"experimental\", \"experimental\", \"experimental\", \"express\", \"f\", \"family\", \"family\", \"family\", \"fields\", \"finance\", \"finance\", \"financial\", \"fisheries\", \"fluid\", \"food\", \"food\", \"food\", \"foods\", \"forecasting\", \"forestry\", \"forum\", \"francaise\", \"freshwater\", \"function\", \"functional\", \"functional\", \"fur\", \"fur\", \"gastroenterology\", \"gastroenterology\", \"gastroenterology\", \"general\", \"genes\", \"genetic\", \"genetics\", \"genetics\", \"genetics\", \"genetics\", \"genomics\", \"geographical\", \"geography\", \"geological\", \"geological\", \"geology\", \"geology\", \"geometry\", \"geometry\", \"geophysical\", \"geophysics\", \"geosciences\", \"geriatric\", \"gerontology\", \"global\", \"global\", \"growth\", \"gynecology\", \"gynecology\", \"head\", \"health\", \"health\", \"health\", \"health\", \"health\", \"health\", \"health\", \"health\", \"health\", \"healthcare\", \"heart\", \"heat\", \"hematology\", \"hematology\", \"herpetology\", \"high\", \"higher\", \"higher\", \"historical\", \"history\", \"history\", \"history\", \"history\", \"history\", \"history\", \"history\", \"history\", \"hiv\", \"hospitality\", \"human\", \"human\", \"human\", \"human\", \"human\", \"hydrology\", \"hypertension\", \"iberoamericana\", \"ieee\", \"ieee\", \"ieee\", \"ieee\", \"ieee\", \"ieee\", \"ieee\", \"ieee\", \"ieee\", \"ieee\", \"ieee\", \"ieee\", \"ieee\", \"ieee\", \"ieee\", \"ieee\", \"ieee\", \"ieee\", \"image\", \"imaging\", \"imaging\", \"imaging\", \"immunology\", \"immunology\", \"immunology\", \"india\", \"india\", \"indian\", \"indian\", \"industrial\", \"industry\", \"infection\", \"infection\", \"infectious\", \"infectious\", \"informatics\", \"informatics\", \"informatics\", \"information\", \"information\", \"information\", \"information\", \"information\", \"information\", \"infrared\", \"innovation\", \"inorganic\", \"inquiry\", \"inquiry\", \"inquiry\", \"insect\", \"institute\", \"institute\", \"institution\", \"institution\", \"integrative\", \"intellectual\", \"intelligence\", \"intelligence\", \"intelligent\", \"interaction\", \"interdisciplinary\", \"interface\", \"internacional\", \"internal\", \"international\", \"international\", \"international\", \"international\", \"international\", \"international\", \"international\", \"international\", \"international\", \"international\", \"international\", \"international\", \"international\", \"international\", \"international\", \"international\", \"internet\", \"interventional\", \"investigacion\", \"investigation\", \"iranian\", \"iranian\", \"issues\", \"issues\", \"issues\", \"italiana\", \"j\", \"japan\", \"justice\", \"kinetics\", \"knowledge\", \"korean\", \"korean\", \"la\", \"la\", \"laboratory\", \"laboratory\", \"laboratory\", \"language\", \"language\", \"language\", \"language\", \"lasers\", \"latin\", \"law\", \"law\", \"law\", \"law\", \"law\", \"leadership\", \"learning\", \"legal\", \"letters\", \"letters\", \"letters\", \"letters\", \"letters\", \"letters\", \"library\", \"life\", \"life\", \"limnology\", \"linguistic\", \"linguistica\", \"linguistics\", \"linguistics\", \"linguistics\", \"liver\", \"logic\", \"logic\", \"logistics\", \"london\", \"low\", \"lung\", \"macromolecular\", \"macromolecular\", \"macromolecular\", \"magazine\", \"magnetic\", \"management\", \"management\", \"management\", \"management\", \"management\", \"management\", \"management\", \"management\", \"management\", \"managerial\", \"manufacturing\", \"manufacturing\", \"marina\", \"marine\", \"marine\", \"maritime\", \"marketing\", \"mass\", \"material\", \"materiale\", \"materials\", \"materials\", \"materials\", \"materials\", \"materials\", \"materials\", \"materials\", \"materials\", \"mathematica\", \"mathematica\", \"mathematicae\", \"mathematical\", \"mathematical\", \"mathematical\", \"mathematical\", \"mathematical\", \"mathematics\", \"mathematics\", \"mathematics\", \"mathematics\", \"mathematics\", \"mathematics\", \"mathematik\", \"maxillofacial\", \"measurement\", \"mechanical\", \"mechanics\", \"mechanics\", \"mechanics\", \"mechanics\", \"mechanisms\", \"medecine\", \"media\", \"media\", \"medica\", \"medical\", \"medical\", \"medical\", \"medical\", \"medical\", \"medical\", \"medical\", \"medical\", \"medical\", \"medical\", \"medical\", \"medical\", \"medical\", \"medicina\", \"medicinal\", \"medicine\", \"medicine\", \"medicine\", \"medicine\", \"medicine\", \"medicine\", \"medicine\", \"medicine\", \"medicine\", \"medicine\", \"medicine\", \"medicine\", \"medicine\", \"medicine\", \"mediterranean\", \"medizin\", \"medizinische\", \"mental\", \"mental\", \"mental\", \"metabolic\", \"metabolism\", \"metabolism\", \"metabolism\", \"metal\", \"metallurgical\", \"metallurgy\", \"metals\", \"metals\", \"meteorological\", \"meteorology\", \"meteorology\", \"methodology\", \"methods\", \"methods\", \"methods\", \"mexicana\", \"mexicana\", \"mexico\", \"microbial\", \"microbiology\", \"microbiology\", \"microbiology\", \"microbiology\", \"microbiology\", \"microbiology\", \"microbiology\", \"microscopy\", \"middle\", \"mineral\", \"minerals\", \"mining\", \"modeling\", \"modelling\", \"modern\", \"molecular\", \"molecular\", \"molecular\", \"molecular\", \"molecular\", \"monitoring\", \"monographs\", \"monthly\", \"morphology\", \"motor\", \"movement\", \"multimedia\", \"musculoskeletal\", \"music\", \"mutation\", \"nano\", \"nanomedicine\", \"nanotechnology\", \"national\", \"natural\", \"natural\", \"natural\", \"naturalist\", \"nature\", \"neck\", \"nefrologia\", \"nematology\", \"nephrology\", \"netherlands\", \"network\", \"networks\", \"networks\", \"neural\", \"neural\", \"neurobiology\", \"neurobiology\", \"neuroendocrinology\", \"neurological\", \"neurology\", \"neurology\", \"neurology\", \"neuroscience\", \"neuroscience\", \"neurosciences\", \"neurosciences\", \"neurosurgery\", \"new\", \"non\", \"nondestructive\", \"nonlinear\", \"north\", \"north\", \"nova\", \"nuclear\", \"nuclear\", \"numerical\", \"numerical\", \"nursing\", \"nursing\", \"nursing\", \"nutrition\", \"nutrition\", \"nutrition\", \"nutrition\", \"obesity\", \"obesity\", \"obstetrics\", \"obstetrics\", \"occupational\", \"occupational\", \"ocean\", \"oceanography\", \"ochrona\", \"oil\", \"oncology\", \"oncology\", \"oncology\", \"open\", \"open\", \"operations\", \"ophthalmology\", \"ophthalmology\", \"opinion\", \"opinion\", \"opinion\", \"opinion\", \"opinion\", \"opinion\", \"opinion\", \"opinion\", \"opinion\", \"opinion\", \"optical\", \"optics\", \"optics\", \"optimization\", \"oral\", \"oral\", \"organic\", \"organic\", \"organic\", \"organization\", \"organizational\", \"ornitologia\", \"orthodontics\", \"orthopaedic\", \"orthopaedics\", \"pacific\", \"pacific\", \"pain\", \"pakistan\", \"palaeobotany\", \"palaeontology\", \"palynology\", \"papers\", \"parasitology\", \"particle\", \"pathology\", \"pathology\", \"pathology\", \"pathology\", \"pathology\", \"patient\", \"pediatric\", \"pediatric\", \"pediatric\", \"pediatrics\", \"pennsylvania\", \"peptide\", \"performance\", \"perinatology\", \"personality\", \"personnel\", \"perspectives\", \"perspectives\", \"petroleum\", \"pharmaceutical\", \"pharmaceutical\", \"pharmacognosy\", \"pharmacological\", \"pharmacology\", \"pharmacology\", \"pharmacology\", \"pharmacology\", \"pharmacology\", \"pharmacy\", \"philosophy\", \"photonics\", \"physica\", \"physica\", \"physical\", \"physical\", \"physical\", \"physical\", \"physics\", \"physics\", \"physics\", \"physics\", \"physics\", \"physics\", \"physics\", \"physik\", \"physiological\", \"physiological\", \"physiological\", \"physiology\", \"physiology\", \"physiotherapy\", \"planetary\", \"planning\", \"planning\", \"planning\", \"planning\", \"planning\", \"plant\", \"plant\", \"plant\", \"plant\", \"plant\", \"plasma\", \"plastic\", \"policy\", \"policy\", \"policy\", \"policy\", \"policy\", \"policy\", \"policy\", \"polish\", \"politica\", \"political\", \"political\", \"political\", \"political\", \"politics\", \"politics\", \"politics\", \"pollution\", \"polska\", \"polymer\", \"polymer\", \"polymers\", \"population\", \"post\", \"postepy\", \"powder\", \"power\", \"practice\", \"practice\", \"practice\", \"practice\", \"practice\", \"pragmatics\", \"praxis\", \"prevention\", \"prevention\", \"preventive\", \"primary\", \"probability\", \"probability\", \"problems\", \"proceedings\", \"proceedings\", \"process\", \"processes\", \"processing\", \"processing\", \"processing\", \"product\", \"production\", \"products\", \"professional\", \"programming\", \"progress\", \"protection\", \"protein\", \"proteomics\", \"psicologia\", \"psicologica\", \"psychiatric\", \"psychiatrie\", \"psychiatry\", \"psychiatry\", \"psychiatry\", \"psychiatry\", \"psychiatry\", \"psychiatry\", \"psychoanalytic\", \"psychologica\", \"psychological\", \"psychological\", \"psychologie\", \"psychology\", \"psychology\", \"psychology\", \"psychology\", \"psychology\", \"psychology\", \"psychology\", \"psychology\", \"psychology\", \"psychopathology\", \"psychopharmacology\", \"psychotherapie\", \"psychotherapie\", \"psychotherapy\", \"public\", \"public\", \"public\", \"public\", \"public\", \"publica\", \"publications\", \"publique\", \"pulmonary\", \"pure\", \"purification\", \"qualitative\", \"qualitative\", \"quality\", \"quality\", \"quantitative\", \"quantum\", \"quarterly\", \"quarterly\", \"quarterly\", \"quarterly\", \"quarterly\", \"quaternary\", \"race\", \"radiation\", \"radiology\", \"radiology\", \"radiology\", \"rapid\", \"rapid\", \"rare\", \"reading\", \"real\", \"real\", \"record\", \"records\", \"redox\", \"regenerative\", \"regenerative\", \"regional\", \"regulation\", \"rehabilitation\", \"rehabilitation\", \"related\", \"relations\", \"relations\", \"reliability\", \"religion\", \"remote\", \"renewable\", \"report\", \"reports\", \"reports\", \"reports\", \"reproduction\", \"reproductive\", \"research\", \"research\", \"research\", \"research\", \"research\", \"research\", \"research\", \"research\", \"research\", \"research\", \"research\", \"research\", \"research\", \"research\", \"research\", \"research\", \"resonance\", \"resource\", \"resources\", \"resources\", \"resources\", \"resources\", \"respiratory\", \"resuscitation\", \"review\", \"review\", \"review\", \"review\", \"review\", \"review\", \"review\", \"review\", \"review\", \"review\", \"review\", \"reviews\", \"reviews\", \"reviews\", \"reviews\", \"reviews\", \"reviews\", \"revista\", \"revue\", \"revue\", \"revue\", \"revue\", \"revue\", \"revue\", \"revue\", \"revue\", \"revue\", \"rheumatology\", \"rights\", \"risk\", \"risk\", \"rivista\", \"robotics\", \"romanian\", \"romanian\", \"romanian\", \"romanian\", \"royal\", \"rubber\", \"rural\", \"russian\", \"safety\", \"salud\", \"sante\", \"saude\", \"saudi\", \"school\", \"science\", \"science\", \"science\", \"science\", \"science\", \"science\", \"science\", \"science\", \"science\", \"science\", \"science\", \"science\", \"science\", \"science\", \"sciences\", \"sciences\", \"sciences\", \"sciences\", \"sciences\", \"sciences\", \"sciences\", \"sciences\", \"sciences\", \"sciences\", \"sciences\", \"sciences\", \"sciences\", \"sciences\", \"scientia\", \"scientific\", \"scripta\", \"sea\", \"section\", \"section\", \"security\", \"seed\", \"semiconductor\", \"semiconductors\", \"seminars\", \"sensing\", \"sensors\", \"separation\", \"serie\", \"series\", \"series\", \"series\", \"series\", \"service\", \"service\", \"services\", \"services\", \"sex\", \"sexual\", \"sexuality\", \"shock\", \"signal\", \"signal\", \"signaling\", \"simulation\", \"singapore\", \"sinica\", \"skin\", \"sleep\", \"small\", \"small\", \"social\", \"social\", \"social\", \"sociales\", \"sociedade\", \"society\", \"society\", \"society\", \"society\", \"society\", \"society\", \"society\", \"society\", \"sociological\", \"sociology\", \"sociology\", \"sociology\", \"soft\", \"software\", \"software\", \"soil\", \"soil\", \"solar\", \"solid\", \"solids\", \"south\", \"south\", \"south\", \"southeast\", \"southern\", \"soziologie\", \"space\", \"space\", \"spanish\", \"spatial\", \"special\", \"spectrometry\", \"spectroscopy\", \"spectrum\", \"speech\", \"spine\", \"sport\", \"sports\", \"sports\", \"srodowiska\", \"state\", \"statistical\", \"statistics\", \"statistics\", \"steel\", \"stem\", \"stochastic\", \"stochastics\", \"strategic\", \"stratigraphy\", \"strength\", \"stress\", \"stroke\", \"structural\", \"structure\", \"structures\", \"studies\", \"studies\", \"studies\", \"studies\", \"studies\", \"studies\", \"studies\", \"studies\", \"supply\", \"supply\", \"surface\", \"surgeon\", \"surgeons\", \"surgery\", \"surgery\", \"surgery\", \"surgery\", \"surgery\", \"surgical\", \"surgical\", \"survey\", \"surveys\", \"sustainability\", \"sustainability\", \"sustainable\", \"symbolic\", \"synthesis\", \"synthetic\", \"systematic\", \"systematics\", \"systems\", \"systems\", \"systems\", \"systems\", \"systems\", \"systems\", \"teacher\", \"teaching\", \"teaching\", \"technical\", \"techniques\", \"technology\", \"technology\", \"technology\", \"technology\", \"technology\", \"technology\", \"technology\", \"technology\", \"technology\", \"tecnologia\", \"telecommunications\", \"testing\", \"theoretical\", \"theory\", \"theory\", \"theory\", \"theory\", \"theory\", \"therapeutic\", \"therapeutic\", \"therapeutics\", \"therapeutics\", \"therapy\", \"therapy\", \"therapy\", \"therapy\", \"therapy\", \"thermal\", \"thoracic\", \"thought\", \"thrombosis\", \"tissue\", \"tobacco\", \"today\", \"topics\", \"topics\", \"topics\", \"topology\", \"tourism\", \"toxicological\", \"toxicology\", \"toxicology\", \"toxicology\", \"toxicology\", \"traffic\", \"transactions\", \"transactions\", \"transactions\", \"transactions\", \"transactions\", \"transactions\", \"transactions\", \"transactions\", \"transactions\", \"transactions\", \"transfer\", \"transfusion\", \"translation\", \"translational\", \"translational\", \"transplantation\", \"transplantation\", \"transplantation\", \"transport\", \"transportation\", \"trauma\", \"travail\", \"treatment\", \"trends\", \"tribology\", \"tropical\", \"turkish\", \"ultrasonics\", \"ultrasound\", \"und\", \"united\", \"university\", \"urban\", \"urban\", \"urology\", \"user\", \"user\", \"value\", \"vascular\", \"ve\", \"veterinaria\", \"veterinary\", \"veterinary\", \"veterinary\", \"vibration\", \"violence\", \"virology\", \"vision\", \"visual\", \"war\", \"washington\", \"waste\", \"waste\", \"water\", \"water\", \"waves\", \"weather\", \"web\", \"west\", \"western\", \"western\", \"wildlife\", \"wireless\", \"women\", \"womens\", \"wood\", \"work\", \"work\", \"world\", \"wound\", \"y\", \"y\", \"young\", \"za\", \"zealand\", \"zeitschrift\", \"zhurnal\", \"zoological\", \"zoology\", \"zoology\"]}, \"R\": 30, \"lambda.step\": 0.01, \"plot.opts\": {\"xlab\": \"PC1\", \"ylab\": \"PC2\"}, \"topic.order\": [4, 2, 20, 8, 12, 3, 11, 19, 7, 15, 6, 16, 17, 10, 1, 5, 9, 13, 14, 18]};\n",
              "\n",
              "function LDAvis_load_lib(url, callback){\n",
              "  var s = document.createElement('script');\n",
              "  s.src = url;\n",
              "  s.async = true;\n",
              "  s.onreadystatechange = s.onload = callback;\n",
              "  s.onerror = function(){console.warn(\"failed to load library \" + url);};\n",
              "  document.getElementsByTagName(\"head\")[0].appendChild(s);\n",
              "}\n",
              "\n",
              "if(typeof(LDAvis) !== \"undefined\"){\n",
              "   // already loaded: just create the visualization\n",
              "   !function(LDAvis){\n",
              "       new LDAvis(\"#\" + \"ldavis_el7413965010717015290646351\", ldavis_el7413965010717015290646351_data);\n",
              "   }(LDAvis);\n",
              "}else if(typeof define === \"function\" && define.amd){\n",
              "   // require.js is available: use it to load d3/LDAvis\n",
              "   require.config({paths: {d3: \"https://cdnjs.cloudflare.com/ajax/libs/d3/3.5.5/d3.min\"}});\n",
              "   require([\"d3\"], function(d3){\n",
              "      window.d3 = d3;\n",
              "      LDAvis_load_lib(\"https://cdn.rawgit.com/bmabey/pyLDAvis/files/ldavis.v1.0.0.js\", function(){\n",
              "        new LDAvis(\"#\" + \"ldavis_el7413965010717015290646351\", ldavis_el7413965010717015290646351_data);\n",
              "      });\n",
              "    });\n",
              "}else{\n",
              "    // require.js not available: dynamically load d3 & LDAvis\n",
              "    LDAvis_load_lib(\"https://cdnjs.cloudflare.com/ajax/libs/d3/3.5.5/d3.min.js\", function(){\n",
              "         LDAvis_load_lib(\"https://cdn.rawgit.com/bmabey/pyLDAvis/files/ldavis.v1.0.0.js\", function(){\n",
              "                 new LDAvis(\"#\" + \"ldavis_el7413965010717015290646351\", ldavis_el7413965010717015290646351_data);\n",
              "            })\n",
              "         });\n",
              "}\n",
              "</script>"
            ],
            "text/plain": [
              "PreparedData(topic_coordinates=           Freq  cluster  topics         x         y\n",
              "topic                                               \n",
              "3      6.398425        1       1 -0.120195  0.082608\n",
              "1      6.246360        1       2  0.218854  0.163016\n",
              "19     6.014769        1       3 -0.104911  0.129646\n",
              "7      5.854873        1       4 -0.142906  0.085247\n",
              "11     5.713687        1       5  0.091805  0.024370\n",
              "2      5.487563        1       6  0.106932  0.148454\n",
              "10     5.434247        1       7 -0.062003  0.094451\n",
              "18     5.265355        1       8 -0.048654 -0.007887\n",
              "6      4.929148        1       9  0.047711 -0.078678\n",
              "14     4.786619        1      10 -0.033308 -0.016418\n",
              "5      4.730888        1      11  0.140641 -0.141813\n",
              "15     4.615487        1      12 -0.085104 -0.043782\n",
              "16     4.570151        1      13 -0.067433  0.062885\n",
              "9      4.564246        1      14 -0.054570 -0.063665\n",
              "0      4.498946        1      15 -0.109920 -0.103886\n",
              "4      4.358832        1      16  0.110341 -0.060709\n",
              "8      4.292309        1      17  0.014547 -0.080689\n",
              "12     4.267952        1      18  0.123986 -0.003890\n",
              "13     4.186926        1      19  0.000814 -0.018767\n",
              "17     3.783210        1      20 -0.026626 -0.170495, topic_info=     Category        Freq           Term       Total  loglift  logprob\n",
              "term                                                                  \n",
              "8     Default  653.000000       research  653.000000  30.0000  30.0000\n",
              "133   Default  551.000000        science  551.000000  29.0000  29.0000\n",
              "14    Default  351.000000         review  351.000000  28.0000  28.0000\n",
              "38    Default  201.000000        revista  201.000000  27.0000  27.0000\n",
              "34    Default  206.000000        society  206.000000  26.0000  26.0000\n",
              "19    Default  211.000000        studies  211.000000  25.0000  25.0000\n",
              "41    Default  283.000000       medicine  283.000000  24.0000  24.0000\n",
              "441   Default  193.000000         social  193.000000  23.0000  23.0000\n",
              "102   Default  220.000000     technology  220.000000  22.0000  22.0000\n",
              "379   Default  176.000000        reviews  176.000000  21.0000  21.0000\n",
              "121   Default  255.000000    engineering  255.000000  20.0000  20.0000\n",
              "427   Default  158.000000     psychology  158.000000  19.0000  19.0000\n",
              "126   Default  162.000000        physics  162.000000  18.0000  18.0000\n",
              "406   Default  155.000000      molecular  155.000000  17.0000  17.0000\n",
              "47    Default  144.000000      education  144.000000  16.0000  16.0000\n",
              "1     Default  159.000000      materials  159.000000  15.0000  15.0000\n",
              "2246  Default  104.000000    zeitschrift  104.000000  14.0000  14.0000\n",
              "139   Default  151.000000      chemistry  151.000000  13.0000  13.0000\n",
              "150   Default  220.000000         health  220.000000  12.0000  12.0000\n",
              "107   Default  111.000000   mathematical  111.000000  11.0000  11.0000\n",
              "1095  Default   97.000000            fur   97.000000  10.0000  10.0000\n",
              "368   Default  104.000000         policy  104.000000   9.0000   9.0000\n",
              "7     Default  106.000000      quarterly  106.000000   8.0000   8.0000\n",
              "77    Default  133.000000   transactions  133.000000   7.0000   7.0000\n",
              "136   Default  180.000000        biology  180.000000   6.0000   6.0000\n",
              "46    Default  185.000000     management  185.000000   5.0000   5.0000\n",
              "371   Default  115.000000            law  115.000000   4.0000   4.0000\n",
              "72    Default  140.000000        systems  140.000000   3.0000   3.0000\n",
              "1594  Default   80.000000          world   80.000000   2.0000   2.0000\n",
              "344   Default  192.000000       sciences  192.000000   1.0000   1.0000\n",
              "...       ...         ...            ...         ...      ...      ...\n",
              "1172  Topic20    9.288223     thrombosis   10.105341   3.1903  -4.9031\n",
              "686   Topic20    8.603413       pharmacy    9.420530   3.1839  -4.9797\n",
              "4622  Topic20    8.193380           nova    9.010498   3.1795  -5.0285\n",
              "1843  Topic20   43.241543          north   47.820129   3.1740  -3.3651\n",
              "719   Topic20    7.631130           lung    8.448247   3.1729  -5.0996\n",
              "864   Topic20    7.520010       clinique    8.337128   3.1714  -5.1143\n",
              "2098  Topic20    7.479617     linguistic    8.296735   3.1709  -5.1197\n",
              "1482  Topic20    6.574555        genetic    7.391672   3.1575  -5.2487\n",
              "687   Topic20   12.322392     hematology   13.916601   3.1529  -4.6205\n",
              "705   Topic20    6.022173   orthodontics    6.839290   3.1474  -5.3364\n",
              "3926  Topic20    8.517139     regulation    9.790884   3.1352  -4.9898\n",
              "333   Topic20    8.291452    veterinaria    9.549551   3.1333  -5.0166\n",
              "1539  Topic20    4.956285      ambiental    5.773402   3.1220  -5.5312\n",
              "3828  Topic20    4.679127     microscopy    5.496244   3.1136  -5.5888\n",
              "1777  Topic20   10.477914   neurobiology   12.329006   3.1119  -4.7826\n",
              "725   Topic20    4.458495     preventive    5.275612   3.1063  -5.6371\n",
              "2461  Topic20    4.091427         polska    4.908544   3.0925  -5.7230\n",
              "2278  Topic20    5.315610      endoscopy    6.401492   3.0887  -5.4612\n",
              "2147  Topic20    6.511776         growth    7.907190   3.0804  -5.2583\n",
              "4806  Topic20    3.613238  pharmacognosy    4.430356   3.0707  -5.8473\n",
              "709   Topic20    3.458448   perinatology    4.275566   3.0625  -5.8911\n",
              "2118  Topic20   12.717566        inquiry   15.816315   3.0565  -4.5889\n",
              "1636  Topic20    6.667970     geological    8.545910   3.0265  -5.2346\n",
              "4605  Topic20    5.305412        western    6.745170   3.0345  -5.4631\n",
              "418   Topic20   40.417637    development   92.268021   2.4492  -3.4326\n",
              "1100  Topic20    6.088320            des   12.107214   2.5872  -5.3255\n",
              "178   Topic20    8.462652             et   33.247849   1.9063  -4.9962\n",
              "14    Topic20   16.214420         review  351.225159   0.1991  -4.3460\n",
              "31    Topic20    9.082907       american   96.654076   0.9099  -4.9255\n",
              "406   Topic20    6.874882      molecular  155.919266   0.1531  -5.2040\n",
              "\n",
              "[882 rows x 6 columns], token_table=      Topic      Freq            Term\n",
              "term                                 \n",
              "676       4  0.945760           abuse\n",
              "44        4  0.892772         academy\n",
              "44       18  0.035711         academy\n",
              "2390     12  0.868318          access\n",
              "16        3  0.821581      accounting\n",
              "16        8  0.058684      accounting\n",
              "157       2  0.027423            acta\n",
              "157       5  0.027423            acta\n",
              "157       7  0.137114            acta\n",
              "157      11  0.054846            acta\n",
              "157      12  0.027423            acta\n",
              "157      14  0.109691            acta\n",
              "157      17  0.438765            acta\n",
              "157      19  0.054846            acta\n",
              "157      20  0.027423            acta\n",
              "346      13  0.901935          action\n",
              "366      12  0.130330  administration\n",
              "366      13  0.716814  administration\n",
              "370      12  0.911783  administrative\n",
              "501      10  0.873171         affairs\n",
              "501      12  0.079379         affairs\n",
              "1963     13  0.839422       affective\n",
              "502       4  0.839546         african\n",
              "502       6  0.015264         african\n",
              "502      19  0.106851         african\n",
              "527      14  0.884754           aging\n",
              "535       6  0.407251    agricultural\n",
              "535       7  0.181000    agricultural\n",
              "535       8  0.226251    agricultural\n",
              "535      14  0.045250    agricultural\n",
              "...     ...       ...             ...\n",
              "2874     15  0.894054      washington\n",
              "3813      7  0.096988           waste\n",
              "3813     13  0.775900           waste\n",
              "481       4  0.239717           water\n",
              "481       7  0.749114           water\n",
              "1991      8  0.870253           waves\n",
              "3997     15  0.936427         weather\n",
              "124      14  0.962669             web\n",
              "4654     19  0.814566            west\n",
              "4605     18  0.148254         western\n",
              "4605     20  0.741271         western\n",
              "517       3  0.957174        wildlife\n",
              "363      17  0.921850        wireless\n",
              "497      16  0.925503           women\n",
              "1128     14  0.868271          womens\n",
              "2600      6  0.881543            wood\n",
              "498      10  0.940642            work\n",
              "498      13  0.028504            work\n",
              "1594      7  0.990631           world\n",
              "473      13  0.940024           wound\n",
              "1538     10  0.961519               y\n",
              "1538     20  0.022361               y\n",
              "1738     15  0.914590           young\n",
              "1151      1  0.895489              za\n",
              "1261      4  0.902277         zealand\n",
              "2246      8  0.996869     zeitschrift\n",
              "4993     17  0.906162         zhurnal\n",
              "2609      6  0.954020      zoological\n",
              "520      17  0.039274         zoology\n",
              "520      18  0.942583         zoology\n",
              "\n",
              "[1503 rows x 3 columns], R=30, lambda_step=0.01, plot_opts={'xlab': 'PC1', 'ylab': 'PC2'}, topic_order=[4, 2, 20, 8, 12, 3, 11, 19, 7, 15, 6, 16, 17, 10, 1, 5, 9, 13, 14, 18])"
            ]
          },
          "metadata": {
            "tags": []
          },
          "execution_count": 55
        }
      ]
    },
    {
      "metadata": {
        "id": "lmWZ1mwQ54rm",
        "colab_type": "code",
        "colab": {
          "base_uri": "https://localhost:8080/",
          "height": 34
        },
        "outputId": "7a5174b7-f2d1-4a4c-d449-be1f0800c2b1"
      },
      "cell_type": "code",
      "source": [
        "from gensim.models import CoherenceModel\n",
        "lda_cm=CoherenceModel(model=lda,corpus=journals_corpus,dictionary=journals_dictionary,texts= journals['Full title'],coherence='c_v')\n",
        "LDA_cm=lda_cm.get_coherence()\n",
        "LDA_cm"
      ],
      "execution_count": 56,
      "outputs": [
        {
          "output_type": "execute_result",
          "data": {
            "text/plain": [
              "0.6518449165465334"
            ]
          },
          "metadata": {
            "tags": []
          },
          "execution_count": 56
        }
      ]
    },
    {
      "metadata": {
        "id": "Nb338Jn0Rs9K",
        "colab_type": "code",
        "colab": {}
      },
      "cell_type": "code",
      "source": [
        "from gensim.models.lsimodel import LsiModel"
      ],
      "execution_count": 0,
      "outputs": []
    },
    {
      "metadata": {
        "id": "hKLKkVhpRyRp",
        "colab_type": "code",
        "colab": {}
      },
      "cell_type": "code",
      "source": [
        "lsi = LsiModel(corpus=journals_corpus,id2word=journals_dictionary,num_topics=20)"
      ],
      "execution_count": 0,
      "outputs": []
    },
    {
      "metadata": {
        "id": "RzLd8ohMd1DF",
        "colab_type": "code",
        "colab": {
          "base_uri": "https://localhost:8080/",
          "height": 389
        },
        "outputId": "9c63113c-60d1-4e45-d13b-2889b5eb953a"
      },
      "cell_type": "code",
      "source": [
        "lsi_topics = lsi.print_topics()\n",
        "for topic in lsi_topics:\n",
        "  print(topic)"
      ],
      "execution_count": 59,
      "outputs": [
        {
          "output_type": "stream",
          "text": [
            "(0, '-0.691*\"research\" + -0.614*\"international\" + -0.249*\"science\" + -0.114*\"review\" + -0.092*\"technology\" + -0.092*\"engineering\" + -0.079*\"health\" + -0.055*\"management\" + -0.047*\"materials\" + -0.047*\"clinical\"')\n",
            "(1, '-0.704*\"research\" + 0.659*\"international\" + 0.209*\"science\" + 0.075*\"engineering\" + 0.064*\"review\" + 0.058*\"technology\" + 0.031*\"management\" + 0.031*\"law\" + 0.028*\"systems\" + 0.026*\"studies\"')\n",
            "(2, '-0.874*\"science\" + 0.377*\"international\" + -0.218*\"technology\" + -0.122*\"engineering\" + -0.083*\"materials\" + 0.055*\"research\" + -0.039*\"transactions\" + -0.039*\"environmental\" + -0.037*\"food\" + -0.031*\"political\"')\n",
            "(3, '0.910*\"review\" + 0.170*\"law\" + -0.143*\"international\" + 0.138*\"european\" + 0.124*\"annual\" + 0.091*\"economic\" + 0.091*\"american\" + 0.087*\"psychology\" + 0.082*\"economics\" + 0.066*\"health\"')\n",
            "(4, '0.881*\"engineering\" + -0.213*\"science\" + 0.188*\"transactions\" + 0.131*\"ieee\" + 0.110*\"systems\" + 0.105*\"chemical\" + 0.103*\"sciences\" + -0.097*\"international\" + 0.086*\"medicine\" + 0.081*\"society\"')\n",
            "(5, '0.751*\"medicine\" + 0.384*\"health\" + 0.212*\"american\" + 0.193*\"biology\" + -0.186*\"review\" + 0.166*\"clinical\" + -0.163*\"engineering\" + 0.111*\"molecular\" + 0.100*\"society\" + 0.085*\"european\"')\n",
            "(6, '0.811*\"health\" + -0.419*\"medicine\" + -0.152*\"biology\" + 0.120*\"public\" + 0.115*\"environmental\" + 0.115*\"management\" + -0.114*\"clinical\" + 0.093*\"policy\" + -0.084*\"molecular\" + 0.084*\"mental\"')\n",
            "(7, '0.551*\"transactions\" + 0.471*\"ieee\" + 0.365*\"systems\" + -0.302*\"engineering\" + 0.262*\"society\" + -0.172*\"health\" + 0.158*\"american\" + 0.157*\"technology\" + 0.112*\"sciences\" + -0.104*\"medicine\"')\n",
            "(8, '0.488*\"sciences\" + 0.356*\"society\" + 0.322*\"american\" + -0.276*\"medicine\" + 0.218*\"applied\" + -0.210*\"ieee\" + -0.202*\"transactions\" + 0.198*\"clinical\" + -0.192*\"systems\" + 0.162*\"physics\"')\n",
            "(9, '-0.526*\"clinical\" + -0.344*\"applied\" + 0.339*\"american\" + -0.330*\"chemistry\" + 0.317*\"society\" + -0.225*\"european\" + -0.190*\"physics\" + -0.176*\"psychology\" + 0.165*\"sciences\" + 0.148*\"medicine\"')\n",
            "(10, '0.618*\"clinical\" + -0.381*\"sciences\" + 0.351*\"american\" + -0.263*\"chemistry\" + -0.219*\"biology\" + -0.202*\"physics\" + -0.189*\"applied\" + 0.175*\"society\" + -0.108*\"european\" + 0.104*\"psychology\"')\n",
            "(11, '-0.652*\"sciences\" + 0.338*\"american\" + 0.311*\"chemistry\" + -0.295*\"clinical\" + 0.241*\"society\" + 0.236*\"applied\" + 0.196*\"physics\" + 0.156*\"biology\" + 0.088*\"technology\" + -0.080*\"systems\"')\n",
            "(12, '0.757*\"european\" + 0.422*\"studies\" + 0.203*\"management\" + -0.179*\"applied\" + -0.159*\"biology\" + 0.143*\"technology\" + -0.122*\"review\" + -0.112*\"clinical\" + 0.105*\"education\" + -0.097*\"sciences\"')\n",
            "(13, '0.542*\"biology\" + -0.542*\"applied\" + 0.294*\"technology\" + -0.218*\"medicine\" + 0.216*\"chemistry\" + 0.214*\"molecular\" + 0.151*\"clinical\" + 0.148*\"management\" + -0.132*\"mathematics\" + 0.107*\"cell\"')\n",
            "(14, '0.526*\"biology\" + -0.511*\"chemistry\" + -0.337*\"technology\" + 0.309*\"studies\" + 0.224*\"molecular\" + 0.221*\"applied\" + -0.177*\"medicine\" + 0.110*\"cell\" + -0.100*\"society\" + -0.087*\"physics\"')\n",
            "(15, '0.750*\"studies\" + -0.391*\"european\" + 0.328*\"chemistry\" + -0.214*\"applied\" + -0.146*\"society\" + -0.131*\"technology\" + -0.105*\"management\" + -0.089*\"psychology\" + 0.082*\"education\" + -0.079*\"biology\"')\n",
            "(16, '0.621*\"technology\" + 0.416*\"management\" + 0.321*\"applied\" + -0.315*\"european\" + 0.220*\"studies\" + -0.216*\"chemistry\" + -0.155*\"science\" + -0.120*\"ieee\" + -0.119*\"transactions\" + -0.093*\"materials\"')\n",
            "(17, '0.770*\"management\" + -0.416*\"technology\" + 0.230*\"american\" + -0.173*\"society\" + 0.156*\"chemistry\" + -0.138*\"studies\" + 0.134*\"systems\" + -0.118*\"health\" + 0.095*\"science\" + -0.081*\"biology\"')\n",
            "(18, '0.625*\"society\" + -0.571*\"american\" + -0.237*\"technology\" + 0.210*\"management\" + -0.163*\"materials\" + -0.139*\"medical\" + -0.131*\"sciences\" + -0.128*\"european\" + 0.127*\"mathematical\" + -0.092*\"association\"')\n",
            "(19, '0.763*\"materials\" + 0.377*\"physics\" + -0.279*\"chemistry\" + -0.233*\"psychology\" + -0.153*\"applied\" + 0.116*\"management\" + -0.105*\"social\" + 0.104*\"clinical\" + 0.093*\"advanced\" + -0.076*\"systems\"')\n"
          ],
          "name": "stdout"
        }
      ]
    },
    {
      "metadata": {
        "id": "mSkNy7AOSEdl",
        "colab_type": "code",
        "colab": {
          "base_uri": "https://localhost:8080/",
          "height": 34
        },
        "outputId": "e3247c28-1b66-4b82-acb6-8fa321695206"
      },
      "cell_type": "code",
      "source": [
        "test_doc = 'Journal of medicines and herbs'\n",
        "test_doc = custom_preprocess(test_doc)\n",
        "test_doc_bow = journals_dictionary.doc2bow(test_doc)\n",
        "print(test_doc_bow)"
      ],
      "execution_count": 60,
      "outputs": [
        {
          "output_type": "stream",
          "text": [
            "[(1865, 1)]\n"
          ],
          "name": "stdout"
        }
      ]
    },
    {
      "metadata": {
        "id": "AAroMH_xc4Gi",
        "colab_type": "code",
        "colab": {
          "base_uri": "https://localhost:8080/",
          "height": 54
        },
        "outputId": "513994b0-bab7-49e3-8665-c4768e6b2c29"
      },
      "cell_type": "code",
      "source": [
        "print(lsi[test_doc_bow])"
      ],
      "execution_count": 61,
      "outputs": [
        {
          "output_type": "stream",
          "text": [
            "[(0, -1.885618626115403e-05), (1, -7.556293423728867e-06), (2, -1.1476296586228168e-05), (3, 2.4007738904498662e-05), (4, 9.058533324637886e-06), (5, 9.979928611172531e-06), (6, -3.9493889378303144e-05), (7, -7.022946333038995e-05), (8, 4.6945237906171094e-05), (9, 8.369990252384416e-06), (10, -3.63339632331654e-05), (11, -4.3118491395689747e-05), (12, -9.23643826695076e-05), (13, -3.3408478716014464e-05), (14, -0.00015047021635397227), (15, 0.00022345569542641384), (16, -4.096643763960775e-05), (17, 4.1932438249685746e-05), (18, 7.733676154379446e-05), (19, -9.444759454767056e-05)]\n"
          ],
          "name": "stdout"
        }
      ]
    },
    {
      "metadata": {
        "id": "-PiFnYXtm0Yi",
        "colab_type": "code",
        "colab": {
          "base_uri": "https://localhost:8080/",
          "height": 34
        },
        "outputId": "31105409-a7d3-4934-adb9-5a20d6e08dd3"
      },
      "cell_type": "code",
      "source": [
        "test_doc2 = 'Material and physics'\n",
        "test_doc2 = custom_preprocess(test_doc2)\n",
        "test_doc_bow2 = journals_dictionary.doc2bow(test_doc2)\n",
        "print(test_doc_bow2)"
      ],
      "execution_count": 62,
      "outputs": [
        {
          "output_type": "stream",
          "text": [
            "[(126, 1), (3354, 1)]\n"
          ],
          "name": "stdout"
        }
      ]
    },
    {
      "metadata": {
        "id": "_8NVRTrwm-UK",
        "colab_type": "code",
        "colab": {
          "base_uri": "https://localhost:8080/",
          "height": 54
        },
        "outputId": "80cc9caa-1280-46e4-8728-a56e24b34599"
      },
      "cell_type": "code",
      "source": [
        "print(lsi[test_doc_bow2])"
      ],
      "execution_count": 63,
      "outputs": [
        {
          "output_type": "stream",
          "text": [
            "[(0, -0.025868885308387837), (1, 0.012124891762579464), (2, -0.009475421380795228), (3, 0.020725363133262443), (4, 0.027571948619467147), (5, 0.04224930506901454), (6, -0.026931072238533728), (7, 0.04583248001464995), (8, 0.16129600506355513), (9, -0.19041654825044488), (10, -0.20209498366301704), (11, 0.19565354571791257), (12, -0.09170714103499128), (13, -0.07054888572709397), (14, -0.08625363396541753), (15, 0.02833496803784554), (16, 0.0280858923601745), (17, 0.006604630270058122), (18, 0.06594374134402312), (19, 0.37685627723878184)]\n"
          ],
          "name": "stdout"
        }
      ]
    },
    {
      "metadata": {
        "id": "NCAUiqF2-eIf",
        "colab_type": "code",
        "colab": {
          "base_uri": "https://localhost:8080/",
          "height": 34
        },
        "outputId": "df49f331-8803-4010-cd10-3696fc019355"
      },
      "cell_type": "code",
      "source": [
        "lsi_cm=CoherenceModel(model=lsi,corpus=journals_corpus,dictionary=journals_dictionary,texts= journals['Full title'],coherence='c_v')\n",
        "LSI_cm=lsi_cm.get_coherence()\n",
        "LSI_cm"
      ],
      "execution_count": 64,
      "outputs": [
        {
          "output_type": "execute_result",
          "data": {
            "text/plain": [
              "0.45634852043376506"
            ]
          },
          "metadata": {
            "tags": []
          },
          "execution_count": 64
        }
      ]
    },
    {
      "metadata": {
        "id": "y5u59CtKsh-S",
        "colab_type": "code",
        "colab": {}
      },
      "cell_type": "code",
      "source": [
        "from gensim.models.hdpmodel import HdpModel"
      ],
      "execution_count": 0,
      "outputs": []
    },
    {
      "metadata": {
        "id": "PzvZ5hJPsp9C",
        "colab_type": "code",
        "colab": {}
      },
      "cell_type": "code",
      "source": [
        "hdp = HdpModel(corpus=journals_corpus,id2word=journals_dictionary)"
      ],
      "execution_count": 0,
      "outputs": []
    },
    {
      "metadata": {
        "id": "QlFek47is8q2",
        "colab_type": "code",
        "colab": {
          "base_uri": "https://localhost:8080/",
          "height": 369
        },
        "outputId": "3e4f5d99-5dbe-40fe-a6ae-b8c5e1848804"
      },
      "cell_type": "code",
      "source": [
        "hdp_topics = hdp.print_topics()\n",
        "for topic in hdp_topics:\n",
        "  print(topic)"
      ],
      "execution_count": 67,
      "outputs": [
        {
          "output_type": "stream",
          "text": [
            "(0, '0.001*latina + 0.001*enzymology + 0.001*reduction + 0.001*bildgebenden + 0.001*assurance + 0.001*fitotecnia + 0.001*gesundheitspsychologie + 0.001*papers + 0.001*urinary + 0.001*ginseng')\n",
            "(1, '0.001*reports + 0.001*movimento + 0.001*spin + 0.001*archivos + 0.001*secure + 0.001*contraception + 0.001*venereologie + 0.001*studies + 0.001*argumentation + 0.001*hepato')\n",
            "(2, '0.001*ankara + 0.001*science + 0.001*seizure + 0.001*para + 0.001*signalling + 0.001*osterreichischen + 0.001*vjesnik + 0.001*lecture + 0.001*parasitology + 0.001*radiotherapy')\n",
            "(3, '0.002*instructional + 0.001*hand + 0.001*matematik + 0.001*management + 0.001*adansonia + 0.001*glycobiology + 0.001*universe + 0.001*paleontologia + 0.001*graphics + 0.001*phytopathologia')\n",
            "(4, '0.001*fourier + 0.001*estonian + 0.001*caribbean + 0.001*genetika + 0.001*mens + 0.001*allelopathy + 0.001*neuroscientist + 0.001*kyklos + 0.001*hippokratia + 0.001*contaminacion')\n",
            "(5, '0.001*seizure + 0.001*fishery + 0.001*sur + 0.001*cahiers + 0.001*solids + 0.001*elementa + 0.001*integral + 0.001*yonsei + 0.001*personalized + 0.001*boletin')\n",
            "(6, '0.002*research + 0.001*games + 0.001*oggi + 0.001*manchester + 0.001*materials + 0.001*anticancer + 0.001*plus + 0.001*thorax + 0.001*radiologia + 0.001*preslia')\n",
            "(7, '0.002*notarzt + 0.001*himalayan + 0.001*primers + 0.001*cryptologia + 0.001*onomastics + 0.001*hamburg + 0.001*indian + 0.001*arvore + 0.001*astronautica + 0.001*insurance')\n",
            "(8, '0.002*venereologia + 0.002*larynx + 0.001*jama + 0.001*discrete + 0.001*forensics + 0.001*napoca + 0.001*scientists + 0.001*microstructures + 0.001*geoenvironmental + 0.001*case')\n",
            "(9, '0.002*neoplasma + 0.001*physica + 0.001*respiratoires + 0.001*graphs + 0.001*mediterranean + 0.001*principles + 0.001*histopathology + 0.001*paleontologie + 0.001*chemistryselect + 0.001*chirurg')\n",
            "(10, '0.002*hong + 0.001*des + 0.001*mineralium + 0.001*irbm + 0.001*built + 0.001*kyklos + 0.001*cardiovascular + 0.001*bernoulli + 0.001*signals + 0.001*survey')\n",
            "(11, '0.001*fakulteta + 0.001*empirical + 0.001*air + 0.001*imaging + 0.001*universitat + 0.001*transactions + 0.001*vasa + 0.001*dissent + 0.001*sigcomm + 0.001*nuncius')\n",
            "(12, '0.002*gerontological + 0.001*paulo + 0.001*fundamenta + 0.001*optimal + 0.001*odonatologica + 0.001*mediated + 0.001*methodological + 0.001*geoscientific + 0.001*microdevices + 0.001*rhodora')\n",
            "(13, '0.002*brno + 0.002*aquacultural + 0.001*history + 0.001*excli + 0.001*temperatures + 0.001*microwave + 0.001*kieferorthopadie + 0.001*bulgarica + 0.001*legume + 0.001*adriatica')\n",
            "(14, '0.002*restaurator + 0.001*astronomy + 0.001*sigcomm + 0.001*intelligencer + 0.001*gems + 0.001*chemical + 0.001*drug + 0.001*soil + 0.001*lie + 0.001*myrmecological')\n",
            "(15, '0.002*living + 0.001*solutions + 0.001*ionics + 0.001*politiques + 0.001*designed + 0.001*interdisciplinary + 0.001*gerontologist + 0.001*bulgare + 0.001*semigroup + 0.001*ieee')\n",
            "(16, '0.002*adaptive + 0.001*prosthetics + 0.001*millennium + 0.001*review + 0.001*fertilite + 0.001*biomass + 0.001*biologically + 0.001*enteral + 0.001*infancia + 0.001*bamidgeh')\n",
            "(17, '0.002*neuroethics + 0.001*george + 0.001*mediterranean + 0.001*cheminformatics + 0.001*obesity + 0.001*st + 0.001*elder + 0.001*optik + 0.001*pharmacogenetics + 0.001*magnetic')\n",
            "(18, '0.002*agricultures + 0.001*support + 0.001*specialists + 0.001*archaeology + 0.001*melanoma + 0.001*environment + 0.001*hydrogeology + 0.001*rechtsmedizin + 0.001*fur + 0.001*arthritis')\n",
            "(19, '0.002*bionic + 0.002*dergi + 0.001*international + 0.001*matematico + 0.001*protocols + 0.001*neotropical + 0.001*conservation + 0.001*cybium + 0.001*laeknabladid + 0.001*theory')\n"
          ],
          "name": "stdout"
        }
      ]
    },
    {
      "metadata": {
        "id": "G7aod66StLlp",
        "colab_type": "code",
        "colab": {
          "base_uri": "https://localhost:8080/",
          "height": 34
        },
        "outputId": "c0fe9239-f47b-4278-db84-eedbb4978b4b"
      },
      "cell_type": "code",
      "source": [
        "test_doc = 'Journal of medicines and herbs'\n",
        "test_doc = custom_preprocess(test_doc)\n",
        "test_doc_bow = journals_dictionary.doc2bow(test_doc)\n",
        "print(test_doc_bow)"
      ],
      "execution_count": 68,
      "outputs": [
        {
          "output_type": "stream",
          "text": [
            "[(1865, 1)]\n"
          ],
          "name": "stdout"
        }
      ]
    },
    {
      "metadata": {
        "id": "hvxNU8aGtRZA",
        "colab_type": "code",
        "colab": {
          "base_uri": "https://localhost:8080/",
          "height": 34
        },
        "outputId": "5e2a1713-714c-4c96-f96a-22f378d9b5fa"
      },
      "cell_type": "code",
      "source": [
        "print(hdp[test_doc_bow])"
      ],
      "execution_count": 69,
      "outputs": [
        {
          "output_type": "stream",
          "text": [
            "[(102, 0.5033501067684076)]\n"
          ],
          "name": "stdout"
        }
      ]
    },
    {
      "metadata": {
        "id": "T4IrrTsLter6",
        "colab_type": "code",
        "colab": {
          "base_uri": "https://localhost:8080/",
          "height": 34
        },
        "outputId": "eeff7ce7-e6d8-4059-8a4e-06379d8849fb"
      },
      "cell_type": "code",
      "source": [
        "test_doc2 = 'Material and physics'\n",
        "test_doc2 = custom_preprocess(test_doc2)\n",
        "test_doc_bow2 = journals_dictionary.doc2bow(test_doc2)\n",
        "print(test_doc_bow2)"
      ],
      "execution_count": 70,
      "outputs": [
        {
          "output_type": "stream",
          "text": [
            "[(126, 1), (3354, 1)]\n"
          ],
          "name": "stdout"
        }
      ]
    },
    {
      "metadata": {
        "id": "4BBGJR8Itivt",
        "colab_type": "code",
        "colab": {
          "base_uri": "https://localhost:8080/",
          "height": 34
        },
        "outputId": "1be06dd9-8898-4609-ea22-49bef2d2e022"
      },
      "cell_type": "code",
      "source": [
        "print(hdp[test_doc_bow2])"
      ],
      "execution_count": 71,
      "outputs": [
        {
          "output_type": "stream",
          "text": [
            "[(61, 0.6690903764435027)]\n"
          ],
          "name": "stdout"
        }
      ]
    },
    {
      "metadata": {
        "id": "CSv6n_so-mnl",
        "colab_type": "code",
        "colab": {
          "base_uri": "https://localhost:8080/",
          "height": 34
        },
        "outputId": "735a9122-3a44-4c75-d91a-3100bbf06d5a"
      },
      "cell_type": "code",
      "source": [
        "hdp_cm=CoherenceModel(model=hdp,corpus=journals_corpus,dictionary=journals_dictionary,texts= journals['Full title'],coherence='c_v')\n",
        "HDP_cm=hdp_cm.get_coherence()\n",
        "HDP_cm"
      ],
      "execution_count": 72,
      "outputs": [
        {
          "output_type": "execute_result",
          "data": {
            "text/plain": [
              "0.7233592459579684"
            ]
          },
          "metadata": {
            "tags": []
          },
          "execution_count": 72
        }
      ]
    },
    {
      "metadata": {
        "id": "pwh90FwAJVre",
        "colab_type": "code",
        "colab": {}
      },
      "cell_type": "code",
      "source": [
        "coherence = {'LDA_cm':0.6518,'LSI_cm':0.4763,'HDP_cm':0.7234}"
      ],
      "execution_count": 0,
      "outputs": []
    },
    {
      "metadata": {
        "id": "AGC7HHnJKxkI",
        "colab_type": "code",
        "colab": {
          "base_uri": "https://localhost:8080/",
          "height": 376
        },
        "outputId": "d1ad5c87-a104-4657-b69f-6dfd054a7f29"
      },
      "cell_type": "code",
      "source": [
        "import matplotlib.pyplot as plt\n",
        "coherence_value = list(coherence.values())\n",
        "model_name = list(coherence.keys())\n",
        "plt.bar(range(len(model_name)),coherence_value,tick_label=model_name)\n",
        "plt.title('A barchart showing the coherence of topic modelleing algorithms')\n",
        "plt.xlabel('Model name')\n",
        "plt.ylabel('Model coherence(c_v)')\n",
        "plt.show()"
      ],
      "execution_count": 74,
      "outputs": [
        {
          "output_type": "display_data",
          "data": {
            "image/png": "[encoded data removed]",
            "text/plain": [
              "<Figure size 576x396 with 1 Axes>"
            ]
          },
          "metadata": {
            "tags": []
          }
        }
      ]
    }
  ]
}